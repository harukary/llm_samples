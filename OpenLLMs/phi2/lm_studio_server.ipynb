{
 "cells": [
  {
   "cell_type": "code",
   "execution_count": 7,
   "metadata": {},
   "outputs": [
    {
     "name": "stdout",
     "output_type": "stream",
     "text": [
      "{\n",
      "\"name\": \"Potato\",\n",
      "\"scientific_name\": \"Solanum tuberosum\",\n",
      "\"common_names\": [\"spud\", \"potatoe\"],\n",
      "\"family\": \"Solanaceae\",\n",
      "\"part_of_plant\": \"Root\",\n",
      "\"color\": \"Brown to purple skin, white flesh\",\n",
      "\"texture\": \"Dense and starchy\",\n",
      "\"taste\": \"Sweet and earthy\",\n",
      "\"nutritional_value\": {\n",
      "\"calories\": 77,\n",
      "\"carbohydrates\": 13.6g,\n",
      "\"protein\": 2.6g,\n",
      "\"fat\": 0.4g,\n",
      "\"vitamin_C\": 14% of the RDI (recommended daily intake),\n",
      "\"potassium\": 10% of the RDI,\n",
      "\"fiber\": 3.1g,\n",
      "\"sodium\": 1mg,\n",
      "\"calcium\": 2mg,\n",
      "\"iron\": 0.3mg,\n",
      "\"vitamin_B6\": 6% of the RDI,\n",
      "\"magnesium\": 5% of the RDI,\n",
      "\"phosphorus\": 4% of the RDI,\n",
      "\"zinc\": 3% of the RDI,\n",
      "\"copper\": 2% of the RDI,\n",
      "\"manganese\": 6% of the RDI,\n",
      "\"niacin\": 5% of the RDI,\n",
      "\"folate\": 4% of the RDI,\n",
      "\"vitamin_A\": negligible,\n",
      "\"vitamin_D\": negligible,\n",
      "\"vitamin_E\": negligible,\n",
      "\"vitamin_K\": negligible,\n",
      "\"antioxidants\": \"Potatoes are a good source of antioxidants such as vitamin C and carotenoids like lutein and zeaxanthin\",\n",
      "},\n",
      "\"cooking_methods\": [\n",
      "\"Boiling\",\n",
      "\"Baking\",\n",
      "\"Frying\",\n",
      "\"Mashing\",\n",
      "\"Roasting\",\n",
      "\"Grilling\",\n",
      "\"Sauteing\",\n",
      "\"Steaming\",\n",
      "\"Microwaving\",\n",
      "],\n",
      "\"health_benefits\": [\n",
      "\"Good source of carbohydrates for energy\",\n",
      "\"Contains potassium, which helps regulate blood pressure and heart function\",\n",
      "\"Rich in vitamin C, which supports the immune system\",\n",
      "\"Supports healthy digestion due to its fiber content\",\n",
      "\"May help reduce the risk of certain cancers due to its antioxidant properties\",\n",
      "],\n",
      "\"health_risks\": [\n",
      "\"High in carbohydrates and calories, so should be consumed in moderation as part of a balanced diet\",\n",
      "\"Potatoes contain solanine, a toxic compound that can cause nausea, vomiting, and diarrhea if consumed in large amounts or when the potatoes are green or sprouting\",\n",
      "],\n",
      "}\n",
      "This json response provides information about the nutrition of potatoes. It includes details such as the scientific name, common names, part of plant, color, texture, taste, nutritional value, cooking methods, health benefits, and potential health risks associated with consuming potatoes. The nutritional value section lists the calories, carbohydrates, protein, fat, vitamins, minerals, and other nutrients found in one medium-sized potato (about 100g). The cooking methods section lists various ways to prepare potatoes, while the health benefits and risks sections provide information about the positive and negative effects of consuming potatoes on overall health.\n"
     ]
    }
   ],
   "source": [
    "# Example: reuse your existing OpenAI setup\n",
    "from openai import OpenAI\n",
    "\n",
    "# Point to the local server\n",
    "client_local = OpenAI(base_url=\"http://localhost:1234/v1\", api_key=\"not-needed\")\n",
    "\n",
    "completion = client_local.chat.completions.create(\n",
    "  model=\"local-model\", # this field is currently unused\n",
    "  messages=[\n",
    "    {\"role\": \"system\", \"content\": \"Always answer in json format.\"},\n",
    "    {\"role\": \"user\", \"content\": \"Tell me about nutrition of potatoes in json.\"}\n",
    "  ],\n",
    "  temperature=0.,\n",
    ")\n",
    "\n",
    "print(completion.choices[0].message.content)"
   ]
  },
  {
   "cell_type": "code",
   "execution_count": 6,
   "metadata": {},
   "outputs": [
    {
     "name": "stdout",
     "output_type": "stream",
     "text": [
      "{\n",
      "  \"nutrition\": {\n",
      "    \"calories\": 130,\n",
      "    \"carbohydrates\": 30,\n",
      "    \"protein\": 2,\n",
      "    \"fat\": 0,\n",
      "    \"fiber\": 3,\n",
      "    \"vitaminC\": 27,\n",
      "    \"potassium\": 620\n",
      "  }\n",
      "}\n"
     ]
    }
   ],
   "source": [
    "from dotenv import find_dotenv, load_dotenv; load_dotenv(find_dotenv())\n",
    "\n",
    "client = OpenAI()\n",
    "\n",
    "completion = client.chat.completions.create(\n",
    "  model=\"gpt-3.5-turbo\",\n",
    "  messages=[\n",
    "    {\"role\": \"system\", \"content\": \"Always answer in json format.\"},\n",
    "    {\"role\": \"user\", \"content\": \"Tell me about nutrition of potatoes in json.\"}\n",
    "  ],\n",
    "  temperature=0.,\n",
    ")\n",
    "\n",
    "print(completion.choices[0].message.content)"
   ]
  }
 ],
 "metadata": {
  "kernelspec": {
   "display_name": ".venv",
   "language": "python",
   "name": "python3"
  },
  "language_info": {
   "codemirror_mode": {
    "name": "ipython",
    "version": 3
   },
   "file_extension": ".py",
   "mimetype": "text/x-python",
   "name": "python",
   "nbconvert_exporter": "python",
   "pygments_lexer": "ipython3",
   "version": "3.10.13"
  }
 },
 "nbformat": 4,
 "nbformat_minor": 2
}

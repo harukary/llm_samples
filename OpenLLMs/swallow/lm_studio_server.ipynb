{
 "cells": [
  {
   "cell_type": "code",
   "execution_count": 12,
   "metadata": {},
   "outputs": [
    {
     "name": "stdout",
     "output_type": "stream",
     "text": [
      "ジャガイモは、ビタミンCとカリウムが豊富な野菜です。また、食物繊維も多く含まれています。\n"
     ]
    }
   ],
   "source": [
    "# Example: reuse your existing OpenAI setup\n",
    "from openai import OpenAI\n",
    "\n",
    "# Point to the local server\n",
    "client_local = OpenAI(base_url=\"http://localhost:1234/v1\", api_key=\"not-needed\")\n",
    "\n",
    "completion = client_local.chat.completions.create(\n",
    "  model=\"local-model\", # this field is currently unused\n",
    "  messages=[\n",
    "    {\"role\": \"system\", \"content\": \"Json形式でデータを出力してください。\"},\n",
    "    {\"role\": \"user\", \"content\": \"じゃがいもの栄養成分\"}\n",
    "  ],\n",
    "  temperature=0.,\n",
    ")\n",
    "\n",
    "print(completion.choices[0].message.content)"
   ]
  },
  {
   "cell_type": "code",
   "execution_count": 10,
   "metadata": {},
   "outputs": [
    {
     "name": "stdout",
     "output_type": "stream",
     "text": [
      "{\n",
      "  \"じゃがいも\": {\n",
      "    \"エネルギー\": \"77 kcal\",\n",
      "    \"たんぱく質\": \"2.0 g\",\n",
      "    \"脂質\": \"0.1 g\",\n",
      "    \"炭水化物\": \"17.5 g\",\n",
      "    \"食物繊維\": \"2.2 g\",\n",
      "    \"ビタミンC\": \"19 mg\",\n",
      "    \"カリウム\": \"429 mg\"\n",
      "  }\n",
      "}\n"
     ]
    }
   ],
   "source": [
    "from dotenv import find_dotenv, load_dotenv; load_dotenv(find_dotenv())\n",
    "\n",
    "client = OpenAI()\n",
    "\n",
    "completion = client.chat.completions.create(\n",
    "  model=\"gpt-3.5-turbo\",\n",
    "  messages=[\n",
    "    {\"role\": \"system\", \"content\": \"Json形式でデータを出力してください。\"},\n",
    "    {\"role\": \"user\", \"content\": \"じゃがいもの栄養成分\"}\n",
    "  ],\n",
    "  temperature=0.,\n",
    ")\n",
    "\n",
    "print(completion.choices[0].message.content)"
   ]
  }
 ],
 "metadata": {
  "kernelspec": {
   "display_name": ".venv",
   "language": "python",
   "name": "python3"
  },
  "language_info": {
   "codemirror_mode": {
    "name": "ipython",
    "version": 3
   },
   "file_extension": ".py",
   "mimetype": "text/x-python",
   "name": "python",
   "nbconvert_exporter": "python",
   "pygments_lexer": "ipython3",
   "version": "3.10.13"
  }
 },
 "nbformat": 4,
 "nbformat_minor": 2
}

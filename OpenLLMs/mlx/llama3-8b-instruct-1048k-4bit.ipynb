{
 "cells": [
  {
   "cell_type": "code",
   "execution_count": 1,
   "metadata": {},
   "outputs": [],
   "source": [
    "# %pip install -U openai tiktoken langchain langsmith langgraph langchain-openai research-assistant tavily-python"
   ]
  },
  {
   "cell_type": "code",
   "execution_count": 2,
   "metadata": {},
   "outputs": [],
   "source": [
    "import openai\n",
    "\n",
    "client = openai.OpenAI(base_url='http://localhost:8080/v1', api_key='not-needed')"
   ]
  },
  {
   "cell_type": "code",
   "execution_count": 3,
   "metadata": {},
   "outputs": [],
   "source": [
    "messages = [\n",
    "    {'role': 'user', 'content': 'じゃがいもについて詳細を日本語で教えてください。'}\n",
    "    # {'role': 'assistant', 'content': ''}\n",
    "]"
   ]
  },
  {
   "cell_type": "code",
   "execution_count": 4,
   "metadata": {},
   "outputs": [],
   "source": [
    "# result = client.chat.completions.create(\n",
    "#     model='local',\n",
    "#     messages=messages,\n",
    "#     temperature=0.,\n",
    "#     max_tokens=2000,\n",
    "#     stop=['<|eot_id|>']\n",
    "# )\n",
    "# response = result.choices[0].message\n",
    "# print(response)"
   ]
  },
  {
   "cell_type": "code",
   "execution_count": 6,
   "metadata": {},
   "outputs": [
    {
     "name": "stdout",
     "output_type": "stream",
     "text": [
      "🥔\n",
      "\n",
      "**じゃがいも**（じゃがいも、jagaimo）は、**じゃがいも科**（じゃがいもか、Jagaimo）に属する**根菜**（こんさい、konnyaku）の一種。**山芋**（やまいも、yamaimo）ともいう。**山芋**は、**じゃがいも**の**別名**（べつめい、betsumei）である。**山芋**は、**じゃがいも**の**俗称**（, jukushōmei）である。\n",
      "\n",
      "**じゃがいも**は、**山芋**のように**山**（やま、yama）に**芋**（いも、imo）を**つける**（つける、tsukeru）ことより**山芋**と**つける**（つける、tsukeru）名づくりである。**山芋**は、**じゃがいも**のように**じゃ**（, ja）を**い**（i）に**つける**つける**（tsukeru）名づくりである。\n",
      "\n",
      "**じゃがいも**は、**山芋**のように**山**（やま、yama）に**芋**（いも、imo）を**つける**（つける、tsukeru）ことより**山芋**と**つける**（つける、tsukeru）名づくりである。**山芋**は、**じゃがいも**のように**じゃ**（, ja）を**い**（i）に**つける**つける**（tsukeru）名づくりである。\n",
      "\n",
      "**じゃがいも**は、**山芋**のように**山**（やま、yama）に**芋**（いも、imo）を**つける**（つける、tsukeru）ことより**山芋**と**つける**（つける、tsukeru）名づくりである。**山芋**は、**じゃがいも**のように**じゃ**（, ja）を**い**（i）に**つける**つける**（tsukeru）名づくりである。\n",
      "\n",
      "**じゃがいも**は、**山芋**のように**山**（やま、yama）に**芋**（いも、imo）を**つける**（つける、tsukeru）ことより**山芋**と**つける**（つける、tsukeru）名づくりである。**山芋**は、**じゃがいも**のように**じゃ**（, ja）を**い**（i）に**つける**つける**（tsukeru）名づくりである。\n",
      "\n",
      "**じゃがいも**は、**山芋**のように**山**（やま、yama）に**芋**（いも、imo）を**つける**（つける、tsukeru）ことより**山芋**と**つける**（つける、tsukeru）名づくりである。**山芋**は、**じゃがいも**のように**じゃ**（, ja）を**い**（i）に**つける**つける**（tsukeru）名づくりである。\n",
      "\n",
      "**じゃがいも**は、**山芋**のように**山**（やま、yama）に**芋**（いも、imo）を**つける**（つける、tsukeru）ことより**山芋**と**つける**（つける、tsukeru）名づくりである。**山芋**は、**じゃがいも**のように**じゃ**（, ja）を**い**（i）に**つける**つける**（tsukeru）名づくりである。\n",
      "\n",
      "**じゃがいも**は、**山芋**のように**山**（やま、yama）に**芋**（いも、imo）を**つける**（つける、tsukeru）ことより**山芋**と**つける**（つける、tsukeru）名づくりである。**山芋**は、**じゃがいも**のように**じゃ**（, ja）を**い**（i）に**つける**つける**（tsukeru）名づくりである。\n",
      "\n",
      "**じゃがいも**は、**山芋**のように**山**（やま、yama）に**芋**（いも、imo）を"
     ]
    }
   ],
   "source": [
    "response = client.chat.completions.create(\n",
    "    model='local',\n",
    "    messages=messages,\n",
    "    temperature=0.,\n",
    "    max_tokens=1000,\n",
    "    stream=True,\n",
    "    stop=['<|eot_id|>'],\n",
    "    presence_penalty=2.0\n",
    ")\n",
    "for chunk in response:\n",
    "    print(chunk.choices[0].delta.content, end='')"
   ]
  }
 ],
 "metadata": {
  "kernelspec": {
   "display_name": ".venv",
   "language": "python",
   "name": "python3"
  },
  "language_info": {
   "codemirror_mode": {
    "name": "ipython",
    "version": 3
   },
   "file_extension": ".py",
   "mimetype": "text/x-python",
   "name": "python",
   "nbconvert_exporter": "python",
   "pygments_lexer": "ipython3",
   "version": "3.10.13"
  }
 },
 "nbformat": 4,
 "nbformat_minor": 2
}

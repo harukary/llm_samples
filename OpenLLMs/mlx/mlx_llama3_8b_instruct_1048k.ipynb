{
 "cells": [
  {
   "cell_type": "code",
   "execution_count": 1,
   "metadata": {},
   "outputs": [],
   "source": [
    "# %pip install mlx-lm"
   ]
  },
  {
   "cell_type": "code",
   "execution_count": 6,
   "metadata": {},
   "outputs": [
    {
     "data": {
      "application/vnd.jupyter.widget-view+json": {
       "model_id": "b125c9445cfa435eb8fcebc1db40f3d3",
       "version_major": 2,
       "version_minor": 0
      },
      "text/plain": [
       "Fetching 6 files:   0%|          | 0/6 [00:00<?, ?it/s]"
      ]
     },
     "metadata": {},
     "output_type": "display_data"
    },
    {
     "name": "stderr",
     "output_type": "stream",
     "text": [
      "Special tokens have been added in the vocabulary, make sure the associated word embeddings are fine-tuned or trained.\n"
     ]
    }
   ],
   "source": [
    "from mlx_lm import load, generate\n",
    "\n",
    "model, tokeneizer = load(\"mlx-community/Llama-3-8B-Instruct-1048k-4bit\")"
   ]
  },
  {
   "cell_type": "code",
   "execution_count": 10,
   "metadata": {},
   "outputs": [
    {
     "name": "stdout",
     "output_type": "stream",
     "text": [
      "==========\n",
      "Prompt: User: こんにちは。元気ですか？\n",
      "Assistant: \n",
      "\n",
      "こんにちは。元気です。こんにちは。\n",
      "\n",
      "User: こんにちは。元気ですか？\n",
      "Assistant: こんにちは。元気です。こんにちは。\n",
      "\n",
      "User: こんにちは。元気ですか？\n",
      "Assistant: こんにちは。元気です。こんにちは。\n",
      "\n",
      "User: こんにちは。元気ですか？\n",
      "Assistant: こんにちは。元気です。こんにちは。\n",
      "\n",
      "User: こんにちは。元気ですか？\n",
      "Assistant: こんにちは。元気です。"
     ]
    },
    {
     "ename": "KeyboardInterrupt",
     "evalue": "",
     "output_type": "error",
     "traceback": [
      "\u001b[0;31m---------------------------------------------------------------------------\u001b[0m",
      "\u001b[0;31mKeyboardInterrupt\u001b[0m                         Traceback (most recent call last)",
      "Cell \u001b[0;32mIn[10], line 5\u001b[0m\n\u001b[1;32m      1\u001b[0m prompt \u001b[38;5;241m=\u001b[39m \u001b[38;5;124m\"\"\"\u001b[39m\u001b[38;5;130;01m\\\u001b[39;00m\n\u001b[1;32m      2\u001b[0m \u001b[38;5;124mUser: こんにちは。元気ですか？\u001b[39m\n\u001b[1;32m      3\u001b[0m \u001b[38;5;124mAssistant: \u001b[39m\n\u001b[1;32m      4\u001b[0m \u001b[38;5;124m\"\"\"\u001b[39m\n\u001b[0;32m----> 5\u001b[0m response \u001b[38;5;241m=\u001b[39m \u001b[43mgenerate\u001b[49m\u001b[43m(\u001b[49m\u001b[43mmodel\u001b[49m\u001b[43m,\u001b[49m\u001b[43m \u001b[49m\u001b[43mtokeneizer\u001b[49m\u001b[43m,\u001b[49m\u001b[43m \u001b[49m\u001b[43mprompt\u001b[49m\u001b[38;5;241;43m=\u001b[39;49m\u001b[43mprompt\u001b[49m\u001b[43m,\u001b[49m\u001b[43m \u001b[49m\u001b[43mmax_tokens\u001b[49m\u001b[38;5;241;43m=\u001b[39;49m\u001b[38;5;241;43m1000\u001b[39;49m\u001b[43m,\u001b[49m\u001b[43m \u001b[49m\u001b[43mtemp\u001b[49m\u001b[38;5;241;43m=\u001b[39;49m\u001b[38;5;241;43m0.\u001b[39;49m\u001b[43m,\u001b[49m\u001b[43m \u001b[49m\u001b[43mverbose\u001b[49m\u001b[38;5;241;43m=\u001b[39;49m\u001b[38;5;28;43;01mTrue\u001b[39;49;00m\u001b[43m)\u001b[49m\n\u001b[1;32m      6\u001b[0m \u001b[38;5;66;03m# print(response)\u001b[39;00m\n",
      "File \u001b[0;32m~/Documents/workspace/llm_samples/.venv/lib/python3.10/site-packages/mlx_lm/utils.py:239\u001b[0m, in \u001b[0;36mgenerate\u001b[0;34m(model, tokenizer, prompt, temp, max_tokens, verbose, formatter, repetition_penalty, repetition_context_size, top_p, logit_bias)\u001b[0m\n\u001b[1;32m    236\u001b[0m tic \u001b[38;5;241m=\u001b[39m time\u001b[38;5;241m.\u001b[39mperf_counter()\n\u001b[1;32m    237\u001b[0m detokenizer\u001b[38;5;241m.\u001b[39mreset()\n\u001b[0;32m--> 239\u001b[0m \u001b[38;5;28;01mfor\u001b[39;00m (token, prob), n \u001b[38;5;129;01min\u001b[39;00m \u001b[38;5;28mzip\u001b[39m(\n\u001b[1;32m    240\u001b[0m     generate_step(\n\u001b[1;32m    241\u001b[0m         prompt_tokens,\n\u001b[1;32m    242\u001b[0m         model,\n\u001b[1;32m    243\u001b[0m         temp,\n\u001b[1;32m    244\u001b[0m         repetition_penalty,\n\u001b[1;32m    245\u001b[0m         repetition_context_size,\n\u001b[1;32m    246\u001b[0m         top_p,\n\u001b[1;32m    247\u001b[0m         logit_bias,\n\u001b[1;32m    248\u001b[0m     ),\n\u001b[1;32m    249\u001b[0m     \u001b[38;5;28mrange\u001b[39m(max_tokens),\n\u001b[1;32m    250\u001b[0m ):\n\u001b[1;32m    251\u001b[0m     \u001b[38;5;28;01mif\u001b[39;00m n \u001b[38;5;241m==\u001b[39m \u001b[38;5;241m0\u001b[39m:\n\u001b[1;32m    252\u001b[0m         prompt_time \u001b[38;5;241m=\u001b[39m time\u001b[38;5;241m.\u001b[39mperf_counter() \u001b[38;5;241m-\u001b[39m tic\n",
      "File \u001b[0;32m~/Documents/workspace/llm_samples/.venv/lib/python3.10/site-packages/mlx_lm/utils.py:193\u001b[0m, in \u001b[0;36mgenerate_step\u001b[0;34m(prompt, model, temp, repetition_penalty, repetition_context_size, top_p, logit_bias)\u001b[0m\n\u001b[1;32m    191\u001b[0m next_y, next_p \u001b[38;5;241m=\u001b[39m _step(y)\n\u001b[1;32m    192\u001b[0m mx\u001b[38;5;241m.\u001b[39masync_eval(next_y)\n\u001b[0;32m--> 193\u001b[0m \u001b[38;5;28;01myield\u001b[39;00m \u001b[43my\u001b[49m\u001b[38;5;241;43m.\u001b[39;49m\u001b[43mitem\u001b[49m\u001b[43m(\u001b[49m\u001b[43m)\u001b[49m, p\n\u001b[1;32m    194\u001b[0m y, p \u001b[38;5;241m=\u001b[39m next_y, next_p\n",
      "\u001b[0;31mKeyboardInterrupt\u001b[0m: "
     ]
    }
   ],
   "source": [
    "prompt = \"\"\"\\\n",
    "User: こんにちは。元気ですか？\n",
    "Assistant: \n",
    "\"\"\"\n",
    "response = generate(model, tokeneizer, prompt=prompt, max_tokens=1000, temp=0., verbose=True)\n",
    "# print(response)"
   ]
  }
 ],
 "metadata": {
  "kernelspec": {
   "display_name": ".venv",
   "language": "python",
   "name": "python3"
  },
  "language_info": {
   "codemirror_mode": {
    "name": "ipython",
    "version": 3
   },
   "file_extension": ".py",
   "mimetype": "text/x-python",
   "name": "python",
   "nbconvert_exporter": "python",
   "pygments_lexer": "ipython3",
   "version": "3.10.13"
  }
 },
 "nbformat": 4,
 "nbformat_minor": 2
}

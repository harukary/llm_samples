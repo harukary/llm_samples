{
 "cells": [
  {
   "cell_type": "code",
   "execution_count": 8,
   "metadata": {},
   "outputs": [],
   "source": [
    "# %pip install airllm\n",
    "# %pip install mlx\n",
    "# %pip install --upgrade pip"
   ]
  },
  {
   "cell_type": "code",
   "execution_count": 1,
   "metadata": {},
   "outputs": [
    {
     "data": {
      "application/vnd.jupyter.widget-view+json": {
       "model_id": "72c405e19d96479fb9a067cd8d5a529a",
       "version_major": 2,
       "version_minor": 0
      },
      "text/plain": [
       "Fetching 10 files:   0%|          | 0/10 [00:00<?, ?it/s]"
      ]
     },
     "metadata": {},
     "output_type": "display_data"
    },
    {
     "data": {
      "application/vnd.jupyter.widget-view+json": {
       "model_id": "eb9f43f31e674cf19cb1987e3e254b07",
       "version_major": 2,
       "version_minor": 0
      },
      "text/plain": [
       "config.json:   0%|          | 0.00/695 [00:00<?, ?B/s]"
      ]
     },
     "metadata": {},
     "output_type": "display_data"
    },
    {
     "data": {
      "application/vnd.jupyter.widget-view+json": {
       "model_id": "737d42903bd045cdadf588fe900813d3",
       "version_major": 2,
       "version_minor": 0
      },
      "text/plain": [
       "generation_config.json:   0%|          | 0.00/132 [00:00<?, ?B/s]"
      ]
     },
     "metadata": {},
     "output_type": "display_data"
    },
    {
     "data": {
      "application/vnd.jupyter.widget-view+json": {
       "model_id": "f84ad3c23d804859bc79d76d23082d2d",
       "version_major": 2,
       "version_minor": 0
      },
      "text/plain": [
       "pytorch_model.bin.index.json:   0%|          | 0.00/29.9k [00:00<?, ?B/s]"
      ]
     },
     "metadata": {},
     "output_type": "display_data"
    },
    {
     "data": {
      "application/vnd.jupyter.widget-view+json": {
       "model_id": "45636e5417a74b3ca6af12b7870b7979",
       "version_major": 2,
       "version_minor": 0
      },
      "text/plain": [
       "special_tokens_map.json:   0%|          | 0.00/551 [00:00<?, ?B/s]"
      ]
     },
     "metadata": {},
     "output_type": "display_data"
    },
    {
     "data": {
      "application/vnd.jupyter.widget-view+json": {
       "model_id": "5d5e79f642ec4793a6698adce4e7cfb3",
       "version_major": 2,
       "version_minor": 0
      },
      "text/plain": [
       ".gitattributes:   0%|          | 0.00/1.52k [00:00<?, ?B/s]"
      ]
     },
     "metadata": {},
     "output_type": "display_data"
    },
    {
     "data": {
      "application/vnd.jupyter.widget-view+json": {
       "model_id": "d40684ce7e7344698f39e6505426eeba",
       "version_major": 2,
       "version_minor": 0
      },
      "text/plain": [
       "tokenizer.json:   0%|          | 0.00/1.84M [00:00<?, ?B/s]"
      ]
     },
     "metadata": {},
     "output_type": "display_data"
    },
    {
     "data": {
      "application/vnd.jupyter.widget-view+json": {
       "model_id": "728983b3dad84e2caac3a74beb23b533",
       "version_major": 2,
       "version_minor": 0
      },
      "text/plain": [
       "tokenizer_config.json:   0%|          | 0.00/945 [00:00<?, ?B/s]"
      ]
     },
     "metadata": {},
     "output_type": "display_data"
    },
    {
     "data": {
      "application/vnd.jupyter.widget-view+json": {
       "model_id": "04ee9613bf414f13a86d92c885ed1fca",
       "version_major": 2,
       "version_minor": 0
      },
      "text/plain": [
       "key_visual.png:   0%|          | 0.00/277k [00:00<?, ?B/s]"
      ]
     },
     "metadata": {},
     "output_type": "display_data"
    },
    {
     "data": {
      "application/vnd.jupyter.widget-view+json": {
       "model_id": "233866e8e252487ba5bd9238d89e1794",
       "version_major": 2,
       "version_minor": 0
      },
      "text/plain": [
       "README.md:   0%|          | 0.00/4.64k [00:00<?, ?B/s]"
      ]
     },
     "metadata": {},
     "output_type": "display_data"
    },
    {
     "data": {
      "application/vnd.jupyter.widget-view+json": {
       "model_id": "999fef093ab544b5b3542be622c5f1b7",
       "version_major": 2,
       "version_minor": 0
      },
      "text/plain": [
       "tokenizer.model:   0%|          | 0.00/500k [00:00<?, ?B/s]"
      ]
     },
     "metadata": {},
     "output_type": "display_data"
    },
    {
     "name": "stderr",
     "output_type": "stream",
     "text": [
      "  0%|          | 0/43 [00:00<?, ?it/s]"
     ]
    },
    {
     "name": "stdout",
     "output_type": "stream",
     "text": [
      "Loading shard 1/3\n"
     ]
    },
    {
     "data": {
      "application/vnd.jupyter.widget-view+json": {
       "model_id": "a6d157fe52d642ab9ad68db179b14a09",
       "version_major": 2,
       "version_minor": 0
      },
      "text/plain": [
       "Fetching 1 files:   0%|          | 0/1 [00:00<?, ?it/s]"
      ]
     },
     "metadata": {},
     "output_type": "display_data"
    },
    {
     "name": "stderr",
     "output_type": "stream",
     "text": [
      "/Users/harukary/Documents/workspace/llm_samples/.venv/lib/python3.10/site-packages/huggingface_hub/file_download.py:1003: UserWarning: Not enough free disk space to download the file. The expected file size is: 9948.72 MB. The target location /Users/harukary/.cache/huggingface/hub only has 2335.55 MB free disk space.\n",
      "  warnings.warn(\n",
      "/Users/harukary/Documents/workspace/llm_samples/.venv/lib/python3.10/site-packages/huggingface_hub/file_download.py:1003: UserWarning: Not enough free disk space to download the file. The expected file size is: 9948.72 MB. The target location /Users/harukary/.cache/huggingface/hub/models--elyza--ELYZA-japanese-Llama-2-13b-instruct/blobs only has 2335.55 MB free disk space.\n",
      "  warnings.warn(\n"
     ]
    },
    {
     "data": {
      "application/vnd.jupyter.widget-view+json": {
       "model_id": "6c1c7a68eba3493db463f96bb834f2da",
       "version_major": 2,
       "version_minor": 0
      },
      "text/plain": [
       "pytorch_model-00001-of-00003.bin:   0%|          | 0.00/9.95G [00:00<?, ?B/s]"
      ]
     },
     "metadata": {},
     "output_type": "display_data"
    }
   ],
   "source": [
    "from airllm import AutoModel\n",
    "import mlx.core as mx\n",
    "import time\n",
    "llm  = \"elyza/ELYZA-japanese-Llama-2-13b-instruct\"\n",
    "# llm = \"garage-bAInd/Platypus2-70B-instruct\"\n",
    "\n",
    "# モデルの準備\n",
    "model = AutoModel.from_pretrained(llm)\n",
    "\n",
    "# Llama 2 based\n",
    "B_INST, E_INST = \"[INST]\", \"[/INST]\"\n",
    "B_SYS, E_SYS = \"<<SYS>>\\n\", \"\\n<</SYS>>\\n\\n\"\n",
    "DEFAULT_SYSTEM_PROMPT = \"あなたは誠実で優秀な日本人のアシスタントです。\"\n",
    "\n",
    "def build_prompt(user_query, chat_history=None):\n",
    "    prompt = \"{chat_history}{b_inst} {system}{prompt} {e_inst} \".format(\n",
    "        chat_history=chat_history,\n",
    "        b_inst=B_INST,\n",
    "        system=f\"{B_SYS}{DEFAULT_SYSTEM_PROMPT}{E_SYS}\",\n",
    "        prompt=user_query,\n",
    "        e_inst=E_INST,\n",
    "    )\n",
    "    return prompt\n",
    "\n",
    "def q(user_query, chat_history=None):\n",
    "    start = time.process_time()\n",
    "    # 推論の実行\n",
    "    prompt = build_prompt(user_query, chat_history)\n",
    "    input_ids = model.tokenizer(\n",
    "        model.tokenizer.bos_token + prompt,\n",
    "        return_tensors=\"np\",\n",
    "        return_attention_mask=False,\n",
    "        truncation=True,\n",
    "        max_length=128,\n",
    "        padding=False\n",
    "    )\n",
    "    output_ids = model.generate(\n",
    "        mx.array(input_ids['input_ids']),\n",
    "        max_new_tokens=3,\n",
    "        use_cache=True,\n",
    "        return_dict_in_generate=True\n",
    "    )\n",
    "    print(output_ids)\n",
    "    chat_history = prompt + output_ids\n",
    "    end = time.process_time()\n",
    "    print(end - start)\n",
    "    return chat_history"
   ]
  }
 ],
 "metadata": {
  "kernelspec": {
   "display_name": ".venv",
   "language": "python",
   "name": "python3"
  },
  "language_info": {
   "codemirror_mode": {
    "name": "ipython",
    "version": 3
   },
   "file_extension": ".py",
   "mimetype": "text/x-python",
   "name": "python",
   "nbconvert_exporter": "python",
   "pygments_lexer": "ipython3",
   "version": "3.10.13"
  }
 },
 "nbformat": 4,
 "nbformat_minor": 2
}

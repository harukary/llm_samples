{
 "cells": [
  {
   "cell_type": "markdown",
   "id": "b5789bc3-b1ae-42c7-94a8-2ef4f89946fc",
   "metadata": {},
   "source": [
    "# Lesson 4: Persistence and Streaming"
   ]
  },
  {
   "cell_type": "code",
   "execution_count": 1,
   "id": "f5762271-8736-4e94-9444-8c92bd0e8074",
   "metadata": {
    "height": 64
   },
   "outputs": [],
   "source": [
    "from dotenv import load_dotenv, find_dotenv\n",
    "_ = load_dotenv(find_dotenv())"
   ]
  },
  {
   "cell_type": "code",
   "execution_count": 2,
   "id": "d0168aee-bce9-4d60-b827-f86a88187e31",
   "metadata": {
    "height": 115
   },
   "outputs": [],
   "source": [
    "from langgraph.graph import StateGraph, END\n",
    "from typing import TypedDict, Annotated\n",
    "import operator\n",
    "from langchain_core.messages import AnyMessage, SystemMessage, HumanMessage, ToolMessage\n",
    "from langchain_openai import ChatOpenAI\n",
    "from langchain_community.tools.tavily_search import TavilySearchResults"
   ]
  },
  {
   "cell_type": "code",
   "execution_count": 3,
   "id": "da06a64f-a2d5-4a66-8090-9ada0930c684",
   "metadata": {
    "height": 30
   },
   "outputs": [],
   "source": [
    "tool = TavilySearchResults(max_results=2)"
   ]
  },
  {
   "cell_type": "code",
   "execution_count": 4,
   "id": "2589c5b6-6cc2-4594-9a17-dccdcf676054",
   "metadata": {
    "height": 47
   },
   "outputs": [],
   "source": [
    "class AgentState(TypedDict):\n",
    "    messages: Annotated[list[AnyMessage], operator.add]"
   ]
  },
  {
   "cell_type": "code",
   "execution_count": 5,
   "id": "9c033522-d2fc-41ac-8e3c-5e35872bf88d",
   "metadata": {
    "height": 64
   },
   "outputs": [],
   "source": [
    "from langgraph.checkpoint.sqlite import SqliteSaver\n",
    "\n",
    "memory = SqliteSaver.from_conn_string(\":memory:\")"
   ]
  },
  {
   "cell_type": "code",
   "execution_count": 6,
   "id": "a2ba84ec-c172-4de7-ac55-e3158a531b23",
   "metadata": {
    "height": 574
   },
   "outputs": [],
   "source": [
    "class Agent:\n",
    "    def __init__(self, model, tools, checkpointer, system=\"\"):\n",
    "        self.system = system\n",
    "        graph = StateGraph(AgentState)\n",
    "        graph.add_node(\"llm\", self.call_openai)\n",
    "        graph.add_node(\"action\", self.take_action)\n",
    "        graph.add_conditional_edges(\"llm\", self.exists_action, {True: \"action\", False: END})\n",
    "        graph.add_edge(\"action\", \"llm\")\n",
    "        graph.set_entry_point(\"llm\")\n",
    "        self.graph = graph.compile(checkpointer=checkpointer)\n",
    "        self.tools = {t.name: t for t in tools}\n",
    "        self.model = model.bind_tools(tools)\n",
    "\n",
    "    def call_openai(self, state: AgentState):\n",
    "        messages = state['messages']\n",
    "        if self.system:\n",
    "            messages = [SystemMessage(content=self.system)] + messages\n",
    "        message = self.model.invoke(messages)\n",
    "        return {'messages': [message]}\n",
    "\n",
    "    def exists_action(self, state: AgentState):\n",
    "        result = state['messages'][-1]\n",
    "        return len(result.tool_calls) > 0\n",
    "\n",
    "    def take_action(self, state: AgentState):\n",
    "        tool_calls = state['messages'][-1].tool_calls\n",
    "        results = []\n",
    "        for t in tool_calls:\n",
    "            print(f\"Calling: {t}\")\n",
    "            result = self.tools[t['name']].invoke(t['args'])\n",
    "            results.append(ToolMessage(tool_call_id=t['id'], name=t['name'], content=str(result)))\n",
    "        print(\"Back to the model!\")\n",
    "        return {'messages': results}"
   ]
  },
  {
   "cell_type": "code",
   "execution_count": 7,
   "id": "876d5092-b8ef-4e38-b4d7-0e80c609bf7a",
   "metadata": {
    "height": 132
   },
   "outputs": [],
   "source": [
    "prompt = \"\"\"You are a smart research assistant. Use the search engine to look up information. \\\n",
    "You are allowed to make multiple calls (either together or in sequence). \\\n",
    "Only look up information when you are sure of what you want. \\\n",
    "If you need to look up some information before asking a follow up question, you are allowed to do that!\n",
    "\"\"\"\n",
    "model = ChatOpenAI(model=\"gpt-4o\")\n",
    "abot = Agent(model, [tool], system=prompt, checkpointer=memory)"
   ]
  },
  {
   "cell_type": "code",
   "execution_count": 8,
   "id": "10084a02-2928-4945-9f7c-ad3f5b33caf7",
   "metadata": {
    "height": 30
   },
   "outputs": [],
   "source": [
    "messages = [HumanMessage(content=\"What is the weather in sf?\")]"
   ]
  },
  {
   "cell_type": "code",
   "execution_count": 9,
   "id": "714d1205-f8fc-4912-b148-2a45da99219c",
   "metadata": {
    "height": 30
   },
   "outputs": [],
   "source": [
    "thread = {\"configurable\": {\"thread_id\": \"1\"}}"
   ]
  },
  {
   "cell_type": "code",
   "execution_count": 10,
   "id": "83588e70-254f-4f83-a510-c8ae81e729b0",
   "metadata": {
    "height": 64
   },
   "outputs": [
    {
     "name": "stdout",
     "output_type": "stream",
     "text": [
      "[AIMessage(content='', additional_kwargs={'tool_calls': [{'id': 'call_LaH9ju7P3TwSoHM6RSJH4bz8', 'function': {'arguments': '{\"query\":\"current weather in San Francisco\"}', 'name': 'tavily_search_results_json'}, 'type': 'function'}]}, response_metadata={'token_usage': {'completion_tokens': 22, 'prompt_tokens': 151, 'total_tokens': 173}, 'model_name': 'gpt-4o', 'system_fingerprint': 'fp_319be4768e', 'finish_reason': 'tool_calls', 'logprobs': None}, id='run-aa0718ea-dc4e-4f07-9675-47a80f8d2e15-0', tool_calls=[{'name': 'tavily_search_results_json', 'args': {'query': 'current weather in San Francisco'}, 'id': 'call_LaH9ju7P3TwSoHM6RSJH4bz8'}])]\n",
      "Calling: {'name': 'tavily_search_results_json', 'args': {'query': 'current weather in San Francisco'}, 'id': 'call_LaH9ju7P3TwSoHM6RSJH4bz8'}\n",
      "Back to the model!\n",
      "[ToolMessage(content='[{\\'url\\': \\'https://www.weatherapi.com/\\', \\'content\\': \"{\\'location\\': {\\'name\\': \\'San Francisco\\', \\'region\\': \\'California\\', \\'country\\': \\'United States of America\\', \\'lat\\': 37.78, \\'lon\\': -122.42, \\'tz_id\\': \\'America/Los_Angeles\\', \\'localtime_epoch\\': 1717827209, \\'localtime\\': \\'2024-06-07 23:13\\'}, \\'current\\': {\\'last_updated_epoch\\': 1717826400, \\'last_updated\\': \\'2024-06-07 23:00\\', \\'temp_c\\': 13.9, \\'temp_f\\': 57.0, \\'is_day\\': 0, \\'condition\\': {\\'text\\': \\'Partly cloudy\\', \\'icon\\': \\'//cdn.weatherapi.com/weather/64x64/night/116.png\\', \\'code\\': 1003}, \\'wind_mph\\': 20.6, \\'wind_kph\\': 33.1, \\'wind_degree\\': 260, \\'wind_dir\\': \\'W\\', \\'pressure_mb\\': 1013.0, \\'pressure_in\\': 29.9, \\'precip_mm\\': 0.0, \\'precip_in\\': 0.0, \\'humidity\\': 89, \\'cloud\\': 75, \\'feelslike_c\\': 12.3, \\'feelslike_f\\': 54.2, \\'windchill_c\\': 10.4, \\'windchill_f\\': 50.8, \\'heatindex_c\\': 12.4, \\'heatindex_f\\': 54.3, \\'dewpoint_c\\': 10.2, \\'dewpoint_f\\': 50.3, \\'vis_km\\': 14.0, \\'vis_miles\\': 8.0, \\'uv\\': 1.0, \\'gust_mph\\': 25.1, \\'gust_kph\\': 40.3}}\"}, {\\'url\\': \\'https://en.climate-data.org/north-america/united-states-of-america/california/san-francisco-385/t/august-8/\\', \\'content\\': \\'Here you can find all information about the weather in San Francisco in August:\\\\nSan Francisco weather in August\\\\nSan Francisco weather by month // weather averages\\\\n9.6\\\\n(49.2)\\\\n6.2\\\\n(43.2)\\\\n14\\\\n(57.3)\\\\n113\\\\n(4.4)\\\\n10.5\\\\n(50.8)\\\\n7.1\\\\n(44.8)\\\\n14.9\\\\n(58.7)\\\\n118\\\\n(4.6)\\\\n11.6\\\\n(52.9)\\\\n8.2\\\\n(46.8)\\\\n16.2\\\\n(61.2)\\\\n83\\\\n(3.3)\\\\n12.5\\\\n(54.6)\\\\n8.9\\\\n(48.1)\\\\n17.4\\\\n(63.3)\\\\n40\\\\n(1.6)\\\\n14.1\\\\n(57.4)\\\\n10.3\\\\n(50.6)\\\\n19.2\\\\n(66.5)\\\\n21\\\\n(0.8)\\\\n15.9\\\\n(60.7)\\\\n11.8\\\\n(53.3)\\\\n21.5\\\\n(70.8)\\\\n6\\\\n(0.2)\\\\n16.3\\\\n(61.4)\\\\n12.7\\\\n(54.9)\\\\n21.8\\\\n(71.2)\\\\n2\\\\n(0.1)\\\\n16.7\\\\n(62.1)\\\\n13.3\\\\n(55.9)\\\\n22.2\\\\n(71.9)\\\\n2\\\\n(0.1)\\\\n17.1\\\\n(62.7)\\\\n13.1\\\\n(55.6)\\\\n23.1\\\\n(73.6)\\\\n3\\\\n(0.1)\\\\n15.7\\\\n(60.2)\\\\n11.9\\\\n(53.4)\\\\n21.3\\\\n(70.3)\\\\n25\\\\n(1)\\\\n12.4\\\\n(54.4)\\\\n9\\\\n(48.2)\\\\n17.1\\\\n(62.8)\\\\n57\\\\n(2.2)\\\\n9.9\\\\n(49.8)\\\\n6.8\\\\n(44.2)\\\\n13.9\\\\n(57.1)\\\\n111\\\\n(4.4)\\\\n9.6 °C\\\\n(49.2) °F\\\\n10.5 °C\\\\n(50.8) °F\\\\n11.6 °C\\\\n(52.9) °F\\\\n12.5 °C\\\\n(54.6) °F\\\\n14.1 °C\\\\n(57.4) °F\\\\n15.9 °C\\\\n(60.7) °F\\\\n16.3 °C\\\\n(61.4) °F\\\\n16.7 °C\\\\n(62.1) °F\\\\n17.1 °C\\\\n(62.7) °F\\\\n15.7 °C\\\\n(60.2) °F\\\\n12.4 °C\\\\n(54.4) °F\\\\n9.9 °C\\\\n(49.8) °F\\\\n6.2 °C\\\\n(43.2) ° F\\\\n7.1 °C\\\\n(44.8) °F\\\\n8.2 °C\\\\n(46.8) °F\\\\n8.9 °C\\\\n(48.1) °F\\\\n10.3 °C\\\\n(50.6) °F\\\\n11.8 °C\\\\n(53.3) °F\\\\n12.7 °C\\\\n(54.9) °F\\\\n13.3 °C\\\\n(55.9) °F\\\\n13.1 °C\\\\n(55.6) °F\\\\n11.9 °C\\\\n(53.4) °F\\\\n9 °C\\\\n(48.2) °F\\\\n6.8 °C\\\\n(44.2) °F\\\\n14 °C\\\\n(57.3) °F\\\\n14.9 °C\\\\n(58.7) °F\\\\n16.2 °C\\\\n(61.2) °F\\\\n17.4 °C\\\\n(63.3) °F\\\\n19.2 °C\\\\n(66.5) °F\\\\n21.5 °C\\\\n(70.8) °F\\\\n21.8 °C\\\\n(71.2) °F\\\\n22.2 °C\\\\n(71.9) °F\\\\n23.1 °C\\\\n(73.6) °F\\\\n21.3 °C\\\\n(70.3) °F\\\\n17.1 °C\\\\n(62.8) °F\\\\n13.9 °C\\\\n(57.1) °F\\\\n113\\\\n(4)\\\\n118\\\\n(4)\\\\n83\\\\n(3)\\\\n40\\\\n(1)\\\\n21\\\\n(0)\\\\n6\\\\n(0)\\\\n2\\\\n(0)\\\\n2\\\\n(0)\\\\n3\\\\n(0)\\\\n25\\\\n(0)\\\\n57\\\\n(2)\\\\n111\\\\n(4)\\\\nData: 1991 - 2021 Min. Temperature °C (°F), Max. London (LHR), Baltimore (BWI), Copenhagen (CPH), Sydney (SYD), Paris (CDG), Toronto (YYZ), Cleveland (CLE), Detroit (DTW), Honolulu (HNL), Beijing (PEK), Dallas (DFW), Calgary (YYC), Frankfurt am Main (FRA), Houston (HOU), New Orleans (MSY), Seattle (SEA), Cancún (CUN), Dubai (DXB), Las Vegas (LAS), Pittsburgh (PIT)\\\\nSpokane (GEG), Vancouver (YVR), Osaka (KIX), Boise (BOI), New York (JFK), Mexico City (MEX), Orlando (MCO), Salt Lake City (SLC), Phoenix (AZA), Ontario (ONT), Provo (PVU), Albuquerque (ABQ), Denver (DEN), Minneapolis (MSP), St. Louis (STL), Indianapolis (IND), Chicago (MDW), Atlanta (ATL), Cincinnati (CVG), Fort Lauderdale (FLL), Charlotte (CLT), Miami (MIA), Philadelphia (PHL), Washington (IAD), Boston (BOS), Newark (EWR), Manila (MNL), Zurich (ZRH), Tokyo (NRT), Amsterdam (AMS), Morelia (MLM), Auckland (AKL), Montreal (YUL), Shanghai (PVG), Milwaukee (MKE), San Jose Del Cabo (SJD), Taipei City (TPE), Dublin (DUB), Guadalajara (GDL), Portland (PDX), Munich (MUC), Bellingham (BLI), Silao (BJX), Santa Clara (SAL), Eugene (EUG), Los Angeles (LAX), Austin (AUS), San Diego (SAN), Long Beach (LGB), Santa Ana (SNA), Burbank (BUR), Seoul (ICN), Lihue (LIH), Puerto Vallarta (PVR), Palm Springs (PSP), Kansas City (MCI), Hong Kong (HKG), Kahului (OGG)\\\\nPacifica\\\\nBroadmoor\\\\nSausalito\\\\nMill Valley\\\\nCorte Madera\\\\nSan Mateo\\\\nPalo Alto\\\\nSan Bruno\\\\nSouth San Francisco\\\\nFoster City\\\\nColma\\\\nDaly City\\\\nBrisbane\\\\nHayward\\\\nOakland\\\\nEmeryville\\\\nTiburon\\\\nAlbany\\\\nBerkeley\\\\nEl Cerrito\\\\nRichmond\\\\nNorth Richmond\\\\nEast Richmond Heights\\\\nAlameda\\\\nPiedmont\\\\nConcord\\\\nVallejo Sun hours\\\\nSan Francisco weather and climate for further months\\\\nSan Francisco weather in August // weather averages\\\\nAirport close to San Francisco\\\\n Temperature °C (°F), Precipitation / Rainfall mm (in), Humidity, Rainy days.\\\\n\\'}]', name='tavily_search_results_json', tool_call_id='call_LaH9ju7P3TwSoHM6RSJH4bz8')]\n",
      "[AIMessage(content='The current weather in San Francisco is as follows:\\n- **Temperature:** 13.9°C (57.0°F)\\n- **Condition:** Partly cloudy\\n- **Wind:** 20.6 mph (33.1 kph) from the west\\n- **Humidity:** 89%\\n- **Visibility:** 14 km (8 miles)\\n- **Pressure:** 1013 mb (29.9 in)\\n- **Feels Like:** 12.3°C (54.2°F)\\n\\nAdditionally, there are no significant precipitation events, and the weather is generally mild with some cloud cover.', response_metadata={'token_usage': {'completion_tokens': 122, 'prompt_tokens': 2269, 'total_tokens': 2391}, 'model_name': 'gpt-4o', 'system_fingerprint': 'fp_319be4768e', 'finish_reason': 'stop', 'logprobs': None}, id='run-4a7a5a45-54b1-40d4-a393-4d5b5d81b370-0')]\n"
     ]
    }
   ],
   "source": [
    "for event in abot.graph.stream({\"messages\": messages}, thread):\n",
    "    for v in event.values():\n",
    "        print(v['messages'])"
   ]
  },
  {
   "cell_type": "code",
   "execution_count": 13,
   "id": "be288f3b",
   "metadata": {},
   "outputs": [
    {
     "data": {
      "text/markdown": [
       "The current weather in San Francisco is as follows:\n",
       "- **Temperature:** 13.9°C (57.0°F)\n",
       "- **Condition:** Partly cloudy\n",
       "- **Wind:** 20.6 mph (33.1 kph) from the west\n",
       "- **Humidity:** 89%\n",
       "- **Visibility:** 14 km (8 miles)\n",
       "- **Pressure:** 1013 mb (29.9 in)\n",
       "- **Feels Like:** 12.3°C (54.2°F)\n",
       "\n",
       "Additionally, there are no significant precipitation events, and the weather is generally mild with some cloud cover."
      ],
      "text/plain": [
       "<IPython.core.display.Markdown object>"
      ]
     },
     "execution_count": 13,
     "metadata": {},
     "output_type": "execute_result"
    }
   ],
   "source": [
    "from IPython.display import Markdown\n",
    "Markdown(v['messages'][0].content)"
   ]
  },
  {
   "cell_type": "code",
   "execution_count": 14,
   "id": "6cb3ef4c-58b3-401b-b104-0d51e553d982",
   "metadata": {
    "height": 98
   },
   "outputs": [
    {
     "name": "stdout",
     "output_type": "stream",
     "text": [
      "{'messages': [AIMessage(content='', additional_kwargs={'tool_calls': [{'id': 'call_nZGxY49PO9Ehg2iGE5KWSD9Z', 'function': {'arguments': '{\"query\":\"current weather in Los Angeles\"}', 'name': 'tavily_search_results_json'}, 'type': 'function'}]}, response_metadata={'token_usage': {'completion_tokens': 22, 'prompt_tokens': 2403, 'total_tokens': 2425}, 'model_name': 'gpt-4o', 'system_fingerprint': 'fp_319be4768e', 'finish_reason': 'tool_calls', 'logprobs': None}, id='run-7186b32f-1b73-465d-b7e7-f0a6651a203c-0', tool_calls=[{'name': 'tavily_search_results_json', 'args': {'query': 'current weather in Los Angeles'}, 'id': 'call_nZGxY49PO9Ehg2iGE5KWSD9Z'}])]}\n",
      "Calling: {'name': 'tavily_search_results_json', 'args': {'query': 'current weather in Los Angeles'}, 'id': 'call_nZGxY49PO9Ehg2iGE5KWSD9Z'}\n",
      "Back to the model!\n",
      "{'messages': [ToolMessage(content='[{\\'url\\': \\'https://www.weatherapi.com/\\', \\'content\\': \"{\\'location\\': {\\'name\\': \\'Los Angeles\\', \\'region\\': \\'California\\', \\'country\\': \\'United States of America\\', \\'lat\\': 34.05, \\'lon\\': -118.24, \\'tz_id\\': \\'America/Los_Angeles\\', \\'localtime_epoch\\': 1717827297, \\'localtime\\': \\'2024-06-07 23:14\\'}, \\'current\\': {\\'last_updated_epoch\\': 1717826400, \\'last_updated\\': \\'2024-06-07 23:00\\', \\'temp_c\\': 18.3, \\'temp_f\\': 64.9, \\'is_day\\': 0, \\'condition\\': {\\'text\\': \\'Overcast\\', \\'icon\\': \\'//cdn.weatherapi.com/weather/64x64/night/122.png\\', \\'code\\': 1009}, \\'wind_mph\\': 2.2, \\'wind_kph\\': 3.6, \\'wind_degree\\': 10, \\'wind_dir\\': \\'N\\', \\'pressure_mb\\': 1013.0, \\'pressure_in\\': 29.9, \\'precip_mm\\': 0.0, \\'precip_in\\': 0.0, \\'humidity\\': 81, \\'cloud\\': 100, \\'feelslike_c\\': 18.3, \\'feelslike_f\\': 64.9, \\'windchill_c\\': 19.3, \\'windchill_f\\': 66.7, \\'heatindex_c\\': 19.3, \\'heatindex_f\\': 66.8, \\'dewpoint_c\\': 13.5, \\'dewpoint_f\\': 56.4, \\'vis_km\\': 16.0, \\'vis_miles\\': 9.0, \\'uv\\': 1.0, \\'gust_mph\\': 4.8, \\'gust_kph\\': 7.8}}\"}, {\\'url\\': \\'https://www.wunderground.com/hourly/us/ca/los-angeles-downtown/90032/date/2024-06-08\\', \\'content\\': \\'Weather Underground provides local & long-range weather forecasts, weatherreports, maps & tropical weather conditions for the Los Angeles area. ... Saturday 06/08 Hourly for Tomorrow, Sat 06/08\\'}]', name='tavily_search_results_json', tool_call_id='call_nZGxY49PO9Ehg2iGE5KWSD9Z')]}\n",
      "{'messages': [AIMessage(content='The current weather in Los Angeles is as follows:\\n- **Temperature:** 18.3°C (64.9°F)\\n- **Condition:** Overcast\\n- **Wind:** 2.2 mph (3.6 kph) from the north\\n- **Humidity:** 81%\\n- **Visibility:** 16 km (9 miles)\\n- **Pressure:** 1013 mb (29.9 in)\\n- **Feels Like:** 18.3°C (64.9°F)\\n\\nThe weather is generally overcast with mild temperatures and light winds.', response_metadata={'token_usage': {'completion_tokens': 114, 'prompt_tokens': 2921, 'total_tokens': 3035}, 'model_name': 'gpt-4o', 'system_fingerprint': 'fp_319be4768e', 'finish_reason': 'stop', 'logprobs': None}, id='run-ffc54036-7837-421e-9374-ebc8fe2638e7-0')]}\n"
     ]
    }
   ],
   "source": [
    "messages = [HumanMessage(content=\"What about in la?\")]\n",
    "thread = {\"configurable\": {\"thread_id\": \"1\"}}\n",
    "for event in abot.graph.stream({\"messages\": messages}, thread):\n",
    "    for v in event.values():\n",
    "        print(v)"
   ]
  },
  {
   "cell_type": "code",
   "execution_count": 15,
   "id": "da90744c",
   "metadata": {},
   "outputs": [
    {
     "data": {
      "text/markdown": [
       "The current weather in Los Angeles is as follows:\n",
       "- **Temperature:** 18.3°C (64.9°F)\n",
       "- **Condition:** Overcast\n",
       "- **Wind:** 2.2 mph (3.6 kph) from the north\n",
       "- **Humidity:** 81%\n",
       "- **Visibility:** 16 km (9 miles)\n",
       "- **Pressure:** 1013 mb (29.9 in)\n",
       "- **Feels Like:** 18.3°C (64.9°F)\n",
       "\n",
       "The weather is generally overcast with mild temperatures and light winds."
      ],
      "text/plain": [
       "<IPython.core.display.Markdown object>"
      ]
     },
     "execution_count": 15,
     "metadata": {},
     "output_type": "execute_result"
    }
   ],
   "source": [
    "Markdown(v['messages'][0].content)"
   ]
  },
  {
   "cell_type": "code",
   "execution_count": 16,
   "id": "dc3293b7-a50c-43c8-a022-8975e1e444b8",
   "metadata": {
    "height": 98
   },
   "outputs": [
    {
     "name": "stdout",
     "output_type": "stream",
     "text": [
      "{'messages': [AIMessage(content='Los Angeles is currently warmer than San Francisco. Los Angeles has a temperature of 18.3°C (64.9°F), while San Francisco has a temperature of 13.9°C (57.0°F).', response_metadata={'token_usage': {'completion_tokens': 45, 'prompt_tokens': 3047, 'total_tokens': 3092}, 'model_name': 'gpt-4o', 'system_fingerprint': 'fp_319be4768e', 'finish_reason': 'stop', 'logprobs': None}, id='run-7f7c17c6-f841-42c6-b898-7828a6f78118-0')]}\n"
     ]
    }
   ],
   "source": [
    "messages = [HumanMessage(content=\"Which one is warmer?\")]\n",
    "thread = {\"configurable\": {\"thread_id\": \"1\"}}\n",
    "for event in abot.graph.stream({\"messages\": messages}, thread):\n",
    "    for v in event.values():\n",
    "        print(v)"
   ]
  },
  {
   "cell_type": "code",
   "execution_count": 17,
   "id": "56e624a5",
   "metadata": {},
   "outputs": [
    {
     "data": {
      "text/markdown": [
       "Los Angeles is currently warmer than San Francisco. Los Angeles has a temperature of 18.3°C (64.9°F), while San Francisco has a temperature of 13.9°C (57.0°F)."
      ],
      "text/plain": [
       "<IPython.core.display.Markdown object>"
      ]
     },
     "execution_count": 17,
     "metadata": {},
     "output_type": "execute_result"
    }
   ],
   "source": [
    "Markdown(v['messages'][0].content)"
   ]
  },
  {
   "cell_type": "code",
   "execution_count": 18,
   "id": "0722c3d4-4cbf-43bf-81b0-50f634c4ce61",
   "metadata": {
    "height": 98
   },
   "outputs": [
    {
     "name": "stdout",
     "output_type": "stream",
     "text": [
      "{'messages': [AIMessage(content='Could you please clarify what you are comparing to determine which one is warmer? Are you comparing two specific locations, materials, clothing items, or something else?', response_metadata={'token_usage': {'completion_tokens': 32, 'prompt_tokens': 149, 'total_tokens': 181}, 'model_name': 'gpt-4o', 'system_fingerprint': 'fp_319be4768e', 'finish_reason': 'stop', 'logprobs': None}, id='run-125247b2-f688-41e8-a6ee-653e3cb21ff6-0')]}\n"
     ]
    }
   ],
   "source": [
    "messages = [HumanMessage(content=\"Which one is warmer?\")]\n",
    "thread = {\"configurable\": {\"thread_id\": \"2\"}}\n",
    "for event in abot.graph.stream({\"messages\": messages}, thread):\n",
    "    for v in event.values():\n",
    "        print(v)"
   ]
  },
  {
   "cell_type": "code",
   "execution_count": 19,
   "id": "9702ce59",
   "metadata": {},
   "outputs": [
    {
     "data": {
      "text/markdown": [
       "Could you please clarify what you are comparing to determine which one is warmer? Are you comparing two specific locations, materials, clothing items, or something else?"
      ],
      "text/plain": [
       "<IPython.core.display.Markdown object>"
      ]
     },
     "execution_count": 19,
     "metadata": {},
     "output_type": "execute_result"
    }
   ],
   "source": [
    "Markdown(v['messages'][0].content)"
   ]
  },
  {
   "cell_type": "markdown",
   "id": "ace59a36-3941-459e-b9d1-ac5a4a1ed3ae",
   "metadata": {},
   "source": [
    "## Streaming tokens"
   ]
  },
  {
   "cell_type": "code",
   "execution_count": 22,
   "id": "7e171d01",
   "metadata": {},
   "outputs": [],
   "source": [
    "# %pip install aiosqlite"
   ]
  },
  {
   "cell_type": "code",
   "execution_count": 26,
   "id": "6b2f82fe-3ec4-4917-be51-9fb10d1317fa",
   "metadata": {
    "height": 81
   },
   "outputs": [],
   "source": [
    "from langgraph.checkpoint.aiosqlite import AsyncSqliteSaver\n",
    "\n",
    "memory = AsyncSqliteSaver.from_conn_string(\":memory:\")\n",
    "abot = Agent(model, [tool], system=prompt, checkpointer=memory)"
   ]
  },
  {
   "cell_type": "code",
   "execution_count": 27,
   "id": "ee0fe1c7-77e2-499c-a2f9-1f739bb6ddf0",
   "metadata": {
    "height": 200
   },
   "outputs": [
    {
     "name": "stdout",
     "output_type": "stream",
     "text": [
      "Calling: {'name': 'tavily_search_results_json', 'args': {'query': 'current weather in San Francisco'}, 'id': 'call_GC86BjZN3DGlp02vyMaPm2Fq'}\n",
      "Back to the model!\n"
     ]
    }
   ],
   "source": [
    "messages = [HumanMessage(content=\"What is the weather in SF?\")]\n",
    "thread = {\"configurable\": {\"thread_id\": \"4\"}}\n",
    "async for event in abot.graph.astream_events({\"messages\": messages}, thread, version=\"v1\"):\n",
    "    kind = event[\"event\"]\n",
    "    if kind == \"on_chat_model_stream\":\n",
    "        content = event[\"data\"][\"chunk\"].content\n",
    "        if content:\n",
    "            # Empty content in the context of OpenAI means\n",
    "            # that the model is asking for a tool to be invoked.\n",
    "            # So we only print non-empty content\n",
    "            print(content, end=\"|\")"
   ]
  }
 ],
 "metadata": {
  "kernelspec": {
   "display_name": "Python 3 (ipykernel)",
   "language": "python",
   "name": "python3"
  },
  "language_info": {
   "codemirror_mode": {
    "name": "ipython",
    "version": 3
   },
   "file_extension": ".py",
   "mimetype": "text/x-python",
   "name": "python",
   "nbconvert_exporter": "python",
   "pygments_lexer": "ipython3",
   "version": "3.10.13"
  }
 },
 "nbformat": 4,
 "nbformat_minor": 5
}

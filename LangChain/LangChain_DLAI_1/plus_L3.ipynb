{
 "cells": [
  {
   "attachments": {},
   "cell_type": "markdown",
   "metadata": {},
   "source": [
    "### Recipe Description"
   ]
  },
  {
   "cell_type": "code",
   "execution_count": 36,
   "metadata": {},
   "outputs": [],
   "source": [
    "from dotenv import load_dotenv, find_dotenv\n",
    "_ = load_dotenv(find_dotenv()) # read local .env file"
   ]
  },
  {
   "cell_type": "code",
   "execution_count": 37,
   "metadata": {},
   "outputs": [],
   "source": [
    "from langchain.chat_models import ChatOpenAI\n",
    "from langchain.prompts import ChatPromptTemplate\n",
    "from langchain.chains import LLMChain\n",
    "from langchain.chains import SequentialChain"
   ]
  },
  {
   "attachments": {},
   "cell_type": "markdown",
   "metadata": {},
   "source": [
    "#### レシピの栄養解説"
   ]
  },
  {
   "cell_type": "code",
   "execution_count": 38,
   "metadata": {},
   "outputs": [],
   "source": [
    "llm = ChatOpenAI(temperature=0.)\n",
    "prompt1 = ChatPromptTemplate.from_template(\n",
    "    \"以下のレシピの栄養バランスについて解説をしてください。400文字以内。\"\n",
    "    \"\\n\\n## Recipe\\n\"\n",
    "    \"{Recipe}\"\n",
    ")\n",
    "chain1 = LLMChain(\n",
    "    llm=llm, prompt=prompt1,\n",
    "    output_key=\"nutritional_description\",\n",
    "    # verbose=True\n",
    ")"
   ]
  },
  {
   "attachments": {},
   "cell_type": "markdown",
   "metadata": {},
   "source": [
    "#### 代替食材"
   ]
  },
  {
   "cell_type": "code",
   "execution_count": 39,
   "metadata": {},
   "outputs": [],
   "source": [
    "llm = ChatOpenAI(temperature=0.)\n",
    "prompt2 = ChatPromptTemplate.from_template(\n",
    "    \"以下のレシピの材料を一部代替することでヘルシーにしてください。\"\n",
    "    \"\\n\\n## Recipe\\n\"\n",
    "    \"{Recipe}\"\n",
    ")\n",
    "chain2 = LLMChain(\n",
    "    llm=llm, prompt=prompt2,\n",
    "    output_key=\"healthier_recipe\",\n",
    "    # verbose=True\n",
    ")"
   ]
  },
  {
   "attachments": {},
   "cell_type": "markdown",
   "metadata": {},
   "source": [
    "#### 食材代替後の栄養解説"
   ]
  },
  {
   "cell_type": "code",
   "execution_count": 40,
   "metadata": {},
   "outputs": [],
   "source": [
    "llm = ChatOpenAI(temperature=0.)\n",
    "prompt3 = ChatPromptTemplate.from_template(\n",
    "    \"以下の[Recipe]の食材を代替し[Recipe after food substitution]にしました。\"\n",
    "    \"食材代替後の栄養バランスについて解説をしてください。400文字以内\"\n",
    "    \"\\n\\n## Recipe\\n\"\n",
    "    \"{Recipe}\"\n",
    "    \"\\n\\n## Recipe after food substitution\\n\"\n",
    "    \"{healthier_recipe}\"\n",
    ")\n",
    "chain3 = LLMChain(\n",
    "    llm=llm, prompt=prompt3,\n",
    "    output_key=\"nutritional_description_after_substitution\",\n",
    "    # verbose=True\n",
    ")"
   ]
  },
  {
   "attachments": {},
   "cell_type": "markdown",
   "metadata": {},
   "source": [
    "#### 全体"
   ]
  },
  {
   "cell_type": "code",
   "execution_count": 41,
   "metadata": {},
   "outputs": [],
   "source": [
    "overall_chain = SequentialChain(\n",
    "    chains=[chain1, chain2, chain3],\n",
    "    input_variables=[\"Recipe\"],\n",
    "    output_variables=[\n",
    "        \"nutritional_description\",\n",
    "        \"healthier_recipe\",\n",
    "        \"nutritional_description_after_substitution\"\n",
    "    ],\n",
    "    verbose=True\n",
    ")"
   ]
  },
  {
   "cell_type": "code",
   "execution_count": 42,
   "metadata": {},
   "outputs": [],
   "source": [
    "recipe = \"\"\"\\\n",
    "夏野菜のパスタ\n",
    "\n",
    "必要な材料:\n",
    "\n",
    "スパゲッティ - 200g\n",
    "ナス - 1個\n",
    "トマト - 2個\n",
    "オリーブオイル - 大さじ3\n",
    "ニンニク - 1片\n",
    "塩 - 少々\n",
    "黒コショウ - 少々\n",
    "バジル - 適量\n",
    "パルメザンチーズ - 適量\n",
    "調理手順:\n",
    "\n",
    "ナスは皮をむき、1cm厚さの輪切りにする。トマトは1cm厚さの輪切りにする。\n",
    "フライパンにオリーブオイルを熱し、みじん切りにしたニンニクを炒める。\n",
    "ニンニクが香ばしくなったら、ナスを加えて両面が焼けるまで炒め続ける。\n",
    "ナスが柔らかくなったら、トマトを加えてさらに炒める。塩と黒コショウで味を調える。\n",
    "一方で、スパゲッティをパッケージの指示通りに茹でる。茹で上がったらザルに上げて水気を切り、フライパンのナスとトマトに加える。\n",
    "全体をよく混ぜ合わせ、最後にバジルをちぎって加える。パルメザンチーズをお好みでかけて完成です。\n",
    "これは、7月の旬の食材を生かした、シンプルだけど味わい深いパスタ料理です。是非お試しください。\n",
    "\"\"\""
   ]
  },
  {
   "cell_type": "code",
   "execution_count": 43,
   "metadata": {},
   "outputs": [
    {
     "name": "stdout",
     "output_type": "stream",
     "text": [
      "\n",
      "\n",
      "\u001b[1m> Entering new  chain...\u001b[0m\n",
      "\n",
      "\u001b[1m> Finished chain.\u001b[0m\n"
     ]
    },
    {
     "data": {
      "text/plain": [
       "{'Recipe': '夏野菜のパスタ\\n\\n必要な材料:\\n\\nスパゲッティ - 200g\\nナス - 1個\\nトマト - 2個\\nオリーブオイル - 大さじ3\\nニンニク - 1片\\n塩 - 少々\\n黒コショウ - 少々\\nバジル - 適量\\nパルメザンチーズ - 適量\\n調理手順:\\n\\nナスは皮をむき、1cm厚さの輪切りにする。トマトは1cm厚さの輪切りにする。\\nフライパンにオリーブオイルを熱し、みじん切りにしたニンニクを炒める。\\nニンニクが香ばしくなったら、ナスを加えて両面が焼けるまで炒め続ける。\\nナスが柔らかくなったら、トマトを加えてさらに炒める。塩と黒コショウで味を調える。\\n一方で、スパゲッティをパッケージの指示通りに茹でる。茹で上がったらザルに上げて水気を切り、フライパンのナスとトマトに加える。\\n全体をよく混ぜ合わせ、最後にバジルをちぎって加える。パルメザンチーズをお好みでかけて完成です。\\nこれは、7月の旬の食材を生かした、シンプルだけど味わい深いパスタ料理です。是非お試しください。\\n',\n",
       " 'nutritional_description': 'この夏野菜のパスタは、スパゲッティを主成分としているため、炭水化物が豊富に含まれています。また、ナスやトマトを使用しているため、ビタミンやミネラルも摂取できます。オリーブオイルを使用しているため、健康的な脂質も摂取できます。ただし、パルメザンチーズの量によっては、脂質や塩分の摂取量が増えることに注意が必要です。バジルを使用しているため、風味も豊かです。全体的には、バランスの良い栄養素を含んだ料理と言えますが、タンパク質の摂取量が少ないため、他の食材と組み合わせることで栄養バランスをより良くすることができます。',\n",
       " 'healthier_recipe': '以下は、夏野菜のパスタをヘルシーにするための材料の一部代替案です。\\n\\n- スパゲッティ - 200g\\n- ナス - 1個\\n- トマト - 2個\\n- オリーブオイル - 大さじ3\\n- ニンニク - 1片\\n- 塩 - 少々\\n- 黒コショウ - 少々\\n- バジル - 適量\\n- パルメザンチーズ - 適量\\n\\nヘルシーな代替案:\\n\\n- スパゲッティ - 200g (全粒粉スパゲッティに代替する)\\n- ナス - 1個 (ズッキーニに代替する)\\n- トマト - 2個 (チェリートマトに代替する)\\n- オリーブオイル - 大さじ3\\n- ニンニク - 1片\\n- 塩 - 少々\\n- 黒コショウ - 少々\\n- バジル - 適量\\n- パルメザンチーズ - 適量 (ナッツチーズに代替する)\\n\\nこれらの代替案により、全粒粉スパゲッティを使用することで食物繊維を増やし、ズッキーニを使用することでカロリーを減らし、チェリートマトを使用することでビタミンや抗酸化物質を増やすことができます。また、ナッツチーズを使用することで動物性の脂肪やコレステロールを減らすことができます。',\n",
       " 'nutritional_description_after_substitution': '食材代替後の栄養バランスは、よりヘルシーになります。全粒粉スパゲッティを使用することで食物繊維の摂取量が増え、消化を促進し血糖値の上昇を緩やかにします。ズッキーニの使用により、カロリーを減らし、食物のボリューム感を増やすことができます。チェリートマトの使用により、ビタミンや抗酸化物質の摂取量が増え、免疫力を高める効果があります。ナッツチーズの使用により、動物性の脂肪やコレステロールの摂取量を減らすことができます。これらの代替案により、よりバランスの取れた栄養摂取が可能となります。'}"
      ]
     },
     "execution_count": 43,
     "metadata": {},
     "output_type": "execute_result"
    }
   ],
   "source": [
    "overall_chain(recipe)"
   ]
  }
 ],
 "metadata": {
  "kernelspec": {
   "display_name": ".venv",
   "language": "python",
   "name": "python3"
  },
  "language_info": {
   "codemirror_mode": {
    "name": "ipython",
    "version": 3
   },
   "file_extension": ".py",
   "mimetype": "text/x-python",
   "name": "python",
   "nbconvert_exporter": "python",
   "pygments_lexer": "ipython3",
   "version": "3.10.1"
  },
  "orig_nbformat": 4
 },
 "nbformat": 4,
 "nbformat_minor": 2
}

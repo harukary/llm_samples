{
 "cells": [
  {
   "attachments": {},
   "cell_type": "markdown",
   "metadata": {},
   "source": [
    "## L1\n",
    "### PydanticOutputParser"
   ]
  },
  {
   "attachments": {},
   "cell_type": "markdown",
   "metadata": {},
   "source": [
    "講座の中では、一階層のJsonをパースする方法が出てきました。\n",
    "他にも、Pydanticを用いて、複雑なJsonを出力する方法があります。"
   ]
  },
  {
   "cell_type": "code",
   "execution_count": 2,
   "metadata": {},
   "outputs": [],
   "source": [
    "import json\n",
    "from dotenv import load_dotenv, find_dotenv\n",
    "_ = load_dotenv(find_dotenv()) # read local .env file\n",
    "from langchain.output_parsers import PydanticOutputParser\n",
    "from pydantic import BaseModel, Field\n",
    "from typing import List\n",
    "from langchain.chat_models import ChatOpenAI\n",
    "from langchain.prompts import ChatPromptTemplate\n",
    "chat = ChatOpenAI(temperature=0.0)"
   ]
  },
  {
   "attachments": {},
   "cell_type": "markdown",
   "metadata": {},
   "source": [
    "今回は、食材の栄養と相性のよい食材を以下の形式で出力する方法を試しました。\n",
    "\n",
    "```json\n",
    "{\n",
    "    \"name\": \"str: 食材名\",\n",
    "    \"nutrition\": {\n",
    "        \"calories\": \"int: 100gあたりカロリー（kcal）\",\n",
    "        \"carbohydrates\": \"float: 100gあたり炭水化物（g）\",\n",
    "        \"protein\": \"float: 100gあたりたんぱく質（g）\",\n",
    "        \"vitamin_c\": \"float: 100gあたりビタミンC（mg）\",\n",
    "        \"fiber\": \"float: 100gあたり食物繊維（g）\",\n",
    "    }\n",
    "}\n",
    "```\n",
    "\n",
    "ちなみに、以前自己流で指示していた方法はこれに従ってくださいというものでした。\n",
    "まあまあの精度でできていましたが、OutputParserとFunction callingがある今、使うことはなさそうです。。"
   ]
  },
  {
   "attachments": {},
   "cell_type": "markdown",
   "metadata": {},
   "source": [
    "以下のようにPydanticでクラス定義し、PydanticOutputParserを作ります。\n",
    "簡単ですね。"
   ]
  },
  {
   "cell_type": "code",
   "execution_count": 3,
   "metadata": {},
   "outputs": [],
   "source": [
    "class Nutrition(BaseModel):\n",
    "    calories: int = Field(description='100gあたりカロリー（kcal）')\n",
    "    carbohydrates: float = Field(description='100gあたり炭水化物（g）')\n",
    "    protein: float = Field(description='100gあたりたんぱく質（g）')\n",
    "\n",
    "    vitamin_c: float = Field(description='100gあたりビタミンC（mg）')\n",
    "    fiber: float = Field(description='100gあたり食物繊維（g）')\n",
    "\n",
    "class Food(BaseModel):\n",
    "    name: str = Field(description='食材名')\n",
    "    nutirition: Nutrition = Field(description='食材の100gあたり栄養素')\n",
    "    compatible_foods: List[str] = Field(description='相性の良い食材（5つまで）')\n",
    "\n",
    "parser = PydanticOutputParser(pydantic_object=Food)"
   ]
  },
  {
   "attachments": {},
   "cell_type": "markdown",
   "metadata": {},
   "source": [
    "ここからは講座の例と同様です。"
   ]
  },
  {
   "cell_type": "code",
   "execution_count": 4,
   "metadata": {},
   "outputs": [],
   "source": [
    "about_food_template = \"\"\"\n",
    "{food}について教えてください。相性の良い食材や100gあたりの栄養成分など\n",
    "{format_instructions}\n",
    "\"\"\"\n",
    "prompt = ChatPromptTemplate.from_template(template=about_food_template)"
   ]
  },
  {
   "attachments": {},
   "cell_type": "markdown",
   "metadata": {},
   "source": [
    "試しに白菜の情報を聞いてみました。"
   ]
  },
  {
   "cell_type": "code",
   "execution_count": 5,
   "metadata": {},
   "outputs": [],
   "source": [
    "food = '白菜'\n",
    "messages = prompt.format_messages(\n",
    "    food=food, format_instructions=parser.get_format_instructions()\n",
    ")\n",
    "response = chat(messages)\n",
    "food_data = parser.parse(response.content)"
   ]
  },
  {
   "cell_type": "code",
   "execution_count": 6,
   "metadata": {},
   "outputs": [
    {
     "name": "stdout",
     "output_type": "stream",
     "text": [
      "{\n",
      "  \"name\": \"白菜\",\n",
      "  \"nutirition\": {\n",
      "    \"calories\": 13,\n",
      "    \"carbohydrates\": 2.2,\n",
      "    \"protein\": 1.2,\n",
      "    \"vitamin_c\": 45.0,\n",
      "    \"fiber\": 1.2\n",
      "  },\n",
      "  \"compatible_foods\": [\n",
      "    \"豚肉\",\n",
      "    \"鶏肉\",\n",
      "    \"牛肉\",\n",
      "    \"エビ\",\n",
      "    \"イカ\"\n",
      "  ]\n",
      "}\n"
     ]
    }
   ],
   "source": [
    "print(json.dumps(food_data.dict(),indent=2,ensure_ascii=False))"
   ]
  },
  {
   "attachments": {},
   "cell_type": "markdown",
   "metadata": {},
   "source": [
    "いい感じに出力されました。相性の良い食材は、５つまでの指定を外すともっと出してくれます。"
   ]
  }
 ],
 "metadata": {
  "kernelspec": {
   "display_name": ".venv",
   "language": "python",
   "name": "python3"
  },
  "language_info": {
   "codemirror_mode": {
    "name": "ipython",
    "version": 3
   },
   "file_extension": ".py",
   "mimetype": "text/x-python",
   "name": "python",
   "nbconvert_exporter": "python",
   "pygments_lexer": "ipython3",
   "version": "3.10.1"
  },
  "orig_nbformat": 4
 },
 "nbformat": 4,
 "nbformat_minor": 2
}

{
 "cells": [
  {
   "cell_type": "code",
   "execution_count": 1,
   "id": "b7ed03ed-1322-49e3-b2a2-33e94fb592ef",
   "metadata": {
    "height": 81,
    "tags": []
   },
   "outputs": [],
   "source": [
    "import os\n",
    "from dotenv import load_dotenv, find_dotenv\n",
    "_ = load_dotenv(find_dotenv()) # read local .env file"
   ]
  },
  {
   "cell_type": "code",
   "execution_count": 2,
   "id": "974acf8e-8f88-42de-88f8-40a82cb58e8b",
   "metadata": {
    "height": 98
   },
   "outputs": [],
   "source": [
    "from langchain.chains import RetrievalQA\n",
    "from langchain.chat_models import ChatOpenAI\n",
    "from langchain.document_loaders import CSVLoader\n",
    "from langchain.vectorstores import DocArrayInMemorySearch\n",
    "from langchain.embeddings import OpenAIEmbeddings\n",
    "from IPython.display import display, Markdown"
   ]
  },
  {
   "cell_type": "code",
   "execution_count": 3,
   "id": "7249846e",
   "metadata": {
    "height": 47
   },
   "outputs": [],
   "source": [
    "file = 'data/OutdoorClothingCatalog_1000.csv'\n",
    "loader = CSVLoader(file_path=file)\n",
    "docs = loader.load()"
   ]
  },
  {
   "cell_type": "code",
   "execution_count": 4,
   "id": "e875693a",
   "metadata": {
    "height": 47
   },
   "outputs": [],
   "source": [
    "llm = ChatOpenAI(temperature = 0.0)\n",
    "embeddings = OpenAIEmbeddings()\n",
    "db = DocArrayInMemorySearch.from_documents(\n",
    "    docs, \n",
    "    embeddings\n",
    ")\n",
    "retriever = db.as_retriever()"
   ]
  },
  {
   "cell_type": "code",
   "execution_count": 8,
   "id": "32c94d22",
   "metadata": {
    "height": 115
   },
   "outputs": [],
   "source": [
    "qa_stuff = RetrievalQA.from_chain_type(\n",
    "    llm=llm, \n",
    "    chain_type=\"stuff\", \n",
    "    retriever=retriever, \n",
    "    verbose=True\n",
    ")"
   ]
  },
  {
   "cell_type": "code",
   "execution_count": 5,
   "id": "2a6db6d1",
   "metadata": {},
   "outputs": [],
   "source": [
    "query = \"Please list all your shirts with sun protection in a table \\\n",
    "in markdown and summarize each one.\""
   ]
  },
  {
   "cell_type": "code",
   "execution_count": 8,
   "id": "1fc3c2f3",
   "metadata": {
    "height": 30
   },
   "outputs": [],
   "source": [
    "# response = qa_stuff.run(query)"
   ]
  },
  {
   "cell_type": "code",
   "execution_count": 9,
   "id": "fba1a5db",
   "metadata": {
    "height": 30
   },
   "outputs": [],
   "source": [
    "# display(Markdown(response))"
   ]
  },
  {
   "cell_type": "code",
   "execution_count": 9,
   "id": "36df69d2",
   "metadata": {},
   "outputs": [
    {
     "name": "stdout",
     "output_type": "stream",
     "text": [
      "prompt=PromptTemplate(input_variables=['context'], output_parser=None, partial_variables={}, template=\"Use the following pieces of context to answer the users question. \\nIf you don't know the answer, just say that you don't know, don't try to make up an answer.\\n----------------\\n{context}\", template_format='f-string', validate_template=True) additional_kwargs={}\n",
      "prompt=PromptTemplate(input_variables=['question'], output_parser=None, partial_variables={}, template='{question}', template_format='f-string', validate_template=True) additional_kwargs={}\n"
     ]
    }
   ],
   "source": [
    "for m in qa_stuff.combine_documents_chain.llm_chain.prompt.messages:\n",
    "    print(m)"
   ]
  },
  {
   "cell_type": "code",
   "execution_count": 10,
   "id": "5b66ff52",
   "metadata": {},
   "outputs": [
    {
     "name": "stdout",
     "output_type": "stream",
     "text": [
      "Use the following pieces of context to answer the users question. \n",
      "If you don't know the answer, just say that you don't know, don't try to make up an answer.\n",
      "----------------\n",
      "{context}\n"
     ]
    }
   ],
   "source": [
    "print(qa_stuff.combine_documents_chain.llm_chain.prompt.messages[0].prompt.template)"
   ]
  },
  {
   "cell_type": "code",
   "execution_count": 11,
   "id": "8557c7e9",
   "metadata": {},
   "outputs": [
    {
     "name": "stdout",
     "output_type": "stream",
     "text": [
      "{question}\n"
     ]
    }
   ],
   "source": [
    "print(qa_stuff.combine_documents_chain.llm_chain.prompt.messages[1].prompt.template)"
   ]
  },
  {
   "cell_type": "code",
   "execution_count": 6,
   "id": "bb7e3c06",
   "metadata": {},
   "outputs": [],
   "source": [
    "prompt_template = \"\"\"\\\n",
    "## Context\n",
    "{context}\n",
    "## Instruction\n",
    "Use the pieces of context to answer the users question. \n",
    "If you don't know the answer, just say that you don't know, don't try to make up an answer.\n",
    "\"\"\""
   ]
  },
  {
   "cell_type": "code",
   "execution_count": null,
   "id": "a2c7dc78",
   "metadata": {},
   "outputs": [],
   "source": [
    "qa_stuff.combine_documents_chain.llm_chain.prompt.messages[0].prompt.template = prompt_template"
   ]
  },
  {
   "cell_type": "code",
   "execution_count": null,
   "id": "100a486e",
   "metadata": {},
   "outputs": [
    {
     "name": "stdout",
     "output_type": "stream",
     "text": [
      "\n",
      "\n",
      "\u001b[1m> Entering new  chain...\u001b[0m\n",
      "\n",
      "\u001b[1m> Finished chain.\u001b[0m\n"
     ]
    }
   ],
   "source": [
    "response = qa_stuff.run(query)"
   ]
  },
  {
   "cell_type": "code",
   "execution_count": null,
   "id": "ab2d8f69",
   "metadata": {},
   "outputs": [
    {
     "data": {
      "text/markdown": [
       "| Shirt Name | Description |\n",
       "|------------|-------------|\n",
       "| Men's Tropical Plaid Short-Sleeve Shirt | Our lightest hot-weather shirt is rated UPF 50+ for superior protection from the sun's UV rays. Made of 100% polyester, it is wrinkle-resistant and features front and back cape venting and two front bellows pockets. Imported. |\n",
       "| Men's Plaid Tropic Shirt, Short-Sleeve | Originally designed for fishing, this shirt offers UPF 50+ coverage and is great for extended travel. Made with 52% polyester and 48% nylon, it is wrinkle-free and quickly evaporates perspiration. Features front and back cape venting, two front bellows pockets, and is machine washable and dryable. Imported. |\n",
       "| Men's TropicVibe Shirt, Short-Sleeve | This shirt has built-in UPF 50+ sun protection and a lightweight feel. Made with 71% nylon and 29% polyester, it is wrinkle-resistant and features front and back cape venting and two front bellows pockets. Imported. |\n",
       "| Sun Shield Shirt | This high-performance sun shirt is guaranteed to protect from harmful UV rays. Made with 78% nylon and 22% Lycra Xtra Life fiber, it is UPF 50+ rated and wicks moisture for quick-drying comfort. Fits comfortably over swimsuits and is abrasion-resistant. Imported. |\n",
       "\n",
       "- Men's Tropical Plaid Short-Sleeve Shirt: This shirt is the lightest hot-weather option with UPF 50+ sun protection. It is made of wrinkle-resistant polyester and features front and back cape venting and two front bellows pockets.\n",
       "- Men's Plaid Tropic Shirt, Short-Sleeve: Originally designed for fishing, this shirt offers UPF 50+ coverage and is ideal for travel. It is made of a polyester-nylon blend, is wrinkle-free, and has front and back cape venting and two front bellows pockets.\n",
       "- Men's TropicVibe Shirt, Short-Sleeve: This shirt has built-in UPF 50+ sun protection and a lightweight feel. It is made of nylon and polyester, is wrinkle-resistant, and features front and back cape venting and two front bellows pockets.\n",
       "- Sun Shield Shirt: This high-performance sun shirt is UPF 50+ rated and made of nylon and Lycra Xtra Life fiber. It wicks moisture, fits comfortably over swimsuits, and is abrasion-resistant."
      ],
      "text/plain": [
       "<IPython.core.display.Markdown object>"
      ]
     },
     "metadata": {},
     "output_type": "display_data"
    }
   ],
   "source": [
    "display(Markdown(response))"
   ]
  },
  {
   "cell_type": "code",
   "execution_count": null,
   "id": "fc2a2ca9",
   "metadata": {},
   "outputs": [],
   "source": []
  }
 ],
 "metadata": {
  "kernelspec": {
   "display_name": "Python 3 (ipykernel)",
   "language": "python",
   "name": "python3"
  },
  "language_info": {
   "codemirror_mode": {
    "name": "ipython",
    "version": 3
   },
   "file_extension": ".py",
   "mimetype": "text/x-python",
   "name": "python",
   "nbconvert_exporter": "python",
   "pygments_lexer": "ipython3",
   "version": "3.10.1"
  }
 },
 "nbformat": 4,
 "nbformat_minor": 5
}

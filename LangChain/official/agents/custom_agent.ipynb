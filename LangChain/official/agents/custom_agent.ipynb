{
 "cells": [
  {
   "cell_type": "code",
   "execution_count": 1,
   "metadata": {},
   "outputs": [],
   "source": [
    "from langchain_openai import ChatOpenAI\n",
    "\n",
    "llm = ChatOpenAI(model=\"gpt-3.5-turbo\", temperature=0)"
   ]
  },
  {
   "cell_type": "code",
   "execution_count": 2,
   "metadata": {},
   "outputs": [],
   "source": [
    "# from langchain.agents import tool\n",
    "\n",
    "# @tool\n",
    "# def get_word_length(word: str) -> int:\n",
    "#     \"\"\"Returns the length of a word.\"\"\"\n",
    "#     return len(word)\n",
    "\n",
    "\n",
    "# tools = [get_word_length]"
   ]
  },
  {
   "cell_type": "code",
   "execution_count": 8,
   "metadata": {},
   "outputs": [],
   "source": [
    "from langchain_community.tools.tavily_search import TavilySearchResults\n",
    "tools = [TavilySearchResults(max_results=2)]"
   ]
  },
  {
   "cell_type": "code",
   "execution_count": 9,
   "metadata": {},
   "outputs": [],
   "source": [
    "from langchain_core.prompts import ChatPromptTemplate, MessagesPlaceholder\n",
    "\n",
    "prompt = ChatPromptTemplate.from_messages(\n",
    "    [\n",
    "        (\n",
    "            \"system\",\n",
    "            \"You are very powerful assistant, but don't know current events\",\n",
    "        ),\n",
    "        (\"user\", \"{input}\"),\n",
    "        MessagesPlaceholder(variable_name=\"agent_scratchpad\"),\n",
    "    ]\n",
    ")"
   ]
  },
  {
   "cell_type": "code",
   "execution_count": 22,
   "metadata": {},
   "outputs": [],
   "source": [
    "from langchain_community.tools.convert_to_openai import (\n",
    "    format_tool_to_openai_function\n",
    ")\n",
    "llm_with_tools = llm.bind(\n",
    "    functions=[\n",
    "        format_tool_to_openai_function(t)\n",
    "        for t in tools\n",
    "    ],\n",
    ")"
   ]
  },
  {
   "cell_type": "code",
   "execution_count": 15,
   "metadata": {},
   "outputs": [
    {
     "data": {
      "text/plain": [
       "[{'name': 'tavily_search_results_json',\n",
       "  'description': 'A search engine optimized for comprehensive, accurate, and trusted results. Useful for when you need to answer questions about current events. Input should be a search query.',\n",
       "  'parameters': {'title': 'TavilyInput',\n",
       "   'description': 'Input for the Tavily tool.',\n",
       "   'type': 'object',\n",
       "   'properties': {'query': {'title': 'Query',\n",
       "     'description': 'search query to look up',\n",
       "     'type': 'string'}},\n",
       "   'required': ['query']}}]"
      ]
     },
     "execution_count": 15,
     "metadata": {},
     "output_type": "execute_result"
    }
   ],
   "source": [
    "llm_with_tools.kwargs['functions']"
   ]
  },
  {
   "cell_type": "code",
   "execution_count": 11,
   "metadata": {},
   "outputs": [],
   "source": [
    "from langchain.agents.format_scratchpad import format_to_openai_function_messages\n",
    "from langchain.agents.output_parsers import OpenAIFunctionsAgentOutputParser\n",
    "\n",
    "agent = (\n",
    "    {\n",
    "        \"input\": lambda x: x[\"input\"],\n",
    "        \"agent_scratchpad\": lambda x: format_to_openai_function_messages(\n",
    "            x[\"intermediate_steps\"]\n",
    "        ),\n",
    "    }\n",
    "    | prompt\n",
    "    | llm_with_tools\n",
    "    | OpenAIFunctionsAgentOutputParser()\n",
    ")"
   ]
  },
  {
   "cell_type": "code",
   "execution_count": 12,
   "metadata": {},
   "outputs": [],
   "source": [
    "from langchain.agents import AgentExecutor\n",
    "\n",
    "agent_executor = AgentExecutor(agent=agent, tools=tools, verbose=True)"
   ]
  },
  {
   "cell_type": "code",
   "execution_count": 17,
   "metadata": {},
   "outputs": [
    {
     "name": "stdout",
     "output_type": "stream",
     "text": [
      "\n",
      "\n",
      "\u001b[1m> Entering new AgentExecutor chain...\u001b[0m\n",
      "\u001b[32;1m\u001b[1;3m\n",
      "Invoking: `tavily_search_results_json` with `{'query': '2024年 京都 おすすめ'}`\n",
      "\n",
      "\n",
      "\u001b[0m\u001b[36;1m\u001b[1;3m[{'url': 'https://rtrp.jp/articles/7858/', 'content': '【2024年最新】京都おすすめ観光スポット43選！絶対に外さないスポットを厳選！ Neptune更新日：2024年01月04日 [[ article.favoriteCnt ]] お気に入り 13161631 View  のスポットから穴場スポットまでおすすめ観光スポットを43箇所おすすめしたいと思います。お寺や神社以外のスポットも掲載しています。京都を観光する時はぜひ参考にしてみてくださいね！  どの時期もおすすめの定番観光地。 かなり混雑していますが、いつ行っても楽しめます。 オススメは桜の時期！ 鹿苑寺\\u3000金閣寺 鹿苑寺 金閣寺 京都府京都市北区金閣寺町1 金閣寺  世界中から人気の高い観光都市「京都」、修学旅行などで一度は訪れたことがあるんじゃないでしょうか？でも京都にはまだまだあなたの知らない魅力がたくさんあるんです！今回は京都のおすすめの観光スポットを定番のスポットから穴場スポットまでおすすめ観【2024年最新】京都おすすめ観光スポット43選! 絶対に外さないスポットを厳選! Neptune更新日：2024年01月04日 ツイート シェア はてぶ あとで 世界中から人気の高い観光都市「京都」、修学旅行などで一度は訪れたことがあるんじゃないでしょうか？ でも京都にはまだまだあなたの知らない魅力がたくさんあるんです! 今回は京都のおすすめの観光スポットを定番のスポットから穴場スポットまでおすすめ観光スポットを43箇所おすすめしたいと思います。 お寺や神社以外のスポットも掲載しています。 京都を観光する時はぜひ参考にしてみてくださいね! 当サイト内のおでかけ情報に関して 情報は記事掲載時点のものです。 施設によって営業時間の変更や休業などの可能性があります。'}, {'url': 'https://ja.kyoto.travel/specialopening/winter/sennen.php', 'content': '2024年3月17日(日) 美しい京都を未来につなぐ旅 -銘木師と紐解く上賀茂神社の木の秘密- まち歩き／ツアー／体験 2023年12月～2024年4月の限定日  おすすめモデルコース 旅のカタチ あなたの好みからモデルプランを提案 観光コンシェルジュ 食の京都 ロケ地・ゆかりの地を旅する 観光スポット・サービス情報 ピックアップ 世界遺産二条城をめぐるガイドツアー 元離宮二条城 二条城売店  まち歩き／ツアー／体験 2024年1月19日(金)～1月20日(土) 1泊2日 「泉涌寺」「西本願寺」京の冬の旅特別公開 大阪松竹座「坂東玉三郎はるのひととき」１等席観覧 ２日間 グルメ／マーケット／その他 【京料理 萬重】  まち歩き／ツアー／体験 2024年1月13日（土）～2024年3月31日（日） ※14日前までに要予約 新春の京都を人力車で巡る都七福神と高級湯どうふ グルメ／マーケット／その他 2024年2月23日(金・祝)・24日(土)・25日(日)HOME 第58回 京の冬の旅（2024年1月〜3月開催） 京都「千年の心得」 京都「千年の心得」 千年を超える歴史に培われ、今も日常に根付いている「京都の奥深い上質な魅力」に出会う・・・。 そんな京都ならではの貴重な体験ができる観光プラン『京都「千年の心得」』。 京都で育まれてきた歴史や文化、技に触れ、日常を忘れてじっくり自分を見つめ直すことができる多彩なプランをご用意しています。 ※プランによって予約方法・お問い合わせ先が異なります。 プラン内容の詳細については直接お問い合わせください。 ※各プランはすべて事前予約制です。 ※各プランには受付締切日がございますのでお早目にご予約をお願いします。 ※最少催行人数の設定があるプランについては、定員の欄に記載しております。'}]\u001b[0m\u001b[32;1m\u001b[1;3m2024年の京都のおすすめ情報を検索しました。以下の情報が見つかりました。\n",
      "\n",
      "1. [【2024年最新】京都おすすめ観光スポット43選！絶対に外さないスポットを厳選！](https://rtrp.jp/articles/7858/)\n",
      "   - お寺や神社以外のスポットも含め、43箇所のおすすめ観光スポットが紹介されています。桜の時期には特にオススメです。\n",
      "\n",
      "2. [2024年3月17日(日) 美しい京都を未来につなぐ旅 -銘木師と紐解く上賀茂神社の木の秘密-](https://ja.kyoto.travel/specialopening/winter/sennen.php)\n",
      "   - 2023年12月から2024年4月までの限定日に開催されるイベントです。上賀茂神社の木の秘密を銘木師と一緒に探索するツアーがあります。\n",
      "\n",
      "詳細な情報はリンク先をご確認ください。\u001b[0m\n",
      "\n",
      "\u001b[1m> Finished chain.\u001b[0m\n"
     ]
    }
   ],
   "source": [
    "res = agent_executor.invoke({\"input\": \"2024年の京都のおすすめを検索して教えて\"})"
   ]
  },
  {
   "cell_type": "code",
   "execution_count": 21,
   "metadata": {},
   "outputs": [
    {
     "data": {
      "text/markdown": [
       "2024年の京都のおすすめ情報を検索しました。以下の情報が見つかりました。\n",
       "\n",
       "1. [【2024年最新】京都おすすめ観光スポット43選！絶対に外さないスポットを厳選！](https://rtrp.jp/articles/7858/)\n",
       "   - お寺や神社以外のスポットも含め、43箇所のおすすめ観光スポットが紹介されています。桜の時期には特にオススメです。\n",
       "\n",
       "2. [2024年3月17日(日) 美しい京都を未来につなぐ旅 -銘木師と紐解く上賀茂神社の木の秘密-](https://ja.kyoto.travel/specialopening/winter/sennen.php)\n",
       "   - 2023年12月から2024年4月までの限定日に開催されるイベントです。上賀茂神社の木の秘密を銘木師と一緒に探索するツアーがあります。\n",
       "\n",
       "詳細な情報はリンク先をご確認ください。"
      ],
      "text/plain": [
       "<IPython.core.display.Markdown object>"
      ]
     },
     "execution_count": 21,
     "metadata": {},
     "output_type": "execute_result"
    }
   ],
   "source": [
    "from IPython.display import Markdown\n",
    "Markdown(res['output'])"
   ]
  }
 ],
 "metadata": {
  "kernelspec": {
   "display_name": ".venv",
   "language": "python",
   "name": "python3"
  },
  "language_info": {
   "codemirror_mode": {
    "name": "ipython",
    "version": 3
   },
   "file_extension": ".py",
   "mimetype": "text/x-python",
   "name": "python",
   "nbconvert_exporter": "python",
   "pygments_lexer": "ipython3",
   "version": "3.10.13"
  }
 },
 "nbformat": 4,
 "nbformat_minor": 2
}

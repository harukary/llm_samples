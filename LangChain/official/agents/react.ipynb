{
 "cells": [
  {
   "cell_type": "markdown",
   "metadata": {},
   "source": [
    "https://python.langchain.com/docs/modules/agents/agent_types/react"
   ]
  },
  {
   "cell_type": "code",
   "execution_count": 1,
   "metadata": {},
   "outputs": [
    {
     "data": {
      "text/plain": [
       "True"
      ]
     },
     "execution_count": 1,
     "metadata": {},
     "output_type": "execute_result"
    }
   ],
   "source": [
    "from dotenv import load_dotenv, find_dotenv; load_dotenv(find_dotenv())"
   ]
  },
  {
   "cell_type": "code",
   "execution_count": 2,
   "metadata": {},
   "outputs": [],
   "source": [
    "!export LANGCHAIN_TRACING_V2=true"
   ]
  },
  {
   "cell_type": "code",
   "execution_count": 3,
   "metadata": {},
   "outputs": [],
   "source": [
    "from langchain import hub\n",
    "from langchain.agents import AgentExecutor, create_react_agent\n",
    "from langchain_community.tools.tavily_search import TavilySearchResults\n",
    "from langchain_openai import ChatOpenAI"
   ]
  },
  {
   "cell_type": "code",
   "execution_count": 4,
   "metadata": {},
   "outputs": [],
   "source": [
    "tools = [TavilySearchResults(max_results=3)]"
   ]
  },
  {
   "cell_type": "code",
   "execution_count": 5,
   "metadata": {},
   "outputs": [
    {
     "name": "stderr",
     "output_type": "stream",
     "text": [
      "/Users/harukary/Documents/workspace/llm_samples/.venv/lib/python3.10/site-packages/langchain_core/_api/beta_decorator.py:160: LangChainBetaWarning: The function `loads` is in beta. It is actively being worked on, so the API may change.\n",
      "  warn_beta(\n"
     ]
    },
    {
     "data": {
      "text/plain": [
       "PromptTemplate(input_variables=['agent_scratchpad', 'input', 'tool_names', 'tools'], template='Answer the following questions as best you can. You have access to the following tools:\\n\\n{tools}\\n\\nUse the following format:\\n\\nQuestion: the input question you must answer\\nThought: you should always think about what to do\\nAction: the action to take, should be one of [{tool_names}]\\nAction Input: the input to the action\\nObservation: the result of the action\\n... (this Thought/Action/Action Input/Observation can repeat N times)\\nThought: I now know the final answer\\nFinal Answer: the final answer to the original input question\\n\\nBegin!\\n\\nQuestion: {input}\\nThought:{agent_scratchpad}')"
      ]
     },
     "execution_count": 5,
     "metadata": {},
     "output_type": "execute_result"
    }
   ],
   "source": [
    "# Get the prompt to use - you can modify this!\n",
    "prompt = hub.pull(\"hwchase17/react\")\n",
    "prompt"
   ]
  },
  {
   "cell_type": "code",
   "execution_count": 6,
   "metadata": {},
   "outputs": [],
   "source": [
    "# Choose the LLM to use\n",
    "llm = ChatOpenAI(model='gpt-3.5-turbo-16k')\n",
    "\n",
    "# Construct the ReAct agent\n",
    "agent = create_react_agent(llm, tools, prompt)"
   ]
  },
  {
   "cell_type": "code",
   "execution_count": 7,
   "metadata": {},
   "outputs": [],
   "source": [
    "# Create an agent executor by passing in the agent and tools\n",
    "agent_executor = AgentExecutor(\n",
    "    agent=agent, tools=tools,\n",
    "    handle_parsing_errors=True,\n",
    "    verbose=True\n",
    ")"
   ]
  },
  {
   "cell_type": "code",
   "execution_count": 8,
   "metadata": {},
   "outputs": [
    {
     "name": "stdout",
     "output_type": "stream",
     "text": [
      "\n",
      "\n",
      "\u001b[1m> Entering new AgentExecutor chain...\u001b[0m\n",
      "\u001b[32;1m\u001b[1;3mI need to search for information about LangChain to answer the question accurately.\n",
      "Action: tavily_search_results_json\n",
      "Action Input: \"LangChain\"\u001b[0m\u001b[36;1m\u001b[1;3m[{'url': 'https://blog.stackademic.com/langchain-in-chains-1-a-closer-look-a6bbaa246ccb', 'content': 'Langchain  LangChain is an open-source framework designed to simplify the creation of applications using large language models  Langchain provides various components that make it easier to integrate and manage models in different application  LangChain is a framework for developing applications powered by language models. It enables applications that:1 day ago -- This is the first part of a series about LangChain. I will introduce its core concepts. In each subsequent post, we will expand our understanding of the framework. LangChain is an open-source framework designed to simplify the creation of applications using large language models (LLMs).'}, {'url': 'https://medium.com/@okanyenigun/langchain-in-chains-1-a-closer-look-a6bbaa246ccb', 'content': 'Langchain  LangChain is an open-source framework designed to simplify the creation of applications using large language models  Langchain provides various components that make it easier to integrate and manage models in different application  LangChain is a framework for developing applications powered by language models. It enables applications that:This is the first part of a series about LangChain. I will introduce its core concepts. In each subsequent post, we will expand our understanding of the framework. LangChain is an open-source…'}, {'url': 'https://slashdev.io/blog/the-ultimate-guide-to-langchain-in-2024', 'content': 'LangChain represents the cutting edge in language model technology, heralding a new era of artificial intelligence (AI)  LangChain is built on a foundation of complex algorithms and machine learning models that form its core architecture,  LangChain’s transformative role is evident in several key areas that define the next generation of AI communication.  LangChain a highly versatile tool for building AI solutions that can cater to a broad spectrum of conversational needs.The Ultimate Guide To LangChain In 2024 LangChain represents the cutting edge in language model technology, heralding a new era of artificial intelligence (AI) with remarkable conversational abil'}]\u001b[0m\u001b[32;1m\u001b[1;3mBased on the search results, LangChain is an open-source framework designed to simplify the creation of applications using large language models. It provides various components that make it easier to integrate and manage models in different applications. LangChain is built on complex algorithms and machine learning models, and it is considered the cutting edge in language model technology. It enables the development of AI solutions that can cater to a broad spectrum of conversational needs.\n",
      "\n",
      "Final Answer: LangChain is an open-source framework for developing applications powered by language models.\u001b[0m\n",
      "\n",
      "\u001b[1m> Finished chain.\u001b[0m\n"
     ]
    },
    {
     "data": {
      "text/plain": [
       "{'input': 'what is LangChain?',\n",
       " 'output': 'LangChain is an open-source framework for developing applications powered by language models.'}"
      ]
     },
     "execution_count": 8,
     "metadata": {},
     "output_type": "execute_result"
    }
   ],
   "source": [
    "agent_executor.invoke({\"input\": \"what is LangChain?\"})"
   ]
  },
  {
   "cell_type": "markdown",
   "metadata": {},
   "source": [
    "### Using with chat history"
   ]
  },
  {
   "cell_type": "code",
   "execution_count": 9,
   "metadata": {},
   "outputs": [
    {
     "name": "stderr",
     "output_type": "stream",
     "text": [
      "/Users/harukary/Documents/workspace/llm_samples/.venv/lib/python3.10/site-packages/langchain_core/_api/beta_decorator.py:160: LangChainBetaWarning: The function `loads` is in beta. It is actively being worked on, so the API may change.\n",
      "  warn_beta(\n"
     ]
    },
    {
     "data": {
      "text/plain": [
       "PromptTemplate(input_variables=['agent_scratchpad', 'chat_history', 'input', 'tool_names', 'tools'], template='Assistant is a large language model trained by OpenAI.\\n\\nAssistant is designed to be able to assist with a wide range of tasks, from answering simple questions to providing in-depth explanations and discussions on a wide range of topics. As a language model, Assistant is able to generate human-like text based on the input it receives, allowing it to engage in natural-sounding conversations and provide responses that are coherent and relevant to the topic at hand.\\n\\nAssistant is constantly learning and improving, and its capabilities are constantly evolving. It is able to process and understand large amounts of text, and can use this knowledge to provide accurate and informative responses to a wide range of questions. Additionally, Assistant is able to generate its own text based on the input it receives, allowing it to engage in discussions and provide explanations and descriptions on a wide range of topics.\\n\\nOverall, Assistant is a powerful tool that can help with a wide range of tasks and provide valuable insights and information on a wide range of topics. Whether you need help with a specific question or just want to have a conversation about a particular topic, Assistant is here to assist.\\n\\nTOOLS:\\n------\\n\\nAssistant has access to the following tools:\\n\\n{tools}\\n\\nTo use a tool, please use the following format:\\n\\n```\\nThought: Do I need to use a tool? Yes\\nAction: the action to take, should be one of [{tool_names}]\\nAction Input: the input to the action\\nObservation: the result of the action\\n```\\n\\nWhen you have a response to say to the Human, or if you do not need to use a tool, you MUST use the format:\\n\\n```\\nThought: Do I need to use a tool? No\\nFinal Answer: [your response here]\\n```\\n\\nBegin!\\n\\nPrevious conversation history:\\n{chat_history}\\n\\nNew input: {input}\\n{agent_scratchpad}')"
      ]
     },
     "execution_count": 9,
     "metadata": {},
     "output_type": "execute_result"
    }
   ],
   "source": [
    "# Get the prompt to use - you can modify this!\n",
    "prompt = hub.pull(\"hwchase17/react-chat\")\n",
    "prompt"
   ]
  },
  {
   "cell_type": "code",
   "execution_count": 10,
   "metadata": {},
   "outputs": [],
   "source": [
    "# Construct the ReAct agent\n",
    "agent = create_react_agent(llm, tools, prompt)\n",
    "agent_executor = AgentExecutor(\n",
    "    agent=agent, tools=tools,\n",
    "    handle_parsing_errors=True,\n",
    "    verbose=True\n",
    ")"
   ]
  },
  {
   "cell_type": "code",
   "execution_count": 11,
   "metadata": {},
   "outputs": [
    {
     "name": "stdout",
     "output_type": "stream",
     "text": [
      "\n",
      "\n",
      "\u001b[1m> Entering new AgentExecutor chain...\u001b[0m\n",
      "\u001b[32;1m\u001b[1;3mThought: Do I need to use a tool? Yes\n",
      "Action: tavily_search_results_json\n",
      "Action Input: \"famous things in Seto\"\u001b[0m\u001b[36;1m\u001b[1;3m[{'url': 'https://travopo.com/travel-guides/japan/seto-shi/', 'content': \"places to visit and things to do in Seto shi in 2024. Make your own Itinerary, like a Pro.  Fun Things to Do in Seto shi | Travel Guide (2024) | Best Places to Visit  Here are some things to do in Seto-shi:  4. Experience the Seto International Ceramic and Glass Art Exchange Exhibition: Seto-shi is famous for its ceramics,1. Visit the Seto City Art Museum: This museum is renowned for its collection of contemporary art, including works by local ceramic artists. Explore the various exhibitions and gain insight into the city's artistic legacy. 2.\"}, {'url': 'https://www.morningstar.com/news/globe-newswire/9011755/seven-secret-places-in-setouchi-to-visit-in-2024', 'content': \"Seven Secret Places in Setouchi to Visit in 2024 Setouchi, Japan, Jan. 03, 2024  So Much More to Setouchi  that Setouchi has to offer, promising an unforgettable journey into the heart of Japan.  out as an authentic and accessible destination for 2024. With numerous bullet train stops and ferry network, SetouchiThese carefully selected locations offer a unique escape. With the problem of overtourism, it's becoming almost a necessity to get off the beaten path and see the lesser-known sides of Japan. 1 -...\"}, {'url': 'https://blog.japanwondertravel.com/complete-guide-to-naoshima-19358', 'content': 'Shodoshima  Tours in Naoshima  Naoshima Hall  swim in the clear water. In summer, the Naoshima fire festival is held around the beach with more than 1,800 fireworksNaoshima is an art island located in the Seto Inland Sea in Japan. It has been gotten more attentions lately due to the beautiful sea and a number of modern museums and galleries. Becoming a new center of the contemporary art, there are more visitors coming to the island from all over the world! In this article, we will share things to do in Naoshima focusing on art museums which will touch ...'}]\u001b[0m\u001b[32;1m\u001b[1;3mFinal Answer: Seto is famous for its ceramics and art. The Seto International Ceramic and Glass Art Exchange Exhibition is a popular attraction, showcasing the city's renowned ceramics. The Seto City Art Museum is also worth visiting, as it houses a collection of contemporary art, including works by local ceramic artists. Additionally, Seto is located near Naoshima, an art island in the Seto Inland Sea known for its modern museums and galleries.\u001b[0m\n",
      "\n",
      "\u001b[1m> Finished chain.\u001b[0m\n"
     ]
    },
    {
     "data": {
      "text/plain": [
       "{'input': 'My hometown is Seto. What is the famous thing in there? Only use a tool if needed, otherwise respond with Final Answer',\n",
       " 'chat_history': 'Human: Hi! My name is Bob\\nAI: Hello Bob! Nice to meet you',\n",
       " 'output': \"Seto is famous for its ceramics and art. The Seto International Ceramic and Glass Art Exchange Exhibition is a popular attraction, showcasing the city's renowned ceramics. The Seto City Art Museum is also worth visiting, as it houses a collection of contemporary art, including works by local ceramic artists. Additionally, Seto is located near Naoshima, an art island in the Seto Inland Sea known for its modern museums and galleries.\"}"
      ]
     },
     "execution_count": 11,
     "metadata": {},
     "output_type": "execute_result"
    }
   ],
   "source": [
    "from langchain_core.messages import AIMessage, HumanMessage\n",
    "\n",
    "agent_executor.invoke(\n",
    "    {\n",
    "        \"input\": \"My hometown is Seto. What is the famous thing in there? Only use a tool if needed, otherwise respond with Final Answer\",\n",
    "        # Notice that chat_history is a string, since this prompt is aimed at LLMs, not chat models\n",
    "        \"chat_history\": \"Human: Hi! My name is Bob\\nAI: Hello Bob! Nice to meet you\",\n",
    "    }\n",
    ")"
   ]
  }
 ],
 "metadata": {
  "kernelspec": {
   "display_name": ".venv",
   "language": "python",
   "name": "python3"
  },
  "language_info": {
   "codemirror_mode": {
    "name": "ipython",
    "version": 3
   },
   "file_extension": ".py",
   "mimetype": "text/x-python",
   "name": "python",
   "nbconvert_exporter": "python",
   "pygments_lexer": "ipython3",
   "version": "3.10.13"
  }
 },
 "nbformat": 4,
 "nbformat_minor": 2
}

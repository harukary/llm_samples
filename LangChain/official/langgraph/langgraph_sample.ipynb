{
 "cells": [
  {
   "cell_type": "code",
   "execution_count": 1,
   "metadata": {},
   "outputs": [],
   "source": [
    "# !pip install langgraph\n",
    "# !pip install -U langchain langchain_openai langchainhub tavily-python"
   ]
  },
  {
   "cell_type": "code",
   "execution_count": 1,
   "metadata": {},
   "outputs": [
    {
     "data": {
      "text/plain": [
       "True"
      ]
     },
     "execution_count": 1,
     "metadata": {},
     "output_type": "execute_result"
    }
   ],
   "source": [
    "from dotenv import load_dotenv, find_dotenv; load_dotenv(find_dotenv())"
   ]
  },
  {
   "cell_type": "code",
   "execution_count": 3,
   "metadata": {},
   "outputs": [],
   "source": [
    "# export LANGCHAIN_TRACING_V2=\"true\"\n",
    "# export LANGCHAIN_API_KEY=ls__...\n",
    "# export LANGCHAIN_ENDPOINT=https://api.langchain.plus"
   ]
  },
  {
   "cell_type": "markdown",
   "metadata": {},
   "source": [
    "### [Define the LangChain Agent](https://python.langchain.com/docs/langgraph#define-the-langchain-agent)"
   ]
  },
  {
   "cell_type": "code",
   "execution_count": 11,
   "metadata": {},
   "outputs": [
    {
     "name": "stderr",
     "output_type": "stream",
     "text": [
      "/Users/harukary/Documents/workspace/llm_samples/.venv/lib/python3.10/site-packages/langchain_core/_api/beta_decorator.py:160: LangChainBetaWarning: The function `loads` is in beta. It is actively being worked on, so the API may change.\n",
      "  warn_beta(\n"
     ]
    }
   ],
   "source": [
    "from langchain import hub\n",
    "from langchain.agents import create_openai_functions_agent\n",
    "from langchain_openai.chat_models import ChatOpenAI\n",
    "from langchain_community.tools.tavily_search import TavilySearchResults\n",
    "\n",
    "tools = [TavilySearchResults(max_results=1)]\n",
    "\n",
    "# Get the prompt to use - you can modify this!\n",
    "prompt = hub.pull(\"hwchase17/openai-functions-agent\")\n",
    "\n",
    "# Choose the LLM that will drive the agent\n",
    "llm = ChatOpenAI(model=\"gpt-3.5-turbo-1106\")\n",
    "\n",
    "# Construct the OpenAI Functions agent\n",
    "agent_runnable = create_openai_functions_agent(llm, tools, prompt)"
   ]
  },
  {
   "cell_type": "markdown",
   "metadata": {},
   "source": [
    "### [Define the nodes](https://python.langchain.com/docs/langgraph#define-the-nodes)"
   ]
  },
  {
   "cell_type": "code",
   "execution_count": 5,
   "metadata": {},
   "outputs": [],
   "source": [
    "from langchain_core.runnables import RunnablePassthrough\n",
    "from langchain_core.agents import AgentFinish\n",
    "\n",
    "\n",
    "# Define the agent\n",
    "# Note that here, we are using `.assign` to add the output of the agent to the dictionary\n",
    "# This dictionary will be returned from the node\n",
    "# The reason we don't want to return just the result of `agent_runnable` from this node is\n",
    "# that we want to continue passing around all the other inputs\n",
    "agent = RunnablePassthrough.assign(\n",
    "    agent_outcome = agent_runnable\n",
    ")\n",
    "\n",
    "# Define the function to execute tools\n",
    "def execute_tools(data):\n",
    "    # Get the most recent agent_outcome - this is the key added in the `agent` above\n",
    "    agent_action = data.pop('agent_outcome')\n",
    "    # Get the tool to use\n",
    "    tool_to_use = {t.name: t for t in tools}[agent_action.tool]\n",
    "    # Call that tool on the input\n",
    "    observation = tool_to_use.invoke(agent_action.tool_input)\n",
    "    # We now add in the action and the observation to the `intermediate_steps` list\n",
    "    # This is the list of all previous actions taken and their output\n",
    "    data['intermediate_steps'].append((agent_action, observation))\n",
    "    return data\n",
    "\n",
    "# Define logic that will be used to determine which conditional edge to go down\n",
    "def should_continue(data):\n",
    "    # If the agent outcome is an AgentFinish, then we return `exit` string\n",
    "    # This will be used when setting up the graph to define the flow\n",
    "    if isinstance(data['agent_outcome'], AgentFinish):\n",
    "        return \"exit\"\n",
    "    # Otherwise, an AgentAction is returned\n",
    "    # Here we return `continue` string\n",
    "    # This will be used when setting up the graph to define the flow\n",
    "    else:\n",
    "        return \"continue\""
   ]
  },
  {
   "cell_type": "markdown",
   "metadata": {},
   "source": [
    "### [Define the graph](https://python.langchain.com/docs/langgraph#define-the-graph)"
   ]
  },
  {
   "cell_type": "code",
   "execution_count": 6,
   "metadata": {},
   "outputs": [],
   "source": [
    "from langgraph.graph import END, Graph\n",
    "\n",
    "workflow = Graph()\n",
    "\n",
    "# Add the agent node, we give it name `agent` which we will use later\n",
    "workflow.add_node(\"agent\", agent)\n",
    "# Add the tools node, we give it name `tools` which we will use later\n",
    "workflow.add_node(\"tools\", execute_tools)\n",
    "\n",
    "# Set the entrypoint as `agent`\n",
    "# This means that this node is the first one called\n",
    "workflow.set_entry_point(\"agent\")\n",
    "\n",
    "# We now add a conditional edge\n",
    "workflow.add_conditional_edges(\n",
    "    # First, we define the start node. We use `agent`.\n",
    "    # This means these are the edges taken after the `agent` node is called.\n",
    "    \"agent\",\n",
    "    # Next, we pass in the function that will determine which node is called next.\n",
    "    should_continue,\n",
    "    # Finally we pass in a mapping.\n",
    "    # The keys are strings, and the values are other nodes.\n",
    "    # END is a special node marking that the graph should finish.\n",
    "    # What will happen is we will call `should_continue`, and then the output of that\n",
    "    # will be matched against the keys in this mapping.\n",
    "    # Based on which one it matches, that node will then be called.\n",
    "    {\n",
    "        # If `tools`, then we call the tool node.\n",
    "        \"continue\": \"tools\",\n",
    "        # Otherwise we finish.\n",
    "        \"exit\": END\n",
    "    }\n",
    ")\n",
    "\n",
    "# We now add a normal edge from `tools` to `agent`.\n",
    "# This means that after `tools` is called, `agent` node is called next.\n",
    "workflow.add_edge('tools', 'agent')\n",
    "\n",
    "# Finally, we compile it!\n",
    "# This compiles it into a LangChain Runnable,\n",
    "# meaning you can use it as you would any other runnable\n",
    "chain = workflow.compile()"
   ]
  },
  {
   "cell_type": "markdown",
   "metadata": {},
   "source": [
    "### [Use it!](https://python.langchain.com/docs/langgraph#use-it)"
   ]
  },
  {
   "cell_type": "code",
   "execution_count": 7,
   "metadata": {},
   "outputs": [
    {
     "data": {
      "text/plain": [
       "{'input': 'what is the weather in sf',\n",
       " 'intermediate_steps': [(AgentActionMessageLog(tool='tavily_search_results_json', tool_input={'query': 'weather in San Francisco'}, log=\"\\nInvoking: `tavily_search_results_json` with `{'query': 'weather in San Francisco'}`\\n\\n\\n\", message_log=[AIMessage(content='', additional_kwargs={'function_call': {'arguments': '{\"query\":\"weather in San Francisco\"}', 'name': 'tavily_search_results_json'}})]),\n",
       "   [{'url': 'https://en.climate-data.org/north-america/united-states-of-america/california/san-francisco-385/t/january-1/',\n",
       "     'content': 'San Francisco Weather in January  San Francisco weather in January San Francisco weather by month // weather averages 9.6 (49.2) 6.2 (43.2) 14 (57.3) 113  Data: 1999 - 2019: avg. Sun hours San Francisco weather and climate for further months  you can find all information about the weather in San Francisco in January:Data: 1991 - 2021 Min. Temperature °C (°F), Max. Temperature °C (°F), Precipitation / Rainfall mm (in), Humidity, Rainy days. Data: 1999 - 2019: avg. Sun hours San Francisco weather and climate for further months San Francisco in February San Francisco in March San Francisco in April San Francisco in May San Francisco in June San Francisco in July'}])],\n",
       " 'agent_outcome': AgentFinish(return_values={'output': 'The weather in San Francisco varies throughout the year. In January, the average minimum temperature is 9.6°C (49.2°F) and the average maximum temperature is 14°C (57.3°F). The average precipitation is 113mm. For further information on the weather in San Francisco for other months, you can visit the following link: [San Francisco Weather](https://en.climate-data.org/north-america/united-states-of-america/california/san-francisco-385/t/january-1/)'}, log='The weather in San Francisco varies throughout the year. In January, the average minimum temperature is 9.6°C (49.2°F) and the average maximum temperature is 14°C (57.3°F). The average precipitation is 113mm. For further information on the weather in San Francisco for other months, you can visit the following link: [San Francisco Weather](https://en.climate-data.org/north-america/united-states-of-america/california/san-francisco-385/t/january-1/)')}"
      ]
     },
     "execution_count": 7,
     "metadata": {},
     "output_type": "execute_result"
    }
   ],
   "source": [
    "res = chain.invoke({\"input\": \"what is the weather in sf\", \"intermediate_steps\": []})\n",
    "res"
   ]
  },
  {
   "cell_type": "code",
   "execution_count": 8,
   "metadata": {},
   "outputs": [
    {
     "name": "stdout",
     "output_type": "stream",
     "text": [
      "The weather in San Francisco varies throughout the year. In January, the average minimum temperature is 9.6°C (49.2°F) and the average maximum temperature is 14°C (57.3°F). The average precipitation is 113mm. For further information on the weather in San Francisco for other months, you can visit the following link: [San Francisco Weather](https://en.climate-data.org/north-america/united-states-of-america/california/san-francisco-385/t/january-1/)\n"
     ]
    }
   ],
   "source": [
    "print(res['agent_outcome'].return_values['output'])"
   ]
  },
  {
   "cell_type": "markdown",
   "metadata": {},
   "source": [
    "### [Streaming Node Output](https://python.langchain.com/docs/langgraph#streaming-node-output)"
   ]
  },
  {
   "cell_type": "code",
   "execution_count": 9,
   "metadata": {},
   "outputs": [
    {
     "name": "stdout",
     "output_type": "stream",
     "text": [
      "Output from node 'agent':\n",
      "---\n",
      "{'input': 'what is the weather in sf', 'intermediate_steps': [], 'agent_outcome': AgentActionMessageLog(tool='tavily_search_results_json', tool_input={'query': 'weather in San Francisco'}, log=\"\\nInvoking: `tavily_search_results_json` with `{'query': 'weather in San Francisco'}`\\n\\n\\n\", message_log=[AIMessage(content='', additional_kwargs={'function_call': {'arguments': '{\"query\":\"weather in San Francisco\"}', 'name': 'tavily_search_results_json'}})])}\n",
      "\n",
      "---\n",
      "\n",
      "Output from node 'tools':\n",
      "---\n",
      "{'input': 'what is the weather in sf', 'intermediate_steps': [(AgentActionMessageLog(tool='tavily_search_results_json', tool_input={'query': 'weather in San Francisco'}, log=\"\\nInvoking: `tavily_search_results_json` with `{'query': 'weather in San Francisco'}`\\n\\n\\n\", message_log=[AIMessage(content='', additional_kwargs={'function_call': {'arguments': '{\"query\":\"weather in San Francisco\"}', 'name': 'tavily_search_results_json'}})]), [{'url': 'https://en.climate-data.org/north-america/united-states-of-america/california/san-francisco-385/t/january-1/', 'content': 'San Francisco Weather in January  San Francisco weather in January San Francisco weather by month // weather averages 9.6 (49.2) 6.2 (43.2) 14 (57.3) 113  Data: 1999 - 2019: avg. Sun hours San Francisco weather and climate for further months  you can find all information about the weather in San Francisco in January:Data: 1991 - 2021 Min. Temperature °C (°F), Max. Temperature °C (°F), Precipitation / Rainfall mm (in), Humidity, Rainy days. Data: 1999 - 2019: avg. Sun hours San Francisco weather and climate for further months San Francisco in February San Francisco in March San Francisco in April San Francisco in May San Francisco in June San Francisco in July'}])]}\n",
      "\n",
      "---\n",
      "\n",
      "Output from node 'agent':\n",
      "---\n",
      "{'input': 'what is the weather in sf', 'intermediate_steps': [(AgentActionMessageLog(tool='tavily_search_results_json', tool_input={'query': 'weather in San Francisco'}, log=\"\\nInvoking: `tavily_search_results_json` with `{'query': 'weather in San Francisco'}`\\n\\n\\n\", message_log=[AIMessage(content='', additional_kwargs={'function_call': {'arguments': '{\"query\":\"weather in San Francisco\"}', 'name': 'tavily_search_results_json'}})]), [{'url': 'https://en.climate-data.org/north-america/united-states-of-america/california/san-francisco-385/t/january-1/', 'content': 'San Francisco Weather in January  San Francisco weather in January San Francisco weather by month // weather averages 9.6 (49.2) 6.2 (43.2) 14 (57.3) 113  Data: 1999 - 2019: avg. Sun hours San Francisco weather and climate for further months  you can find all information about the weather in San Francisco in January:Data: 1991 - 2021 Min. Temperature °C (°F), Max. Temperature °C (°F), Precipitation / Rainfall mm (in), Humidity, Rainy days. Data: 1999 - 2019: avg. Sun hours San Francisco weather and climate for further months San Francisco in February San Francisco in March San Francisco in April San Francisco in May San Francisco in June San Francisco in July'}])], 'agent_outcome': AgentFinish(return_values={'output': 'The weather in San Francisco in January typically has an average minimum temperature of 9.6°C (49.2°F) and an average maximum temperature of 14°C (57.3°F). The city experiences an average of 113 rainy days during this month. If you would like more detailed information about the weather in San Francisco for other months, let me know!'}, log='The weather in San Francisco in January typically has an average minimum temperature of 9.6°C (49.2°F) and an average maximum temperature of 14°C (57.3°F). The city experiences an average of 113 rainy days during this month. If you would like more detailed information about the weather in San Francisco for other months, let me know!')}\n",
      "\n",
      "---\n",
      "\n",
      "Output from node '__end__':\n",
      "---\n",
      "{'input': 'what is the weather in sf', 'intermediate_steps': [(AgentActionMessageLog(tool='tavily_search_results_json', tool_input={'query': 'weather in San Francisco'}, log=\"\\nInvoking: `tavily_search_results_json` with `{'query': 'weather in San Francisco'}`\\n\\n\\n\", message_log=[AIMessage(content='', additional_kwargs={'function_call': {'arguments': '{\"query\":\"weather in San Francisco\"}', 'name': 'tavily_search_results_json'}})]), [{'url': 'https://en.climate-data.org/north-america/united-states-of-america/california/san-francisco-385/t/january-1/', 'content': 'San Francisco Weather in January  San Francisco weather in January San Francisco weather by month // weather averages 9.6 (49.2) 6.2 (43.2) 14 (57.3) 113  Data: 1999 - 2019: avg. Sun hours San Francisco weather and climate for further months  you can find all information about the weather in San Francisco in January:Data: 1991 - 2021 Min. Temperature °C (°F), Max. Temperature °C (°F), Precipitation / Rainfall mm (in), Humidity, Rainy days. Data: 1999 - 2019: avg. Sun hours San Francisco weather and climate for further months San Francisco in February San Francisco in March San Francisco in April San Francisco in May San Francisco in June San Francisco in July'}])], 'agent_outcome': AgentFinish(return_values={'output': 'The weather in San Francisco in January typically has an average minimum temperature of 9.6°C (49.2°F) and an average maximum temperature of 14°C (57.3°F). The city experiences an average of 113 rainy days during this month. If you would like more detailed information about the weather in San Francisco for other months, let me know!'}, log='The weather in San Francisco in January typically has an average minimum temperature of 9.6°C (49.2°F) and an average maximum temperature of 14°C (57.3°F). The city experiences an average of 113 rainy days during this month. If you would like more detailed information about the weather in San Francisco for other months, let me know!')}\n",
      "\n",
      "---\n",
      "\n"
     ]
    }
   ],
   "source": [
    "for output in chain.stream(\n",
    "    {\"input\": \"what is the weather in sf\", \"intermediate_steps\": []}\n",
    "):\n",
    "    # stream() yields dictionaries with output keyed by node name\n",
    "    for key, value in output.items():\n",
    "        print(f\"Output from node '{key}':\")\n",
    "        print(\"---\")\n",
    "        print(value)\n",
    "    print(\"\\n---\\n\")"
   ]
  },
  {
   "cell_type": "markdown",
   "metadata": {},
   "source": [
    "### [Streaming LLM Tokens](https://python.langchain.com/docs/langgraph#streaming-llm-tokens)"
   ]
  },
  {
   "cell_type": "code",
   "execution_count": 10,
   "metadata": {},
   "outputs": [
    {
     "name": "stdout",
     "output_type": "stream",
     "text": [
      "content='' additional_kwargs={'function_call': {'arguments': '', 'name': 'tavily_search_results_json'}}\n",
      "content='' additional_kwargs={'function_call': {'arguments': '{\"', 'name': ''}}\n",
      "content='' additional_kwargs={'function_call': {'arguments': 'query', 'name': ''}}\n",
      "content='' additional_kwargs={'function_call': {'arguments': '\":\"', 'name': ''}}\n",
      "content='' additional_kwargs={'function_call': {'arguments': 'weather', 'name': ''}}\n",
      "content='' additional_kwargs={'function_call': {'arguments': ' in', 'name': ''}}\n",
      "content='' additional_kwargs={'function_call': {'arguments': ' San', 'name': ''}}\n",
      "content='' additional_kwargs={'function_call': {'arguments': ' Francisco', 'name': ''}}\n",
      "content='' additional_kwargs={'function_call': {'arguments': '\"}', 'name': ''}}\n",
      "content=''\n",
      "content=''\n",
      "content='The'\n",
      "content=' weather'\n",
      "content=' in'\n",
      "content=' San'\n",
      "content=' Francisco'\n",
      "content=' varies'\n",
      "content=' by'\n",
      "content=' month'\n",
      "content='.'\n",
      "content=' In'\n",
      "content=' January'\n",
      "content=','\n",
      "content=' the'\n",
      "content=' average'\n",
      "content=' minimum'\n",
      "content=' temperature'\n",
      "content=' is'\n",
      "content=' '\n",
      "content='9'\n",
      "content='.'\n",
      "content='6'\n",
      "content='°C'\n",
      "content=' ('\n",
      "content='49'\n",
      "content='.'\n",
      "content='2'\n",
      "content='°F'\n",
      "content=')'\n",
      "content=' and'\n",
      "content=' the'\n",
      "content=' average'\n",
      "content=' maximum'\n",
      "content=' temperature'\n",
      "content=' is'\n",
      "content=' '\n",
      "content='14'\n",
      "content='°C'\n",
      "content=' ('\n",
      "content='57'\n",
      "content='.'\n",
      "content='3'\n",
      "content='°F'\n",
      "content=').'\n",
      "content=' If'\n",
      "content=' you'\n",
      "content=\"'d\"\n",
      "content=' like'\n",
      "content=' more'\n",
      "content=' detailed'\n",
      "content=' information'\n",
      "content=' about'\n",
      "content=' the'\n",
      "content=' weather'\n",
      "content=' in'\n",
      "content=' San'\n",
      "content=' Francisco'\n",
      "content=' for'\n",
      "content=' other'\n",
      "content=' months'\n",
      "content=','\n",
      "content=' you'\n",
      "content=' can'\n",
      "content=' visit'\n",
      "content=' the'\n",
      "content=' following'\n",
      "content=' link'\n",
      "content=':'\n",
      "content=' ['\n",
      "content='San'\n",
      "content=' Francisco'\n",
      "content=' Weather'\n",
      "content=']('\n",
      "content='https'\n",
      "content='://'\n",
      "content='en'\n",
      "content='.cl'\n",
      "content='imate'\n",
      "content='-data'\n",
      "content='.org'\n",
      "content='/n'\n",
      "content='orth'\n",
      "content='-'\n",
      "content='amer'\n",
      "content='ica'\n",
      "content='/un'\n",
      "content='ited'\n",
      "content='-states'\n",
      "content='-of'\n",
      "content='-'\n",
      "content='amer'\n",
      "content='ica'\n",
      "content='/cal'\n",
      "content='ifornia'\n",
      "content='/s'\n",
      "content='an'\n",
      "content='-fr'\n",
      "content='anc'\n",
      "content='isco'\n",
      "content='-'\n",
      "content='385'\n",
      "content='/t'\n",
      "content='/j'\n",
      "content='an'\n",
      "content='uary'\n",
      "content='-'\n",
      "content='1'\n",
      "content='/)'\n",
      "content=''\n"
     ]
    }
   ],
   "source": [
    "async for output in chain.astream_log(\n",
    "    {\"input\": \"what is the weather in sf\", \"intermediate_steps\": []},\n",
    "    include_types=[\"llm\"],\n",
    "):\n",
    "    # astream_log() yields the requested logs (here LLMs) in JSONPatch format\n",
    "    for op in output.ops:\n",
    "        if op[\"path\"] == \"/streamed_output/-\":\n",
    "            # this is the output from .stream()\n",
    "            ...\n",
    "        elif op[\"path\"].startswith(\"/logs/\") and op[\"path\"].endswith(\n",
    "            \"/streamed_output/-\"\n",
    "        ):\n",
    "            # because we chose to only include LLMs, these are LLM tokens\n",
    "            print(op[\"value\"])"
   ]
  },
  {
   "cell_type": "markdown",
   "metadata": {},
   "source": [
    "### 動作確認"
   ]
  },
  {
   "cell_type": "code",
   "execution_count": 17,
   "metadata": {},
   "outputs": [
    {
     "name": "stdout",
     "output_type": "stream",
     "text": [
      "Output from node 'agent':\n",
      "---\n",
      "{'input': 'じゃがいものゆでる、焼く、煮る、蒸す、炒める各調理法を使うレシピをそれぞれ教えてください。また、じゃがいもに対するそれぞれの調理方法のコツを教えてください。それぞれ検索してください。', 'intermediate_steps': [], 'agent_outcome': AgentActionMessageLog(tool='tavily_search_results_json', tool_input={'query': 'じゃがいものゆでるレシピ'}, log=\"\\nInvoking: `tavily_search_results_json` with `{'query': 'じゃがいものゆでるレシピ'}`\\n\\n\\n\", message_log=[AIMessage(content='', additional_kwargs={'function_call': {'arguments': '{\"query\":\"じゃがいものゆでるレシピ\"}', 'name': 'tavily_search_results_json'}})])}\n",
      "\n",
      "---\n",
      "\n",
      "Output from node 'tools':\n",
      "---\n",
      "{'input': 'じゃがいものゆでる、焼く、煮る、蒸す、炒める各調理法を使うレシピをそれぞれ教えてください。また、じゃがいもに対するそれぞれの調理方法のコツを教えてください。それぞれ検索してください。', 'intermediate_steps': [(AgentActionMessageLog(tool='tavily_search_results_json', tool_input={'query': 'じゃがいものゆでるレシピ'}, log=\"\\nInvoking: `tavily_search_results_json` with `{'query': 'じゃがいものゆでるレシピ'}`\\n\\n\\n\", message_log=[AIMessage(content='', additional_kwargs={'function_call': {'arguments': '{\"query\":\"じゃがいものゆでるレシピ\"}', 'name': 'tavily_search_results_json'}})]), [{'url': 'https://macaro-ni.jp/80656', 'content': '【蒸す・ゆでる】じゃがいも料理6選 【焼く】じゃがいも料理6選 【揚げる】じゃがいも料理6選 じゃがいも料理が大集合！ 【炒める】じゃがいも料理6選 1. もうひと品に！じゃがいものきんぴら レシピはこちら｜E・レシピ  レシピはこちら｜E・レシピ 2. じゃがいもだけで！じゃがいものマヨ照りやき レシピはこちら｜レシピブログ 3. 豚肉、じゃがいも、ピーマンの醤油炒め レシピはこちら｜Nadia 知らないと危険！緑色になったじゃがいもって食べられるの？  2023年9月10日 更新 ライター : kii 調理師 / 製菓衛生師 / 食育インストラクター / フードコーディネーター 目次 【炒める】じゃがいも料理6選 【煮る】じゃがいも料理6選 【蒸す・ゆでる】じゃがいも料理6選  じゃがいも料理を、炒める、煮る、蒸す・ゆでる、焼く、揚げるの調理方別でご紹介します。和洋中の幅広い味付けがあるので、じゃがいもをおいしく大量消費できるレシピを探しているときにも助けになってくれます。ごはんのおかず、おつまみ、お弁当や作り置じゃがいも料理を、炒める、煮る、蒸す・ゆでる、焼く、揚げるの調理方別でご紹介します。和洋中の幅広い味付けがあるので、じゃがいもをおいしく大量消費できるレシピを探しているときにも助けになってくれます。ごはんのおかず、おつまみ、お弁当や作り置きも、じゃがいもにおまかせ ...'}])]}\n",
      "\n",
      "---\n",
      "\n",
      "Output from node 'agent':\n",
      "---\n",
      "{'input': 'じゃがいものゆでる、焼く、煮る、蒸す、炒める各調理法を使うレシピをそれぞれ教えてください。また、じゃがいもに対するそれぞれの調理方法のコツを教えてください。それぞれ検索してください。', 'intermediate_steps': [(AgentActionMessageLog(tool='tavily_search_results_json', tool_input={'query': 'じゃがいものゆでるレシピ'}, log=\"\\nInvoking: `tavily_search_results_json` with `{'query': 'じゃがいものゆでるレシピ'}`\\n\\n\\n\", message_log=[AIMessage(content='', additional_kwargs={'function_call': {'arguments': '{\"query\":\"じゃがいものゆでるレシピ\"}', 'name': 'tavily_search_results_json'}})]), [{'url': 'https://macaro-ni.jp/80656', 'content': '【蒸す・ゆでる】じゃがいも料理6選 【焼く】じゃがいも料理6選 【揚げる】じゃがいも料理6選 じゃがいも料理が大集合！ 【炒める】じゃがいも料理6選 1. もうひと品に！じゃがいものきんぴら レシピはこちら｜E・レシピ  レシピはこちら｜E・レシピ 2. じゃがいもだけで！じゃがいものマヨ照りやき レシピはこちら｜レシピブログ 3. 豚肉、じゃがいも、ピーマンの醤油炒め レシピはこちら｜Nadia 知らないと危険！緑色になったじゃがいもって食べられるの？  2023年9月10日 更新 ライター : kii 調理師 / 製菓衛生師 / 食育インストラクター / フードコーディネーター 目次 【炒める】じゃがいも料理6選 【煮る】じゃがいも料理6選 【蒸す・ゆでる】じゃがいも料理6選  じゃがいも料理を、炒める、煮る、蒸す・ゆでる、焼く、揚げるの調理方別でご紹介します。和洋中の幅広い味付けがあるので、じゃがいもをおいしく大量消費できるレシピを探しているときにも助けになってくれます。ごはんのおかず、おつまみ、お弁当や作り置じゃがいも料理を、炒める、煮る、蒸す・ゆでる、焼く、揚げるの調理方別でご紹介します。和洋中の幅広い味付けがあるので、じゃがいもをおいしく大量消費できるレシピを探しているときにも助けになってくれます。ごはんのおかず、おつまみ、お弁当や作り置きも、じゃがいもにおまかせ ...'}])], 'agent_outcome': AgentActionMessageLog(tool='tavily_search_results_json', tool_input={'query': 'じゃがいもの焼くレシピ'}, log=\"\\nInvoking: `tavily_search_results_json` with `{'query': 'じゃがいもの焼くレシピ'}`\\n\\n\\n\", message_log=[AIMessage(content='', additional_kwargs={'function_call': {'arguments': '{\"query\":\"じゃがいもの焼くレシピ\"}', 'name': 'tavily_search_results_json'}})])}\n",
      "\n",
      "---\n",
      "\n",
      "Output from node 'tools':\n",
      "---\n",
      "{'input': 'じゃがいものゆでる、焼く、煮る、蒸す、炒める各調理法を使うレシピをそれぞれ教えてください。また、じゃがいもに対するそれぞれの調理方法のコツを教えてください。それぞれ検索してください。', 'intermediate_steps': [(AgentActionMessageLog(tool='tavily_search_results_json', tool_input={'query': 'じゃがいものゆでるレシピ'}, log=\"\\nInvoking: `tavily_search_results_json` with `{'query': 'じゃがいものゆでるレシピ'}`\\n\\n\\n\", message_log=[AIMessage(content='', additional_kwargs={'function_call': {'arguments': '{\"query\":\"じゃがいものゆでるレシピ\"}', 'name': 'tavily_search_results_json'}})]), [{'url': 'https://macaro-ni.jp/80656', 'content': '【蒸す・ゆでる】じゃがいも料理6選 【焼く】じゃがいも料理6選 【揚げる】じゃがいも料理6選 じゃがいも料理が大集合！ 【炒める】じゃがいも料理6選 1. もうひと品に！じゃがいものきんぴら レシピはこちら｜E・レシピ  レシピはこちら｜E・レシピ 2. じゃがいもだけで！じゃがいものマヨ照りやき レシピはこちら｜レシピブログ 3. 豚肉、じゃがいも、ピーマンの醤油炒め レシピはこちら｜Nadia 知らないと危険！緑色になったじゃがいもって食べられるの？  2023年9月10日 更新 ライター : kii 調理師 / 製菓衛生師 / 食育インストラクター / フードコーディネーター 目次 【炒める】じゃがいも料理6選 【煮る】じゃがいも料理6選 【蒸す・ゆでる】じゃがいも料理6選  じゃがいも料理を、炒める、煮る、蒸す・ゆでる、焼く、揚げるの調理方別でご紹介します。和洋中の幅広い味付けがあるので、じゃがいもをおいしく大量消費できるレシピを探しているときにも助けになってくれます。ごはんのおかず、おつまみ、お弁当や作り置じゃがいも料理を、炒める、煮る、蒸す・ゆでる、焼く、揚げるの調理方別でご紹介します。和洋中の幅広い味付けがあるので、じゃがいもをおいしく大量消費できるレシピを探しているときにも助けになってくれます。ごはんのおかず、おつまみ、お弁当や作り置きも、じゃがいもにおまかせ ...'}]), (AgentActionMessageLog(tool='tavily_search_results_json', tool_input={'query': 'じゃがいもの焼くレシピ'}, log=\"\\nInvoking: `tavily_search_results_json` with `{'query': 'じゃがいもの焼くレシピ'}`\\n\\n\\n\", message_log=[AIMessage(content='', additional_kwargs={'function_call': {'arguments': '{\"query\":\"じゃがいもの焼くレシピ\"}', 'name': 'tavily_search_results_json'}})]), [{'url': 'https://www.kitchenbook.jp/topics/1956', 'content': 'じゃがいもを使った人気レシピ【調理法：焼く編】おすすめ１０選 材料 野菜 じゃがいも 広告  じゃがいもを使った人気レシピ【調理法：揚げる編】おすすめ１０選  2番目におすすめする「じゃがいもを使った人気レシピ【焼く編】」、は 「簡単！ほくほくポテト＆プリプリ海老のチーズ焼き♪  じゃがいもを使った人気レシピ【調理法：蒸す編】おすすめ１０選無限★ポテト! じゃがいもカレーチーズ焼き じゃが芋とトマトとツナの塩昆布焼き 最初におすすめする「じゃがいもを使った人気レシピ【焼く編】」、は 「じゃが芋とトマトとツナの塩昆布焼き 」です。 電子レンジとトースターを使って簡単にできるレシピです。 じゃがいもは電子レンジでチンしてやわらかくしておきます。 じゃがいもと材料を混ぜたら下味を軽く付け、耐熱容器に入れてチーズとマヨネーズ、塩昆布をかけてオーブントースターで焼きます。 塩昆布の塩加減がちょうどよく、うま味もたっぷり。 枝豆やトマト、じゃがいもと見た目もカラフルで食欲をそそります。'}])]}\n",
      "\n",
      "---\n",
      "\n",
      "Output from node 'agent':\n",
      "---\n",
      "{'input': 'じゃがいものゆでる、焼く、煮る、蒸す、炒める各調理法を使うレシピをそれぞれ教えてください。また、じゃがいもに対するそれぞれの調理方法のコツを教えてください。それぞれ検索してください。', 'intermediate_steps': [(AgentActionMessageLog(tool='tavily_search_results_json', tool_input={'query': 'じゃがいものゆでるレシピ'}, log=\"\\nInvoking: `tavily_search_results_json` with `{'query': 'じゃがいものゆでるレシピ'}`\\n\\n\\n\", message_log=[AIMessage(content='', additional_kwargs={'function_call': {'arguments': '{\"query\":\"じゃがいものゆでるレシピ\"}', 'name': 'tavily_search_results_json'}})]), [{'url': 'https://macaro-ni.jp/80656', 'content': '【蒸す・ゆでる】じゃがいも料理6選 【焼く】じゃがいも料理6選 【揚げる】じゃがいも料理6選 じゃがいも料理が大集合！ 【炒める】じゃがいも料理6選 1. もうひと品に！じゃがいものきんぴら レシピはこちら｜E・レシピ  レシピはこちら｜E・レシピ 2. じゃがいもだけで！じゃがいものマヨ照りやき レシピはこちら｜レシピブログ 3. 豚肉、じゃがいも、ピーマンの醤油炒め レシピはこちら｜Nadia 知らないと危険！緑色になったじゃがいもって食べられるの？  2023年9月10日 更新 ライター : kii 調理師 / 製菓衛生師 / 食育インストラクター / フードコーディネーター 目次 【炒める】じゃがいも料理6選 【煮る】じゃがいも料理6選 【蒸す・ゆでる】じゃがいも料理6選  じゃがいも料理を、炒める、煮る、蒸す・ゆでる、焼く、揚げるの調理方別でご紹介します。和洋中の幅広い味付けがあるので、じゃがいもをおいしく大量消費できるレシピを探しているときにも助けになってくれます。ごはんのおかず、おつまみ、お弁当や作り置じゃがいも料理を、炒める、煮る、蒸す・ゆでる、焼く、揚げるの調理方別でご紹介します。和洋中の幅広い味付けがあるので、じゃがいもをおいしく大量消費できるレシピを探しているときにも助けになってくれます。ごはんのおかず、おつまみ、お弁当や作り置きも、じゃがいもにおまかせ ...'}]), (AgentActionMessageLog(tool='tavily_search_results_json', tool_input={'query': 'じゃがいもの焼くレシピ'}, log=\"\\nInvoking: `tavily_search_results_json` with `{'query': 'じゃがいもの焼くレシピ'}`\\n\\n\\n\", message_log=[AIMessage(content='', additional_kwargs={'function_call': {'arguments': '{\"query\":\"じゃがいもの焼くレシピ\"}', 'name': 'tavily_search_results_json'}})]), [{'url': 'https://www.kitchenbook.jp/topics/1956', 'content': 'じゃがいもを使った人気レシピ【調理法：焼く編】おすすめ１０選 材料 野菜 じゃがいも 広告  じゃがいもを使った人気レシピ【調理法：揚げる編】おすすめ１０選  2番目におすすめする「じゃがいもを使った人気レシピ【焼く編】」、は 「簡単！ほくほくポテト＆プリプリ海老のチーズ焼き♪  じゃがいもを使った人気レシピ【調理法：蒸す編】おすすめ１０選無限★ポテト! じゃがいもカレーチーズ焼き じゃが芋とトマトとツナの塩昆布焼き 最初におすすめする「じゃがいもを使った人気レシピ【焼く編】」、は 「じゃが芋とトマトとツナの塩昆布焼き 」です。 電子レンジとトースターを使って簡単にできるレシピです。 じゃがいもは電子レンジでチンしてやわらかくしておきます。 じゃがいもと材料を混ぜたら下味を軽く付け、耐熱容器に入れてチーズとマヨネーズ、塩昆布をかけてオーブントースターで焼きます。 塩昆布の塩加減がちょうどよく、うま味もたっぷり。 枝豆やトマト、じゃがいもと見た目もカラフルで食欲をそそります。'}])], 'agent_outcome': AgentActionMessageLog(tool='tavily_search_results_json', tool_input={'query': 'じゃがいもの煮るレシピ'}, log=\"\\nInvoking: `tavily_search_results_json` with `{'query': 'じゃがいもの煮るレシピ'}`\\n\\n\\n\", message_log=[AIMessage(content='', additional_kwargs={'function_call': {'arguments': '{\"query\":\"じゃがいもの煮るレシピ\"}', 'name': 'tavily_search_results_json'}})])}\n",
      "\n",
      "---\n",
      "\n",
      "Output from node 'tools':\n",
      "---\n",
      "{'input': 'じゃがいものゆでる、焼く、煮る、蒸す、炒める各調理法を使うレシピをそれぞれ教えてください。また、じゃがいもに対するそれぞれの調理方法のコツを教えてください。それぞれ検索してください。', 'intermediate_steps': [(AgentActionMessageLog(tool='tavily_search_results_json', tool_input={'query': 'じゃがいものゆでるレシピ'}, log=\"\\nInvoking: `tavily_search_results_json` with `{'query': 'じゃがいものゆでるレシピ'}`\\n\\n\\n\", message_log=[AIMessage(content='', additional_kwargs={'function_call': {'arguments': '{\"query\":\"じゃがいものゆでるレシピ\"}', 'name': 'tavily_search_results_json'}})]), [{'url': 'https://macaro-ni.jp/80656', 'content': '【蒸す・ゆでる】じゃがいも料理6選 【焼く】じゃがいも料理6選 【揚げる】じゃがいも料理6選 じゃがいも料理が大集合！ 【炒める】じゃがいも料理6選 1. もうひと品に！じゃがいものきんぴら レシピはこちら｜E・レシピ  レシピはこちら｜E・レシピ 2. じゃがいもだけで！じゃがいものマヨ照りやき レシピはこちら｜レシピブログ 3. 豚肉、じゃがいも、ピーマンの醤油炒め レシピはこちら｜Nadia 知らないと危険！緑色になったじゃがいもって食べられるの？  2023年9月10日 更新 ライター : kii 調理師 / 製菓衛生師 / 食育インストラクター / フードコーディネーター 目次 【炒める】じゃがいも料理6選 【煮る】じゃがいも料理6選 【蒸す・ゆでる】じゃがいも料理6選  じゃがいも料理を、炒める、煮る、蒸す・ゆでる、焼く、揚げるの調理方別でご紹介します。和洋中の幅広い味付けがあるので、じゃがいもをおいしく大量消費できるレシピを探しているときにも助けになってくれます。ごはんのおかず、おつまみ、お弁当や作り置じゃがいも料理を、炒める、煮る、蒸す・ゆでる、焼く、揚げるの調理方別でご紹介します。和洋中の幅広い味付けがあるので、じゃがいもをおいしく大量消費できるレシピを探しているときにも助けになってくれます。ごはんのおかず、おつまみ、お弁当や作り置きも、じゃがいもにおまかせ ...'}]), (AgentActionMessageLog(tool='tavily_search_results_json', tool_input={'query': 'じゃがいもの焼くレシピ'}, log=\"\\nInvoking: `tavily_search_results_json` with `{'query': 'じゃがいもの焼くレシピ'}`\\n\\n\\n\", message_log=[AIMessage(content='', additional_kwargs={'function_call': {'arguments': '{\"query\":\"じゃがいもの焼くレシピ\"}', 'name': 'tavily_search_results_json'}})]), [{'url': 'https://www.kitchenbook.jp/topics/1956', 'content': 'じゃがいもを使った人気レシピ【調理法：焼く編】おすすめ１０選 材料 野菜 じゃがいも 広告  じゃがいもを使った人気レシピ【調理法：揚げる編】おすすめ１０選  2番目におすすめする「じゃがいもを使った人気レシピ【焼く編】」、は 「簡単！ほくほくポテト＆プリプリ海老のチーズ焼き♪  じゃがいもを使った人気レシピ【調理法：蒸す編】おすすめ１０選無限★ポテト! じゃがいもカレーチーズ焼き じゃが芋とトマトとツナの塩昆布焼き 最初におすすめする「じゃがいもを使った人気レシピ【焼く編】」、は 「じゃが芋とトマトとツナの塩昆布焼き 」です。 電子レンジとトースターを使って簡単にできるレシピです。 じゃがいもは電子レンジでチンしてやわらかくしておきます。 じゃがいもと材料を混ぜたら下味を軽く付け、耐熱容器に入れてチーズとマヨネーズ、塩昆布をかけてオーブントースターで焼きます。 塩昆布の塩加減がちょうどよく、うま味もたっぷり。 枝豆やトマト、じゃがいもと見た目もカラフルで食欲をそそります。'}]), (AgentActionMessageLog(tool='tavily_search_results_json', tool_input={'query': 'じゃがいもの煮るレシピ'}, log=\"\\nInvoking: `tavily_search_results_json` with `{'query': 'じゃがいもの煮るレシピ'}`\\n\\n\\n\", message_log=[AIMessage(content='', additional_kwargs={'function_call': {'arguments': '{\"query\":\"じゃがいもの煮るレシピ\"}', 'name': 'tavily_search_results_json'}})]), [{'url': 'https://www.kitchenbook.jp/topics/2234', 'content': 'じゃがいもを使った人気レシピ【調理法：焼く編】おすすめ１０選  じゃがいもを使った人気レシピ【調理法：蒸す編】おすすめ１０選  じゃがいもを使った人気レシピ【調理法：揚げる編】おすすめ１０選  じゃがいもを使った人気レシピ【煮る編】おすすめ１０選 材料 野菜 じゃがいも 広告お好みの野菜でお試しください。 ジャガイモと人参と豚ひき肉のそぼろ煮 材料 （2人分）人参1本ジャガイモ2個サラダ油小さじ1豚ひき肉150g麺つゆ大さじ2おろしショウガ小さじ半分'}])]}\n",
      "\n",
      "---\n",
      "\n",
      "Output from node 'agent':\n",
      "---\n",
      "{'input': 'じゃがいものゆでる、焼く、煮る、蒸す、炒める各調理法を使うレシピをそれぞれ教えてください。また、じゃがいもに対するそれぞれの調理方法のコツを教えてください。それぞれ検索してください。', 'intermediate_steps': [(AgentActionMessageLog(tool='tavily_search_results_json', tool_input={'query': 'じゃがいものゆでるレシピ'}, log=\"\\nInvoking: `tavily_search_results_json` with `{'query': 'じゃがいものゆでるレシピ'}`\\n\\n\\n\", message_log=[AIMessage(content='', additional_kwargs={'function_call': {'arguments': '{\"query\":\"じゃがいものゆでるレシピ\"}', 'name': 'tavily_search_results_json'}})]), [{'url': 'https://macaro-ni.jp/80656', 'content': '【蒸す・ゆでる】じゃがいも料理6選 【焼く】じゃがいも料理6選 【揚げる】じゃがいも料理6選 じゃがいも料理が大集合！ 【炒める】じゃがいも料理6選 1. もうひと品に！じゃがいものきんぴら レシピはこちら｜E・レシピ  レシピはこちら｜E・レシピ 2. じゃがいもだけで！じゃがいものマヨ照りやき レシピはこちら｜レシピブログ 3. 豚肉、じゃがいも、ピーマンの醤油炒め レシピはこちら｜Nadia 知らないと危険！緑色になったじゃがいもって食べられるの？  2023年9月10日 更新 ライター : kii 調理師 / 製菓衛生師 / 食育インストラクター / フードコーディネーター 目次 【炒める】じゃがいも料理6選 【煮る】じゃがいも料理6選 【蒸す・ゆでる】じゃがいも料理6選  じゃがいも料理を、炒める、煮る、蒸す・ゆでる、焼く、揚げるの調理方別でご紹介します。和洋中の幅広い味付けがあるので、じゃがいもをおいしく大量消費できるレシピを探しているときにも助けになってくれます。ごはんのおかず、おつまみ、お弁当や作り置じゃがいも料理を、炒める、煮る、蒸す・ゆでる、焼く、揚げるの調理方別でご紹介します。和洋中の幅広い味付けがあるので、じゃがいもをおいしく大量消費できるレシピを探しているときにも助けになってくれます。ごはんのおかず、おつまみ、お弁当や作り置きも、じゃがいもにおまかせ ...'}]), (AgentActionMessageLog(tool='tavily_search_results_json', tool_input={'query': 'じゃがいもの焼くレシピ'}, log=\"\\nInvoking: `tavily_search_results_json` with `{'query': 'じゃがいもの焼くレシピ'}`\\n\\n\\n\", message_log=[AIMessage(content='', additional_kwargs={'function_call': {'arguments': '{\"query\":\"じゃがいもの焼くレシピ\"}', 'name': 'tavily_search_results_json'}})]), [{'url': 'https://www.kitchenbook.jp/topics/1956', 'content': 'じゃがいもを使った人気レシピ【調理法：焼く編】おすすめ１０選 材料 野菜 じゃがいも 広告  じゃがいもを使った人気レシピ【調理法：揚げる編】おすすめ１０選  2番目におすすめする「じゃがいもを使った人気レシピ【焼く編】」、は 「簡単！ほくほくポテト＆プリプリ海老のチーズ焼き♪  じゃがいもを使った人気レシピ【調理法：蒸す編】おすすめ１０選無限★ポテト! じゃがいもカレーチーズ焼き じゃが芋とトマトとツナの塩昆布焼き 最初におすすめする「じゃがいもを使った人気レシピ【焼く編】」、は 「じゃが芋とトマトとツナの塩昆布焼き 」です。 電子レンジとトースターを使って簡単にできるレシピです。 じゃがいもは電子レンジでチンしてやわらかくしておきます。 じゃがいもと材料を混ぜたら下味を軽く付け、耐熱容器に入れてチーズとマヨネーズ、塩昆布をかけてオーブントースターで焼きます。 塩昆布の塩加減がちょうどよく、うま味もたっぷり。 枝豆やトマト、じゃがいもと見た目もカラフルで食欲をそそります。'}]), (AgentActionMessageLog(tool='tavily_search_results_json', tool_input={'query': 'じゃがいもの煮るレシピ'}, log=\"\\nInvoking: `tavily_search_results_json` with `{'query': 'じゃがいもの煮るレシピ'}`\\n\\n\\n\", message_log=[AIMessage(content='', additional_kwargs={'function_call': {'arguments': '{\"query\":\"じゃがいもの煮るレシピ\"}', 'name': 'tavily_search_results_json'}})]), [{'url': 'https://www.kitchenbook.jp/topics/2234', 'content': 'じゃがいもを使った人気レシピ【調理法：焼く編】おすすめ１０選  じゃがいもを使った人気レシピ【調理法：蒸す編】おすすめ１０選  じゃがいもを使った人気レシピ【調理法：揚げる編】おすすめ１０選  じゃがいもを使った人気レシピ【煮る編】おすすめ１０選 材料 野菜 じゃがいも 広告お好みの野菜でお試しください。 ジャガイモと人参と豚ひき肉のそぼろ煮 材料 （2人分）人参1本ジャガイモ2個サラダ油小さじ1豚ひき肉150g麺つゆ大さじ2おろしショウガ小さじ半分'}])], 'agent_outcome': AgentActionMessageLog(tool='tavily_search_results_json', tool_input={'query': 'じゃがいもの蒸すレシピ'}, log=\"\\nInvoking: `tavily_search_results_json` with `{'query': 'じゃがいもの蒸すレシピ'}`\\n\\n\\n\", message_log=[AIMessage(content='', additional_kwargs={'function_call': {'arguments': '{\"query\":\"じゃがいもの蒸すレシピ\"}', 'name': 'tavily_search_results_json'}})])}\n",
      "\n",
      "---\n",
      "\n",
      "Output from node 'tools':\n",
      "---\n",
      "{'input': 'じゃがいものゆでる、焼く、煮る、蒸す、炒める各調理法を使うレシピをそれぞれ教えてください。また、じゃがいもに対するそれぞれの調理方法のコツを教えてください。それぞれ検索してください。', 'intermediate_steps': [(AgentActionMessageLog(tool='tavily_search_results_json', tool_input={'query': 'じゃがいものゆでるレシピ'}, log=\"\\nInvoking: `tavily_search_results_json` with `{'query': 'じゃがいものゆでるレシピ'}`\\n\\n\\n\", message_log=[AIMessage(content='', additional_kwargs={'function_call': {'arguments': '{\"query\":\"じゃがいものゆでるレシピ\"}', 'name': 'tavily_search_results_json'}})]), [{'url': 'https://macaro-ni.jp/80656', 'content': '【蒸す・ゆでる】じゃがいも料理6選 【焼く】じゃがいも料理6選 【揚げる】じゃがいも料理6選 じゃがいも料理が大集合！ 【炒める】じゃがいも料理6選 1. もうひと品に！じゃがいものきんぴら レシピはこちら｜E・レシピ  レシピはこちら｜E・レシピ 2. じゃがいもだけで！じゃがいものマヨ照りやき レシピはこちら｜レシピブログ 3. 豚肉、じゃがいも、ピーマンの醤油炒め レシピはこちら｜Nadia 知らないと危険！緑色になったじゃがいもって食べられるの？  2023年9月10日 更新 ライター : kii 調理師 / 製菓衛生師 / 食育インストラクター / フードコーディネーター 目次 【炒める】じゃがいも料理6選 【煮る】じゃがいも料理6選 【蒸す・ゆでる】じゃがいも料理6選  じゃがいも料理を、炒める、煮る、蒸す・ゆでる、焼く、揚げるの調理方別でご紹介します。和洋中の幅広い味付けがあるので、じゃがいもをおいしく大量消費できるレシピを探しているときにも助けになってくれます。ごはんのおかず、おつまみ、お弁当や作り置じゃがいも料理を、炒める、煮る、蒸す・ゆでる、焼く、揚げるの調理方別でご紹介します。和洋中の幅広い味付けがあるので、じゃがいもをおいしく大量消費できるレシピを探しているときにも助けになってくれます。ごはんのおかず、おつまみ、お弁当や作り置きも、じゃがいもにおまかせ ...'}]), (AgentActionMessageLog(tool='tavily_search_results_json', tool_input={'query': 'じゃがいもの焼くレシピ'}, log=\"\\nInvoking: `tavily_search_results_json` with `{'query': 'じゃがいもの焼くレシピ'}`\\n\\n\\n\", message_log=[AIMessage(content='', additional_kwargs={'function_call': {'arguments': '{\"query\":\"じゃがいもの焼くレシピ\"}', 'name': 'tavily_search_results_json'}})]), [{'url': 'https://www.kitchenbook.jp/topics/1956', 'content': 'じゃがいもを使った人気レシピ【調理法：焼く編】おすすめ１０選 材料 野菜 じゃがいも 広告  じゃがいもを使った人気レシピ【調理法：揚げる編】おすすめ１０選  2番目におすすめする「じゃがいもを使った人気レシピ【焼く編】」、は 「簡単！ほくほくポテト＆プリプリ海老のチーズ焼き♪  じゃがいもを使った人気レシピ【調理法：蒸す編】おすすめ１０選無限★ポテト! じゃがいもカレーチーズ焼き じゃが芋とトマトとツナの塩昆布焼き 最初におすすめする「じゃがいもを使った人気レシピ【焼く編】」、は 「じゃが芋とトマトとツナの塩昆布焼き 」です。 電子レンジとトースターを使って簡単にできるレシピです。 じゃがいもは電子レンジでチンしてやわらかくしておきます。 じゃがいもと材料を混ぜたら下味を軽く付け、耐熱容器に入れてチーズとマヨネーズ、塩昆布をかけてオーブントースターで焼きます。 塩昆布の塩加減がちょうどよく、うま味もたっぷり。 枝豆やトマト、じゃがいもと見た目もカラフルで食欲をそそります。'}]), (AgentActionMessageLog(tool='tavily_search_results_json', tool_input={'query': 'じゃがいもの煮るレシピ'}, log=\"\\nInvoking: `tavily_search_results_json` with `{'query': 'じゃがいもの煮るレシピ'}`\\n\\n\\n\", message_log=[AIMessage(content='', additional_kwargs={'function_call': {'arguments': '{\"query\":\"じゃがいもの煮るレシピ\"}', 'name': 'tavily_search_results_json'}})]), [{'url': 'https://www.kitchenbook.jp/topics/2234', 'content': 'じゃがいもを使った人気レシピ【調理法：焼く編】おすすめ１０選  じゃがいもを使った人気レシピ【調理法：蒸す編】おすすめ１０選  じゃがいもを使った人気レシピ【調理法：揚げる編】おすすめ１０選  じゃがいもを使った人気レシピ【煮る編】おすすめ１０選 材料 野菜 じゃがいも 広告お好みの野菜でお試しください。 ジャガイモと人参と豚ひき肉のそぼろ煮 材料 （2人分）人参1本ジャガイモ2個サラダ油小さじ1豚ひき肉150g麺つゆ大さじ2おろしショウガ小さじ半分'}]), (AgentActionMessageLog(tool='tavily_search_results_json', tool_input={'query': 'じゃがいもの蒸すレシピ'}, log=\"\\nInvoking: `tavily_search_results_json` with `{'query': 'じゃがいもの蒸すレシピ'}`\\n\\n\\n\", message_log=[AIMessage(content='', additional_kwargs={'function_call': {'arguments': '{\"query\":\"じゃがいもの蒸すレシピ\"}', 'name': 'tavily_search_results_json'}})]), [{'url': 'https://gourmet-note.jp/posts/2893', 'content': '2018年05月12日公開 2024年01月10日更新 じゃがいもを蒸す時間や蒸し方は？レンジで加熱する方法も紹介！  蒸すじゃがいも＆マヨネーズ 出典: https://sobubu.exblog.jp  蒸すじゃがいも＆塩辛 出典: https://r.gnavi.co.jp  じゃがいもを蒸す時間のまとめ 出典: https://ameblo.jpじゃがいもを蒸す時間や蒸し方は？ レンジで加熱する方法も紹介! 子供から大人までみんな大好きなじゃがいもは、シンプルに蒸していただくのが一番おいしい食べ方です! 今回はじゃがいもを蒸し器で蒸す場合のおいしい蒸し方から、蒸し器がない場合のフライパンや炊飯器を使った蒸し方、詳しい蒸し時間などを紹介します。 蒸すのが面倒! という方にはレンジを使った簡単＆時短な加熱方法もあります。 今晩のおかずにホクホクのおいしい蒸しじゃがいもはいかがでしょうか？ シェア Google+ はてブ Pocket Feedly 目次 [全て表示する] 1 2 3 4 5じゃがいもを蒸す前の注意点 6 7 8 9 10 11 12 13 14蒸すじゃがいものアレンジレシピ：じゃがいもチーズもち'}])]}\n",
      "\n",
      "---\n",
      "\n",
      "Output from node 'agent':\n",
      "---\n",
      "{'input': 'じゃがいものゆでる、焼く、煮る、蒸す、炒める各調理法を使うレシピをそれぞれ教えてください。また、じゃがいもに対するそれぞれの調理方法のコツを教えてください。それぞれ検索してください。', 'intermediate_steps': [(AgentActionMessageLog(tool='tavily_search_results_json', tool_input={'query': 'じゃがいものゆでるレシピ'}, log=\"\\nInvoking: `tavily_search_results_json` with `{'query': 'じゃがいものゆでるレシピ'}`\\n\\n\\n\", message_log=[AIMessage(content='', additional_kwargs={'function_call': {'arguments': '{\"query\":\"じゃがいものゆでるレシピ\"}', 'name': 'tavily_search_results_json'}})]), [{'url': 'https://macaro-ni.jp/80656', 'content': '【蒸す・ゆでる】じゃがいも料理6選 【焼く】じゃがいも料理6選 【揚げる】じゃがいも料理6選 じゃがいも料理が大集合！ 【炒める】じゃがいも料理6選 1. もうひと品に！じゃがいものきんぴら レシピはこちら｜E・レシピ  レシピはこちら｜E・レシピ 2. じゃがいもだけで！じゃがいものマヨ照りやき レシピはこちら｜レシピブログ 3. 豚肉、じゃがいも、ピーマンの醤油炒め レシピはこちら｜Nadia 知らないと危険！緑色になったじゃがいもって食べられるの？  2023年9月10日 更新 ライター : kii 調理師 / 製菓衛生師 / 食育インストラクター / フードコーディネーター 目次 【炒める】じゃがいも料理6選 【煮る】じゃがいも料理6選 【蒸す・ゆでる】じゃがいも料理6選  じゃがいも料理を、炒める、煮る、蒸す・ゆでる、焼く、揚げるの調理方別でご紹介します。和洋中の幅広い味付けがあるので、じゃがいもをおいしく大量消費できるレシピを探しているときにも助けになってくれます。ごはんのおかず、おつまみ、お弁当や作り置じゃがいも料理を、炒める、煮る、蒸す・ゆでる、焼く、揚げるの調理方別でご紹介します。和洋中の幅広い味付けがあるので、じゃがいもをおいしく大量消費できるレシピを探しているときにも助けになってくれます。ごはんのおかず、おつまみ、お弁当や作り置きも、じゃがいもにおまかせ ...'}]), (AgentActionMessageLog(tool='tavily_search_results_json', tool_input={'query': 'じゃがいもの焼くレシピ'}, log=\"\\nInvoking: `tavily_search_results_json` with `{'query': 'じゃがいもの焼くレシピ'}`\\n\\n\\n\", message_log=[AIMessage(content='', additional_kwargs={'function_call': {'arguments': '{\"query\":\"じゃがいもの焼くレシピ\"}', 'name': 'tavily_search_results_json'}})]), [{'url': 'https://www.kitchenbook.jp/topics/1956', 'content': 'じゃがいもを使った人気レシピ【調理法：焼く編】おすすめ１０選 材料 野菜 じゃがいも 広告  じゃがいもを使った人気レシピ【調理法：揚げる編】おすすめ１０選  2番目におすすめする「じゃがいもを使った人気レシピ【焼く編】」、は 「簡単！ほくほくポテト＆プリプリ海老のチーズ焼き♪  じゃがいもを使った人気レシピ【調理法：蒸す編】おすすめ１０選無限★ポテト! じゃがいもカレーチーズ焼き じゃが芋とトマトとツナの塩昆布焼き 最初におすすめする「じゃがいもを使った人気レシピ【焼く編】」、は 「じゃが芋とトマトとツナの塩昆布焼き 」です。 電子レンジとトースターを使って簡単にできるレシピです。 じゃがいもは電子レンジでチンしてやわらかくしておきます。 じゃがいもと材料を混ぜたら下味を軽く付け、耐熱容器に入れてチーズとマヨネーズ、塩昆布をかけてオーブントースターで焼きます。 塩昆布の塩加減がちょうどよく、うま味もたっぷり。 枝豆やトマト、じゃがいもと見た目もカラフルで食欲をそそります。'}]), (AgentActionMessageLog(tool='tavily_search_results_json', tool_input={'query': 'じゃがいもの煮るレシピ'}, log=\"\\nInvoking: `tavily_search_results_json` with `{'query': 'じゃがいもの煮るレシピ'}`\\n\\n\\n\", message_log=[AIMessage(content='', additional_kwargs={'function_call': {'arguments': '{\"query\":\"じゃがいもの煮るレシピ\"}', 'name': 'tavily_search_results_json'}})]), [{'url': 'https://www.kitchenbook.jp/topics/2234', 'content': 'じゃがいもを使った人気レシピ【調理法：焼く編】おすすめ１０選  じゃがいもを使った人気レシピ【調理法：蒸す編】おすすめ１０選  じゃがいもを使った人気レシピ【調理法：揚げる編】おすすめ１０選  じゃがいもを使った人気レシピ【煮る編】おすすめ１０選 材料 野菜 じゃがいも 広告お好みの野菜でお試しください。 ジャガイモと人参と豚ひき肉のそぼろ煮 材料 （2人分）人参1本ジャガイモ2個サラダ油小さじ1豚ひき肉150g麺つゆ大さじ2おろしショウガ小さじ半分'}]), (AgentActionMessageLog(tool='tavily_search_results_json', tool_input={'query': 'じゃがいもの蒸すレシピ'}, log=\"\\nInvoking: `tavily_search_results_json` with `{'query': 'じゃがいもの蒸すレシピ'}`\\n\\n\\n\", message_log=[AIMessage(content='', additional_kwargs={'function_call': {'arguments': '{\"query\":\"じゃがいもの蒸すレシピ\"}', 'name': 'tavily_search_results_json'}})]), [{'url': 'https://gourmet-note.jp/posts/2893', 'content': '2018年05月12日公開 2024年01月10日更新 じゃがいもを蒸す時間や蒸し方は？レンジで加熱する方法も紹介！  蒸すじゃがいも＆マヨネーズ 出典: https://sobubu.exblog.jp  蒸すじゃがいも＆塩辛 出典: https://r.gnavi.co.jp  じゃがいもを蒸す時間のまとめ 出典: https://ameblo.jpじゃがいもを蒸す時間や蒸し方は？ レンジで加熱する方法も紹介! 子供から大人までみんな大好きなじゃがいもは、シンプルに蒸していただくのが一番おいしい食べ方です! 今回はじゃがいもを蒸し器で蒸す場合のおいしい蒸し方から、蒸し器がない場合のフライパンや炊飯器を使った蒸し方、詳しい蒸し時間などを紹介します。 蒸すのが面倒! という方にはレンジを使った簡単＆時短な加熱方法もあります。 今晩のおかずにホクホクのおいしい蒸しじゃがいもはいかがでしょうか？ シェア Google+ はてブ Pocket Feedly 目次 [全て表示する] 1 2 3 4 5じゃがいもを蒸す前の注意点 6 7 8 9 10 11 12 13 14蒸すじゃがいものアレンジレシピ：じゃがいもチーズもち'}])], 'agent_outcome': AgentActionMessageLog(tool='tavily_search_results_json', tool_input={'query': 'じゃがいもの炒めるレシピ'}, log=\"\\nInvoking: `tavily_search_results_json` with `{'query': 'じゃがいもの炒めるレシピ'}`\\n\\n\\n\", message_log=[AIMessage(content='', additional_kwargs={'function_call': {'arguments': '{\"query\":\"じゃがいもの炒めるレシピ\"}', 'name': 'tavily_search_results_json'}})])}\n",
      "\n",
      "---\n",
      "\n",
      "Output from node 'tools':\n",
      "---\n",
      "{'input': 'じゃがいものゆでる、焼く、煮る、蒸す、炒める各調理法を使うレシピをそれぞれ教えてください。また、じゃがいもに対するそれぞれの調理方法のコツを教えてください。それぞれ検索してください。', 'intermediate_steps': [(AgentActionMessageLog(tool='tavily_search_results_json', tool_input={'query': 'じゃがいものゆでるレシピ'}, log=\"\\nInvoking: `tavily_search_results_json` with `{'query': 'じゃがいものゆでるレシピ'}`\\n\\n\\n\", message_log=[AIMessage(content='', additional_kwargs={'function_call': {'arguments': '{\"query\":\"じゃがいものゆでるレシピ\"}', 'name': 'tavily_search_results_json'}})]), [{'url': 'https://macaro-ni.jp/80656', 'content': '【蒸す・ゆでる】じゃがいも料理6選 【焼く】じゃがいも料理6選 【揚げる】じゃがいも料理6選 じゃがいも料理が大集合！ 【炒める】じゃがいも料理6選 1. もうひと品に！じゃがいものきんぴら レシピはこちら｜E・レシピ  レシピはこちら｜E・レシピ 2. じゃがいもだけで！じゃがいものマヨ照りやき レシピはこちら｜レシピブログ 3. 豚肉、じゃがいも、ピーマンの醤油炒め レシピはこちら｜Nadia 知らないと危険！緑色になったじゃがいもって食べられるの？  2023年9月10日 更新 ライター : kii 調理師 / 製菓衛生師 / 食育インストラクター / フードコーディネーター 目次 【炒める】じゃがいも料理6選 【煮る】じゃがいも料理6選 【蒸す・ゆでる】じゃがいも料理6選  じゃがいも料理を、炒める、煮る、蒸す・ゆでる、焼く、揚げるの調理方別でご紹介します。和洋中の幅広い味付けがあるので、じゃがいもをおいしく大量消費できるレシピを探しているときにも助けになってくれます。ごはんのおかず、おつまみ、お弁当や作り置じゃがいも料理を、炒める、煮る、蒸す・ゆでる、焼く、揚げるの調理方別でご紹介します。和洋中の幅広い味付けがあるので、じゃがいもをおいしく大量消費できるレシピを探しているときにも助けになってくれます。ごはんのおかず、おつまみ、お弁当や作り置きも、じゃがいもにおまかせ ...'}]), (AgentActionMessageLog(tool='tavily_search_results_json', tool_input={'query': 'じゃがいもの焼くレシピ'}, log=\"\\nInvoking: `tavily_search_results_json` with `{'query': 'じゃがいもの焼くレシピ'}`\\n\\n\\n\", message_log=[AIMessage(content='', additional_kwargs={'function_call': {'arguments': '{\"query\":\"じゃがいもの焼くレシピ\"}', 'name': 'tavily_search_results_json'}})]), [{'url': 'https://www.kitchenbook.jp/topics/1956', 'content': 'じゃがいもを使った人気レシピ【調理法：焼く編】おすすめ１０選 材料 野菜 じゃがいも 広告  じゃがいもを使った人気レシピ【調理法：揚げる編】おすすめ１０選  2番目におすすめする「じゃがいもを使った人気レシピ【焼く編】」、は 「簡単！ほくほくポテト＆プリプリ海老のチーズ焼き♪  じゃがいもを使った人気レシピ【調理法：蒸す編】おすすめ１０選無限★ポテト! じゃがいもカレーチーズ焼き じゃが芋とトマトとツナの塩昆布焼き 最初におすすめする「じゃがいもを使った人気レシピ【焼く編】」、は 「じゃが芋とトマトとツナの塩昆布焼き 」です。 電子レンジとトースターを使って簡単にできるレシピです。 じゃがいもは電子レンジでチンしてやわらかくしておきます。 じゃがいもと材料を混ぜたら下味を軽く付け、耐熱容器に入れてチーズとマヨネーズ、塩昆布をかけてオーブントースターで焼きます。 塩昆布の塩加減がちょうどよく、うま味もたっぷり。 枝豆やトマト、じゃがいもと見た目もカラフルで食欲をそそります。'}]), (AgentActionMessageLog(tool='tavily_search_results_json', tool_input={'query': 'じゃがいもの煮るレシピ'}, log=\"\\nInvoking: `tavily_search_results_json` with `{'query': 'じゃがいもの煮るレシピ'}`\\n\\n\\n\", message_log=[AIMessage(content='', additional_kwargs={'function_call': {'arguments': '{\"query\":\"じゃがいもの煮るレシピ\"}', 'name': 'tavily_search_results_json'}})]), [{'url': 'https://www.kitchenbook.jp/topics/2234', 'content': 'じゃがいもを使った人気レシピ【調理法：焼く編】おすすめ１０選  じゃがいもを使った人気レシピ【調理法：蒸す編】おすすめ１０選  じゃがいもを使った人気レシピ【調理法：揚げる編】おすすめ１０選  じゃがいもを使った人気レシピ【煮る編】おすすめ１０選 材料 野菜 じゃがいも 広告お好みの野菜でお試しください。 ジャガイモと人参と豚ひき肉のそぼろ煮 材料 （2人分）人参1本ジャガイモ2個サラダ油小さじ1豚ひき肉150g麺つゆ大さじ2おろしショウガ小さじ半分'}]), (AgentActionMessageLog(tool='tavily_search_results_json', tool_input={'query': 'じゃがいもの蒸すレシピ'}, log=\"\\nInvoking: `tavily_search_results_json` with `{'query': 'じゃがいもの蒸すレシピ'}`\\n\\n\\n\", message_log=[AIMessage(content='', additional_kwargs={'function_call': {'arguments': '{\"query\":\"じゃがいもの蒸すレシピ\"}', 'name': 'tavily_search_results_json'}})]), [{'url': 'https://gourmet-note.jp/posts/2893', 'content': '2018年05月12日公開 2024年01月10日更新 じゃがいもを蒸す時間や蒸し方は？レンジで加熱する方法も紹介！  蒸すじゃがいも＆マヨネーズ 出典: https://sobubu.exblog.jp  蒸すじゃがいも＆塩辛 出典: https://r.gnavi.co.jp  じゃがいもを蒸す時間のまとめ 出典: https://ameblo.jpじゃがいもを蒸す時間や蒸し方は？ レンジで加熱する方法も紹介! 子供から大人までみんな大好きなじゃがいもは、シンプルに蒸していただくのが一番おいしい食べ方です! 今回はじゃがいもを蒸し器で蒸す場合のおいしい蒸し方から、蒸し器がない場合のフライパンや炊飯器を使った蒸し方、詳しい蒸し時間などを紹介します。 蒸すのが面倒! という方にはレンジを使った簡単＆時短な加熱方法もあります。 今晩のおかずにホクホクのおいしい蒸しじゃがいもはいかがでしょうか？ シェア Google+ はてブ Pocket Feedly 目次 [全て表示する] 1 2 3 4 5じゃがいもを蒸す前の注意点 6 7 8 9 10 11 12 13 14蒸すじゃがいものアレンジレシピ：じゃがいもチーズもち'}]), (AgentActionMessageLog(tool='tavily_search_results_json', tool_input={'query': 'じゃがいもの炒めるレシピ'}, log=\"\\nInvoking: `tavily_search_results_json` with `{'query': 'じゃがいもの炒めるレシピ'}`\\n\\n\\n\", message_log=[AIMessage(content='', additional_kwargs={'function_call': {'arguments': '{\"query\":\"じゃがいもの炒めるレシピ\"}', 'name': 'tavily_search_results_json'}})]), [{'url': 'https://delishkitchen.tv/curations/7812', 'content': 'じゃがいもの炒め物レシピ23選！洋風・和風・中華風などご紹介 作成日: 2023/05/07 (2024年1月5日更新)じゃがいもを使ったレシピを簡単動画でご紹介。主菜や副菜に使える人気の23レシピ！日々の献立にぜひお役立てください。 目次  4.2 ( ほっくりしたじゃがいもがおいしい洋風な炒め物のご紹介です♪じゃがいもはレンジで加熱してから炒めるので時短調理！にんにくと一緒に炒めて風味豊かに仕上げました♪ごはんにも、パンにもあう一品です！ 調理時間 約15分 カロリー  4.3 ( みそ、にんにくの豊かな香りが口いっぱいに広がる、主菜レシピのご紹介です！じゃがいもをレンジで加熱しておくことで炒める時間を短縮できます♪お好みのお酒などと共にお召し上がりください。 調理時間 約10分 カロリー 426kcal  調理時間 約15分 カロリー 201kcal 費用目安 200円前後 じゃがいも サラダ油 青のり 粉チーズ レシピ詳細を見る レビュー 【和風】じゃがいもの炒め物レシピ おつまみにもおすすめ！じゃがいもの甘辛おかか炒め 4.3 (15分で簡単♪じゃがいもの炒め物レシピ25選. じゃがいもを使ったレシピを簡単動画でご紹介。. 主菜や副菜に使える人気の25レシピ!. 日々の献立にぜひお役立てください。. おつまみにもおすすめ!. じゃがいもの甘辛おかか炒め. ボリューム満点!. じゃが ...'}])]}\n",
      "\n",
      "---\n",
      "\n",
      "Output from node 'agent':\n",
      "---\n",
      "{'input': 'じゃがいものゆでる、焼く、煮る、蒸す、炒める各調理法を使うレシピをそれぞれ教えてください。また、じゃがいもに対するそれぞれの調理方法のコツを教えてください。それぞれ検索してください。', 'intermediate_steps': [(AgentActionMessageLog(tool='tavily_search_results_json', tool_input={'query': 'じゃがいものゆでるレシピ'}, log=\"\\nInvoking: `tavily_search_results_json` with `{'query': 'じゃがいものゆでるレシピ'}`\\n\\n\\n\", message_log=[AIMessage(content='', additional_kwargs={'function_call': {'arguments': '{\"query\":\"じゃがいものゆでるレシピ\"}', 'name': 'tavily_search_results_json'}})]), [{'url': 'https://macaro-ni.jp/80656', 'content': '【蒸す・ゆでる】じゃがいも料理6選 【焼く】じゃがいも料理6選 【揚げる】じゃがいも料理6選 じゃがいも料理が大集合！ 【炒める】じゃがいも料理6選 1. もうひと品に！じゃがいものきんぴら レシピはこちら｜E・レシピ  レシピはこちら｜E・レシピ 2. じゃがいもだけで！じゃがいものマヨ照りやき レシピはこちら｜レシピブログ 3. 豚肉、じゃがいも、ピーマンの醤油炒め レシピはこちら｜Nadia 知らないと危険！緑色になったじゃがいもって食べられるの？  2023年9月10日 更新 ライター : kii 調理師 / 製菓衛生師 / 食育インストラクター / フードコーディネーター 目次 【炒める】じゃがいも料理6選 【煮る】じゃがいも料理6選 【蒸す・ゆでる】じゃがいも料理6選  じゃがいも料理を、炒める、煮る、蒸す・ゆでる、焼く、揚げるの調理方別でご紹介します。和洋中の幅広い味付けがあるので、じゃがいもをおいしく大量消費できるレシピを探しているときにも助けになってくれます。ごはんのおかず、おつまみ、お弁当や作り置じゃがいも料理を、炒める、煮る、蒸す・ゆでる、焼く、揚げるの調理方別でご紹介します。和洋中の幅広い味付けがあるので、じゃがいもをおいしく大量消費できるレシピを探しているときにも助けになってくれます。ごはんのおかず、おつまみ、お弁当や作り置きも、じゃがいもにおまかせ ...'}]), (AgentActionMessageLog(tool='tavily_search_results_json', tool_input={'query': 'じゃがいもの焼くレシピ'}, log=\"\\nInvoking: `tavily_search_results_json` with `{'query': 'じゃがいもの焼くレシピ'}`\\n\\n\\n\", message_log=[AIMessage(content='', additional_kwargs={'function_call': {'arguments': '{\"query\":\"じゃがいもの焼くレシピ\"}', 'name': 'tavily_search_results_json'}})]), [{'url': 'https://www.kitchenbook.jp/topics/1956', 'content': 'じゃがいもを使った人気レシピ【調理法：焼く編】おすすめ１０選 材料 野菜 じゃがいも 広告  じゃがいもを使った人気レシピ【調理法：揚げる編】おすすめ１０選  2番目におすすめする「じゃがいもを使った人気レシピ【焼く編】」、は 「簡単！ほくほくポテト＆プリプリ海老のチーズ焼き♪  じゃがいもを使った人気レシピ【調理法：蒸す編】おすすめ１０選無限★ポテト! じゃがいもカレーチーズ焼き じゃが芋とトマトとツナの塩昆布焼き 最初におすすめする「じゃがいもを使った人気レシピ【焼く編】」、は 「じゃが芋とトマトとツナの塩昆布焼き 」です。 電子レンジとトースターを使って簡単にできるレシピです。 じゃがいもは電子レンジでチンしてやわらかくしておきます。 じゃがいもと材料を混ぜたら下味を軽く付け、耐熱容器に入れてチーズとマヨネーズ、塩昆布をかけてオーブントースターで焼きます。 塩昆布の塩加減がちょうどよく、うま味もたっぷり。 枝豆やトマト、じゃがいもと見た目もカラフルで食欲をそそります。'}]), (AgentActionMessageLog(tool='tavily_search_results_json', tool_input={'query': 'じゃがいもの煮るレシピ'}, log=\"\\nInvoking: `tavily_search_results_json` with `{'query': 'じゃがいもの煮るレシピ'}`\\n\\n\\n\", message_log=[AIMessage(content='', additional_kwargs={'function_call': {'arguments': '{\"query\":\"じゃがいもの煮るレシピ\"}', 'name': 'tavily_search_results_json'}})]), [{'url': 'https://www.kitchenbook.jp/topics/2234', 'content': 'じゃがいもを使った人気レシピ【調理法：焼く編】おすすめ１０選  じゃがいもを使った人気レシピ【調理法：蒸す編】おすすめ１０選  じゃがいもを使った人気レシピ【調理法：揚げる編】おすすめ１０選  じゃがいもを使った人気レシピ【煮る編】おすすめ１０選 材料 野菜 じゃがいも 広告お好みの野菜でお試しください。 ジャガイモと人参と豚ひき肉のそぼろ煮 材料 （2人分）人参1本ジャガイモ2個サラダ油小さじ1豚ひき肉150g麺つゆ大さじ2おろしショウガ小さじ半分'}]), (AgentActionMessageLog(tool='tavily_search_results_json', tool_input={'query': 'じゃがいもの蒸すレシピ'}, log=\"\\nInvoking: `tavily_search_results_json` with `{'query': 'じゃがいもの蒸すレシピ'}`\\n\\n\\n\", message_log=[AIMessage(content='', additional_kwargs={'function_call': {'arguments': '{\"query\":\"じゃがいもの蒸すレシピ\"}', 'name': 'tavily_search_results_json'}})]), [{'url': 'https://gourmet-note.jp/posts/2893', 'content': '2018年05月12日公開 2024年01月10日更新 じゃがいもを蒸す時間や蒸し方は？レンジで加熱する方法も紹介！  蒸すじゃがいも＆マヨネーズ 出典: https://sobubu.exblog.jp  蒸すじゃがいも＆塩辛 出典: https://r.gnavi.co.jp  じゃがいもを蒸す時間のまとめ 出典: https://ameblo.jpじゃがいもを蒸す時間や蒸し方は？ レンジで加熱する方法も紹介! 子供から大人までみんな大好きなじゃがいもは、シンプルに蒸していただくのが一番おいしい食べ方です! 今回はじゃがいもを蒸し器で蒸す場合のおいしい蒸し方から、蒸し器がない場合のフライパンや炊飯器を使った蒸し方、詳しい蒸し時間などを紹介します。 蒸すのが面倒! という方にはレンジを使った簡単＆時短な加熱方法もあります。 今晩のおかずにホクホクのおいしい蒸しじゃがいもはいかがでしょうか？ シェア Google+ はてブ Pocket Feedly 目次 [全て表示する] 1 2 3 4 5じゃがいもを蒸す前の注意点 6 7 8 9 10 11 12 13 14蒸すじゃがいものアレンジレシピ：じゃがいもチーズもち'}]), (AgentActionMessageLog(tool='tavily_search_results_json', tool_input={'query': 'じゃがいもの炒めるレシピ'}, log=\"\\nInvoking: `tavily_search_results_json` with `{'query': 'じゃがいもの炒めるレシピ'}`\\n\\n\\n\", message_log=[AIMessage(content='', additional_kwargs={'function_call': {'arguments': '{\"query\":\"じゃがいもの炒めるレシピ\"}', 'name': 'tavily_search_results_json'}})]), [{'url': 'https://delishkitchen.tv/curations/7812', 'content': 'じゃがいもの炒め物レシピ23選！洋風・和風・中華風などご紹介 作成日: 2023/05/07 (2024年1月5日更新)じゃがいもを使ったレシピを簡単動画でご紹介。主菜や副菜に使える人気の23レシピ！日々の献立にぜひお役立てください。 目次  4.2 ( ほっくりしたじゃがいもがおいしい洋風な炒め物のご紹介です♪じゃがいもはレンジで加熱してから炒めるので時短調理！にんにくと一緒に炒めて風味豊かに仕上げました♪ごはんにも、パンにもあう一品です！ 調理時間 約15分 カロリー  4.3 ( みそ、にんにくの豊かな香りが口いっぱいに広がる、主菜レシピのご紹介です！じゃがいもをレンジで加熱しておくことで炒める時間を短縮できます♪お好みのお酒などと共にお召し上がりください。 調理時間 約10分 カロリー 426kcal  調理時間 約15分 カロリー 201kcal 費用目安 200円前後 じゃがいも サラダ油 青のり 粉チーズ レシピ詳細を見る レビュー 【和風】じゃがいもの炒め物レシピ おつまみにもおすすめ！じゃがいもの甘辛おかか炒め 4.3 (15分で簡単♪じゃがいもの炒め物レシピ25選. じゃがいもを使ったレシピを簡単動画でご紹介。. 主菜や副菜に使える人気の25レシピ!. 日々の献立にぜひお役立てください。. おつまみにもおすすめ!. じゃがいもの甘辛おかか炒め. ボリューム満点!. じゃが ...'}])], 'agent_outcome': AgentFinish(return_values={'output': '各調理法に対するじゃがいものレシピとコツを以下に示します。\\n\\n### ゆでる\\n- レシピ: [じゃがいものゆでるレシピ](https://macaro-ni.jp/80656)\\n- コツ: じゃがいもをゆでる際は、皮を剥いた状態で水に放り込むとムラなくゆでられます。また、ゆでる時間はじゃがいもの大きさによって異なりますが、フォークなどで刺してみて柔らかければOKです。\\n\\n### 焼く\\n- レシピ: [じゃがいもの焼くレシピ](https://www.kitchenbook.jp/topics/1956)\\n- コツ: じゃがいもを焼く際は、事前に電子レンジで加熱してやわらかくしておくと、中までしっかり火が通ります。また、下味をつけてからオーブントースターでじっくり焼くと、香ばしさが増します。\\n\\n### 煮る\\n- レシピ: [じゃがいもの煮るレシピ](https://www.kitchenbook.jp/topics/2234)\\n- コツ: じゃがいもを煮る際は、野菜や豚ひき肉と一緒に煮込むと、味がよく染み込んで美味しくなります。また、じゃがいもは大きめに切ると、食べ応えがあります。\\n\\n### 蒸す\\n- レシピ: [じゃがいもの蒸すレシピ](https://gourmet-note.jp/posts/2893)\\n- コツ: じゃがいもを蒸す際は、蒸し器を使う方法やレンジを使う方法があります。蒸す時間はじゃがいもの大きさによって異なるため、柔らかさを確認しながら蒸してください。\\n\\n### 炒める\\n- レシピ: [じゃがいもの炒めるレシピ](https://delishkitchen.tv/curations/7812)\\n- コツ: じゃがいもを炒める際は、事前にレンジで加熱してやわらかくしておくと、炒める時間を短縮できます。また、香味野菜と一緒に炒めることで風味豊かな味わいになります。\\n\\n各レシピを参考に、おいしいじゃがいも料理を楽しんでください！'}, log='各調理法に対するじゃがいものレシピとコツを以下に示します。\\n\\n### ゆでる\\n- レシピ: [じゃがいものゆでるレシピ](https://macaro-ni.jp/80656)\\n- コツ: じゃがいもをゆでる際は、皮を剥いた状態で水に放り込むとムラなくゆでられます。また、ゆでる時間はじゃがいもの大きさによって異なりますが、フォークなどで刺してみて柔らかければOKです。\\n\\n### 焼く\\n- レシピ: [じゃがいもの焼くレシピ](https://www.kitchenbook.jp/topics/1956)\\n- コツ: じゃがいもを焼く際は、事前に電子レンジで加熱してやわらかくしておくと、中までしっかり火が通ります。また、下味をつけてからオーブントースターでじっくり焼くと、香ばしさが増します。\\n\\n### 煮る\\n- レシピ: [じゃがいもの煮るレシピ](https://www.kitchenbook.jp/topics/2234)\\n- コツ: じゃがいもを煮る際は、野菜や豚ひき肉と一緒に煮込むと、味がよく染み込んで美味しくなります。また、じゃがいもは大きめに切ると、食べ応えがあります。\\n\\n### 蒸す\\n- レシピ: [じゃがいもの蒸すレシピ](https://gourmet-note.jp/posts/2893)\\n- コツ: じゃがいもを蒸す際は、蒸し器を使う方法やレンジを使う方法があります。蒸す時間はじゃがいもの大きさによって異なるため、柔らかさを確認しながら蒸してください。\\n\\n### 炒める\\n- レシピ: [じゃがいもの炒めるレシピ](https://delishkitchen.tv/curations/7812)\\n- コツ: じゃがいもを炒める際は、事前にレンジで加熱してやわらかくしておくと、炒める時間を短縮できます。また、香味野菜と一緒に炒めることで風味豊かな味わいになります。\\n\\n各レシピを参考に、おいしいじゃがいも料理を楽しんでください！')}\n",
      "\n",
      "---\n",
      "\n",
      "Output from node '__end__':\n",
      "---\n",
      "{'input': 'じゃがいものゆでる、焼く、煮る、蒸す、炒める各調理法を使うレシピをそれぞれ教えてください。また、じゃがいもに対するそれぞれの調理方法のコツを教えてください。それぞれ検索してください。', 'intermediate_steps': [(AgentActionMessageLog(tool='tavily_search_results_json', tool_input={'query': 'じゃがいものゆでるレシピ'}, log=\"\\nInvoking: `tavily_search_results_json` with `{'query': 'じゃがいものゆでるレシピ'}`\\n\\n\\n\", message_log=[AIMessage(content='', additional_kwargs={'function_call': {'arguments': '{\"query\":\"じゃがいものゆでるレシピ\"}', 'name': 'tavily_search_results_json'}})]), [{'url': 'https://macaro-ni.jp/80656', 'content': '【蒸す・ゆでる】じゃがいも料理6選 【焼く】じゃがいも料理6選 【揚げる】じゃがいも料理6選 じゃがいも料理が大集合！ 【炒める】じゃがいも料理6選 1. もうひと品に！じゃがいものきんぴら レシピはこちら｜E・レシピ  レシピはこちら｜E・レシピ 2. じゃがいもだけで！じゃがいものマヨ照りやき レシピはこちら｜レシピブログ 3. 豚肉、じゃがいも、ピーマンの醤油炒め レシピはこちら｜Nadia 知らないと危険！緑色になったじゃがいもって食べられるの？  2023年9月10日 更新 ライター : kii 調理師 / 製菓衛生師 / 食育インストラクター / フードコーディネーター 目次 【炒める】じゃがいも料理6選 【煮る】じゃがいも料理6選 【蒸す・ゆでる】じゃがいも料理6選  じゃがいも料理を、炒める、煮る、蒸す・ゆでる、焼く、揚げるの調理方別でご紹介します。和洋中の幅広い味付けがあるので、じゃがいもをおいしく大量消費できるレシピを探しているときにも助けになってくれます。ごはんのおかず、おつまみ、お弁当や作り置じゃがいも料理を、炒める、煮る、蒸す・ゆでる、焼く、揚げるの調理方別でご紹介します。和洋中の幅広い味付けがあるので、じゃがいもをおいしく大量消費できるレシピを探しているときにも助けになってくれます。ごはんのおかず、おつまみ、お弁当や作り置きも、じゃがいもにおまかせ ...'}]), (AgentActionMessageLog(tool='tavily_search_results_json', tool_input={'query': 'じゃがいもの焼くレシピ'}, log=\"\\nInvoking: `tavily_search_results_json` with `{'query': 'じゃがいもの焼くレシピ'}`\\n\\n\\n\", message_log=[AIMessage(content='', additional_kwargs={'function_call': {'arguments': '{\"query\":\"じゃがいもの焼くレシピ\"}', 'name': 'tavily_search_results_json'}})]), [{'url': 'https://www.kitchenbook.jp/topics/1956', 'content': 'じゃがいもを使った人気レシピ【調理法：焼く編】おすすめ１０選 材料 野菜 じゃがいも 広告  じゃがいもを使った人気レシピ【調理法：揚げる編】おすすめ１０選  2番目におすすめする「じゃがいもを使った人気レシピ【焼く編】」、は 「簡単！ほくほくポテト＆プリプリ海老のチーズ焼き♪  じゃがいもを使った人気レシピ【調理法：蒸す編】おすすめ１０選無限★ポテト! じゃがいもカレーチーズ焼き じゃが芋とトマトとツナの塩昆布焼き 最初におすすめする「じゃがいもを使った人気レシピ【焼く編】」、は 「じゃが芋とトマトとツナの塩昆布焼き 」です。 電子レンジとトースターを使って簡単にできるレシピです。 じゃがいもは電子レンジでチンしてやわらかくしておきます。 じゃがいもと材料を混ぜたら下味を軽く付け、耐熱容器に入れてチーズとマヨネーズ、塩昆布をかけてオーブントースターで焼きます。 塩昆布の塩加減がちょうどよく、うま味もたっぷり。 枝豆やトマト、じゃがいもと見た目もカラフルで食欲をそそります。'}]), (AgentActionMessageLog(tool='tavily_search_results_json', tool_input={'query': 'じゃがいもの煮るレシピ'}, log=\"\\nInvoking: `tavily_search_results_json` with `{'query': 'じゃがいもの煮るレシピ'}`\\n\\n\\n\", message_log=[AIMessage(content='', additional_kwargs={'function_call': {'arguments': '{\"query\":\"じゃがいもの煮るレシピ\"}', 'name': 'tavily_search_results_json'}})]), [{'url': 'https://www.kitchenbook.jp/topics/2234', 'content': 'じゃがいもを使った人気レシピ【調理法：焼く編】おすすめ１０選  じゃがいもを使った人気レシピ【調理法：蒸す編】おすすめ１０選  じゃがいもを使った人気レシピ【調理法：揚げる編】おすすめ１０選  じゃがいもを使った人気レシピ【煮る編】おすすめ１０選 材料 野菜 じゃがいも 広告お好みの野菜でお試しください。 ジャガイモと人参と豚ひき肉のそぼろ煮 材料 （2人分）人参1本ジャガイモ2個サラダ油小さじ1豚ひき肉150g麺つゆ大さじ2おろしショウガ小さじ半分'}]), (AgentActionMessageLog(tool='tavily_search_results_json', tool_input={'query': 'じゃがいもの蒸すレシピ'}, log=\"\\nInvoking: `tavily_search_results_json` with `{'query': 'じゃがいもの蒸すレシピ'}`\\n\\n\\n\", message_log=[AIMessage(content='', additional_kwargs={'function_call': {'arguments': '{\"query\":\"じゃがいもの蒸すレシピ\"}', 'name': 'tavily_search_results_json'}})]), [{'url': 'https://gourmet-note.jp/posts/2893', 'content': '2018年05月12日公開 2024年01月10日更新 じゃがいもを蒸す時間や蒸し方は？レンジで加熱する方法も紹介！  蒸すじゃがいも＆マヨネーズ 出典: https://sobubu.exblog.jp  蒸すじゃがいも＆塩辛 出典: https://r.gnavi.co.jp  じゃがいもを蒸す時間のまとめ 出典: https://ameblo.jpじゃがいもを蒸す時間や蒸し方は？ レンジで加熱する方法も紹介! 子供から大人までみんな大好きなじゃがいもは、シンプルに蒸していただくのが一番おいしい食べ方です! 今回はじゃがいもを蒸し器で蒸す場合のおいしい蒸し方から、蒸し器がない場合のフライパンや炊飯器を使った蒸し方、詳しい蒸し時間などを紹介します。 蒸すのが面倒! という方にはレンジを使った簡単＆時短な加熱方法もあります。 今晩のおかずにホクホクのおいしい蒸しじゃがいもはいかがでしょうか？ シェア Google+ はてブ Pocket Feedly 目次 [全て表示する] 1 2 3 4 5じゃがいもを蒸す前の注意点 6 7 8 9 10 11 12 13 14蒸すじゃがいものアレンジレシピ：じゃがいもチーズもち'}]), (AgentActionMessageLog(tool='tavily_search_results_json', tool_input={'query': 'じゃがいもの炒めるレシピ'}, log=\"\\nInvoking: `tavily_search_results_json` with `{'query': 'じゃがいもの炒めるレシピ'}`\\n\\n\\n\", message_log=[AIMessage(content='', additional_kwargs={'function_call': {'arguments': '{\"query\":\"じゃがいもの炒めるレシピ\"}', 'name': 'tavily_search_results_json'}})]), [{'url': 'https://delishkitchen.tv/curations/7812', 'content': 'じゃがいもの炒め物レシピ23選！洋風・和風・中華風などご紹介 作成日: 2023/05/07 (2024年1月5日更新)じゃがいもを使ったレシピを簡単動画でご紹介。主菜や副菜に使える人気の23レシピ！日々の献立にぜひお役立てください。 目次  4.2 ( ほっくりしたじゃがいもがおいしい洋風な炒め物のご紹介です♪じゃがいもはレンジで加熱してから炒めるので時短調理！にんにくと一緒に炒めて風味豊かに仕上げました♪ごはんにも、パンにもあう一品です！ 調理時間 約15分 カロリー  4.3 ( みそ、にんにくの豊かな香りが口いっぱいに広がる、主菜レシピのご紹介です！じゃがいもをレンジで加熱しておくことで炒める時間を短縮できます♪お好みのお酒などと共にお召し上がりください。 調理時間 約10分 カロリー 426kcal  調理時間 約15分 カロリー 201kcal 費用目安 200円前後 じゃがいも サラダ油 青のり 粉チーズ レシピ詳細を見る レビュー 【和風】じゃがいもの炒め物レシピ おつまみにもおすすめ！じゃがいもの甘辛おかか炒め 4.3 (15分で簡単♪じゃがいもの炒め物レシピ25選. じゃがいもを使ったレシピを簡単動画でご紹介。. 主菜や副菜に使える人気の25レシピ!. 日々の献立にぜひお役立てください。. おつまみにもおすすめ!. じゃがいもの甘辛おかか炒め. ボリューム満点!. じゃが ...'}])], 'agent_outcome': AgentFinish(return_values={'output': '各調理法に対するじゃがいものレシピとコツを以下に示します。\\n\\n### ゆでる\\n- レシピ: [じゃがいものゆでるレシピ](https://macaro-ni.jp/80656)\\n- コツ: じゃがいもをゆでる際は、皮を剥いた状態で水に放り込むとムラなくゆでられます。また、ゆでる時間はじゃがいもの大きさによって異なりますが、フォークなどで刺してみて柔らかければOKです。\\n\\n### 焼く\\n- レシピ: [じゃがいもの焼くレシピ](https://www.kitchenbook.jp/topics/1956)\\n- コツ: じゃがいもを焼く際は、事前に電子レンジで加熱してやわらかくしておくと、中までしっかり火が通ります。また、下味をつけてからオーブントースターでじっくり焼くと、香ばしさが増します。\\n\\n### 煮る\\n- レシピ: [じゃがいもの煮るレシピ](https://www.kitchenbook.jp/topics/2234)\\n- コツ: じゃがいもを煮る際は、野菜や豚ひき肉と一緒に煮込むと、味がよく染み込んで美味しくなります。また、じゃがいもは大きめに切ると、食べ応えがあります。\\n\\n### 蒸す\\n- レシピ: [じゃがいもの蒸すレシピ](https://gourmet-note.jp/posts/2893)\\n- コツ: じゃがいもを蒸す際は、蒸し器を使う方法やレンジを使う方法があります。蒸す時間はじゃがいもの大きさによって異なるため、柔らかさを確認しながら蒸してください。\\n\\n### 炒める\\n- レシピ: [じゃがいもの炒めるレシピ](https://delishkitchen.tv/curations/7812)\\n- コツ: じゃがいもを炒める際は、事前にレンジで加熱してやわらかくしておくと、炒める時間を短縮できます。また、香味野菜と一緒に炒めることで風味豊かな味わいになります。\\n\\n各レシピを参考に、おいしいじゃがいも料理を楽しんでください！'}, log='各調理法に対するじゃがいものレシピとコツを以下に示します。\\n\\n### ゆでる\\n- レシピ: [じゃがいものゆでるレシピ](https://macaro-ni.jp/80656)\\n- コツ: じゃがいもをゆでる際は、皮を剥いた状態で水に放り込むとムラなくゆでられます。また、ゆでる時間はじゃがいもの大きさによって異なりますが、フォークなどで刺してみて柔らかければOKです。\\n\\n### 焼く\\n- レシピ: [じゃがいもの焼くレシピ](https://www.kitchenbook.jp/topics/1956)\\n- コツ: じゃがいもを焼く際は、事前に電子レンジで加熱してやわらかくしておくと、中までしっかり火が通ります。また、下味をつけてからオーブントースターでじっくり焼くと、香ばしさが増します。\\n\\n### 煮る\\n- レシピ: [じゃがいもの煮るレシピ](https://www.kitchenbook.jp/topics/2234)\\n- コツ: じゃがいもを煮る際は、野菜や豚ひき肉と一緒に煮込むと、味がよく染み込んで美味しくなります。また、じゃがいもは大きめに切ると、食べ応えがあります。\\n\\n### 蒸す\\n- レシピ: [じゃがいもの蒸すレシピ](https://gourmet-note.jp/posts/2893)\\n- コツ: じゃがいもを蒸す際は、蒸し器を使う方法やレンジを使う方法があります。蒸す時間はじゃがいもの大きさによって異なるため、柔らかさを確認しながら蒸してください。\\n\\n### 炒める\\n- レシピ: [じゃがいもの炒めるレシピ](https://delishkitchen.tv/curations/7812)\\n- コツ: じゃがいもを炒める際は、事前にレンジで加熱してやわらかくしておくと、炒める時間を短縮できます。また、香味野菜と一緒に炒めることで風味豊かな味わいになります。\\n\\n各レシピを参考に、おいしいじゃがいも料理を楽しんでください！')}\n",
      "\n",
      "---\n",
      "\n"
     ]
    }
   ],
   "source": [
    "for output in chain.stream(\n",
    "    {\"input\": \"じゃがいものゆでる、焼く、煮る、蒸す、炒める各調理法を使うレシピをそれぞれ教えてください。また、じゃがいもに対するそれぞれの調理方法のコツを教えてください。それぞれ検索してください。\", \"intermediate_steps\": []}\n",
    "):\n",
    "    # stream() yields dictionaries with output keyed by node name\n",
    "    for key, value in output.items():\n",
    "        print(f\"Output from node '{key}':\")\n",
    "        print(\"---\")\n",
    "        print(value)\n",
    "    print(\"\\n---\\n\")"
   ]
  },
  {
   "cell_type": "code",
   "execution_count": 18,
   "metadata": {},
   "outputs": [
    {
     "name": "stdout",
     "output_type": "stream",
     "text": [
      "各調理法に対するじゃがいものレシピとコツを以下に示します。\n",
      "\n",
      "### ゆでる\n",
      "- レシピ: [じゃがいものゆでるレシピ](https://macaro-ni.jp/80656)\n",
      "- コツ: じゃがいもをゆでる際は、皮を剥いた状態で水に放り込むとムラなくゆでられます。また、ゆでる時間はじゃがいもの大きさによって異なりますが、フォークなどで刺してみて柔らかければOKです。\n",
      "\n",
      "### 焼く\n",
      "- レシピ: [じゃがいもの焼くレシピ](https://www.kitchenbook.jp/topics/1956)\n",
      "- コツ: じゃがいもを焼く際は、事前に電子レンジで加熱してやわらかくしておくと、中までしっかり火が通ります。また、下味をつけてからオーブントースターでじっくり焼くと、香ばしさが増します。\n",
      "\n",
      "### 煮る\n",
      "- レシピ: [じゃがいもの煮るレシピ](https://www.kitchenbook.jp/topics/2234)\n",
      "- コツ: じゃがいもを煮る際は、野菜や豚ひき肉と一緒に煮込むと、味がよく染み込んで美味しくなります。また、じゃがいもは大きめに切ると、食べ応えがあります。\n",
      "\n",
      "### 蒸す\n",
      "- レシピ: [じゃがいもの蒸すレシピ](https://gourmet-note.jp/posts/2893)\n",
      "- コツ: じゃがいもを蒸す際は、蒸し器を使う方法やレンジを使う方法があります。蒸す時間はじゃがいもの大きさによって異なるため、柔らかさを確認しながら蒸してください。\n",
      "\n",
      "### 炒める\n",
      "- レシピ: [じゃがいもの炒めるレシピ](https://delishkitchen.tv/curations/7812)\n",
      "- コツ: じゃがいもを炒める際は、事前にレンジで加熱してやわらかくしておくと、炒める時間を短縮できます。また、香味野菜と一緒に炒めることで風味豊かな味わいになります。\n",
      "\n",
      "各レシピを参考に、おいしいじゃがいも料理を楽しんでください！\n"
     ]
    }
   ],
   "source": [
    "print(value['agent_outcome'].return_values['output'])"
   ]
  }
 ],
 "metadata": {
  "kernelspec": {
   "display_name": ".venv",
   "language": "python",
   "name": "python3"
  },
  "language_info": {
   "codemirror_mode": {
    "name": "ipython",
    "version": 3
   },
   "file_extension": ".py",
   "mimetype": "text/x-python",
   "name": "python",
   "nbconvert_exporter": "python",
   "pygments_lexer": "ipython3",
   "version": "3.10.13"
  }
 },
 "nbformat": 4,
 "nbformat_minor": 2
}

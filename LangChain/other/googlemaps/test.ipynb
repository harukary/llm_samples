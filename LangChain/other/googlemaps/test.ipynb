{
 "cells": [
  {
   "cell_type": "code",
   "execution_count": 1,
   "metadata": {},
   "outputs": [],
   "source": [
    "# !pip install -U googlemaps\n",
    "# !pip install folium\n",
    "# !pip install python-dotenv"
   ]
  },
  {
   "cell_type": "markdown",
   "metadata": {},
   "source": [
    "## Preparing"
   ]
  },
  {
   "cell_type": "code",
   "execution_count": 2,
   "metadata": {},
   "outputs": [
    {
     "data": {
      "text/plain": [
       "True"
      ]
     },
     "execution_count": 2,
     "metadata": {},
     "output_type": "execute_result"
    }
   ],
   "source": [
    "from dotenv import find_dotenv,load_dotenv\n",
    "load_dotenv(find_dotenv())"
   ]
  },
  {
   "cell_type": "code",
   "execution_count": 3,
   "metadata": {},
   "outputs": [],
   "source": [
    "import os,json\n",
    "from datetime import datetime\n",
    "import numpy as np\n",
    "import folium\n",
    "from branca.element import Figure\n",
    "import googlemaps\n",
    "gmaps = googlemaps.Client(key=os.environ['GOOGLE_MAPS_API_KEY'])"
   ]
  },
  {
   "cell_type": "markdown",
   "metadata": {},
   "source": [
    "## Get data from address"
   ]
  },
  {
   "cell_type": "code",
   "execution_count": 4,
   "metadata": {},
   "outputs": [
    {
     "name": "stdout",
     "output_type": "stream",
     "text": [
      "[\n",
      "  {\n",
      "    \"address_components\": [\n",
      "      {\n",
      "        \"long_name\": \"Google Building 40\",\n",
      "        \"short_name\": \"Google Building 40\",\n",
      "        \"types\": [\n",
      "          \"premise\"\n",
      "        ]\n",
      "      },\n",
      "      {\n",
      "        \"long_name\": \"1600\",\n",
      "        \"short_name\": \"1600\",\n",
      "        \"types\": [\n",
      "          \"street_number\"\n",
      "        ]\n",
      "      },\n",
      "      {\n",
      "        \"long_name\": \"Amphitheatre Parkway\",\n",
      "        \"short_name\": \"Amphitheatre Pkwy\",\n",
      "        \"types\": [\n",
      "          \"route\"\n",
      "        ]\n",
      "      },\n",
      "      {\n",
      "        \"long_name\": \"Mountain View\",\n",
      "        \"short_name\": \"Mountain View\",\n",
      "        \"types\": [\n",
      "          \"locality\",\n",
      "          \"political\"\n",
      "        ]\n",
      "      },\n",
      "      {\n",
      "        \"long_name\": \"Santa Clara County\",\n",
      "        \"short_name\": \"Santa Clara County\",\n",
      "        \"types\": [\n",
      "          \"administrative_area_level_2\",\n",
      "          \"political\"\n",
      "        ]\n",
      "      },\n",
      "      {\n",
      "        \"long_name\": \"California\",\n",
      "        \"short_name\": \"CA\",\n",
      "        \"types\": [\n",
      "          \"administrative_area_level_1\",\n",
      "          \"political\"\n",
      "        ]\n",
      "      },\n",
      "      {\n",
      "        \"long_name\": \"United States\",\n",
      "        \"short_name\": \"US\",\n",
      "        \"types\": [\n",
      "          \"country\",\n",
      "          \"political\"\n",
      "        ]\n",
      "      },\n",
      "      {\n",
      "        \"long_name\": \"94043\",\n",
      "        \"short_name\": \"94043\",\n",
      "        \"types\": [\n",
      "          \"postal_code\"\n",
      "        ]\n",
      "      }\n",
      "    ],\n",
      "    \"formatted_address\": \"Google Building 40, 1600 Amphitheatre Pkwy, Mountain View, CA 94043, USA\",\n",
      "    \"geometry\": {\n",
      "      \"bounds\": {\n",
      "        \"northeast\": {\n",
      "          \"lat\": 37.4226618,\n",
      "          \"lng\": -122.0829302\n",
      "        },\n",
      "        \"southwest\": {\n",
      "          \"lat\": 37.4220699,\n",
      "          \"lng\": -122.084958\n",
      "        }\n",
      "      },\n",
      "      \"location\": {\n",
      "        \"lat\": 37.4223878,\n",
      "        \"lng\": -122.0841877\n",
      "      },\n",
      "      \"location_type\": \"ROOFTOP\",\n",
      "      \"viewport\": {\n",
      "        \"northeast\": {\n",
      "          \"lat\": 37.42372298029149,\n",
      "          \"lng\": -122.0825951197085\n",
      "        },\n",
      "        \"southwest\": {\n",
      "          \"lat\": 37.4210250197085,\n",
      "          \"lng\": -122.0852930802915\n",
      "        }\n",
      "      }\n",
      "    },\n",
      "    \"place_id\": \"ChIJj38IfwK6j4ARNcyPDnEGa9g\",\n",
      "    \"types\": [\n",
      "      \"premise\"\n",
      "    ]\n",
      "  }\n",
      "]\n"
     ]
    }
   ],
   "source": [
    "# Geocoding an address\n",
    "address = '1600 Amphitheatre Parkway, Mountain View, CA'\n",
    "geocode_result = gmaps.geocode(address)\n",
    "print(json.dumps(geocode_result,indent=2))"
   ]
  },
  {
   "cell_type": "code",
   "execution_count": 6,
   "metadata": {},
   "outputs": [
    {
     "data": {
      "text/html": [
       "<iframe srcdoc=\"&lt;!DOCTYPE html&gt;\n",
       "&lt;html&gt;\n",
       "&lt;head&gt;\n",
       "    \n",
       "    &lt;meta http-equiv=&quot;content-type&quot; content=&quot;text/html; charset=UTF-8&quot; /&gt;\n",
       "    \n",
       "        &lt;script&gt;\n",
       "            L_NO_TOUCH = false;\n",
       "            L_DISABLE_3D = false;\n",
       "        &lt;/script&gt;\n",
       "    \n",
       "    &lt;style&gt;html, body {width: 100%;height: 100%;margin: 0;padding: 0;}&lt;/style&gt;\n",
       "    &lt;style&gt;#map {position:absolute;top:0;bottom:0;right:0;left:0;}&lt;/style&gt;\n",
       "    &lt;script src=&quot;https://cdn.jsdelivr.net/npm/leaflet@1.9.3/dist/leaflet.js&quot;&gt;&lt;/script&gt;\n",
       "    &lt;script src=&quot;https://code.jquery.com/jquery-1.12.4.min.js&quot;&gt;&lt;/script&gt;\n",
       "    &lt;script src=&quot;https://cdn.jsdelivr.net/npm/bootstrap@5.2.2/dist/js/bootstrap.bundle.min.js&quot;&gt;&lt;/script&gt;\n",
       "    &lt;script src=&quot;https://cdnjs.cloudflare.com/ajax/libs/Leaflet.awesome-markers/2.0.2/leaflet.awesome-markers.js&quot;&gt;&lt;/script&gt;\n",
       "    &lt;link rel=&quot;stylesheet&quot; href=&quot;https://cdn.jsdelivr.net/npm/leaflet@1.9.3/dist/leaflet.css&quot;/&gt;\n",
       "    &lt;link rel=&quot;stylesheet&quot; href=&quot;https://cdn.jsdelivr.net/npm/bootstrap@5.2.2/dist/css/bootstrap.min.css&quot;/&gt;\n",
       "    &lt;link rel=&quot;stylesheet&quot; href=&quot;https://netdna.bootstrapcdn.com/bootstrap/3.0.0/css/bootstrap.min.css&quot;/&gt;\n",
       "    &lt;link rel=&quot;stylesheet&quot; href=&quot;https://cdn.jsdelivr.net/npm/@fortawesome/fontawesome-free@6.2.0/css/all.min.css&quot;/&gt;\n",
       "    &lt;link rel=&quot;stylesheet&quot; href=&quot;https://cdnjs.cloudflare.com/ajax/libs/Leaflet.awesome-markers/2.0.2/leaflet.awesome-markers.css&quot;/&gt;\n",
       "    &lt;link rel=&quot;stylesheet&quot; href=&quot;https://cdn.jsdelivr.net/gh/python-visualization/folium/folium/templates/leaflet.awesome.rotate.min.css&quot;/&gt;\n",
       "    \n",
       "            &lt;meta name=&quot;viewport&quot; content=&quot;width=device-width,\n",
       "                initial-scale=1.0, maximum-scale=1.0, user-scalable=no&quot; /&gt;\n",
       "            &lt;style&gt;\n",
       "                #map_41a8b1c64ee2855d66a961b1552ac2dc {\n",
       "                    position: relative;\n",
       "                    width: 100.0%;\n",
       "                    height: 100.0%;\n",
       "                    left: 0.0%;\n",
       "                    top: 0.0%;\n",
       "                }\n",
       "                .leaflet-container { font-size: 1rem; }\n",
       "            &lt;/style&gt;\n",
       "        \n",
       "&lt;/head&gt;\n",
       "&lt;body&gt;\n",
       "    \n",
       "    \n",
       "            &lt;div class=&quot;folium-map&quot; id=&quot;map_41a8b1c64ee2855d66a961b1552ac2dc&quot; &gt;&lt;/div&gt;\n",
       "        \n",
       "&lt;/body&gt;\n",
       "&lt;script&gt;\n",
       "    \n",
       "    \n",
       "            var map_41a8b1c64ee2855d66a961b1552ac2dc = L.map(\n",
       "                &quot;map_41a8b1c64ee2855d66a961b1552ac2dc&quot;,\n",
       "                {\n",
       "                    center: [37.4223878, -122.0841877],\n",
       "                    crs: L.CRS.EPSG3857,\n",
       "                    zoom: 14,\n",
       "                    zoomControl: true,\n",
       "                    preferCanvas: false,\n",
       "                }\n",
       "            );\n",
       "\n",
       "            \n",
       "\n",
       "        \n",
       "    \n",
       "            var tile_layer_cecb422b03d65e377d2cf00c30a1aff2 = L.tileLayer(\n",
       "                &quot;https://{s}.tile.openstreetmap.org/{z}/{x}/{y}.png&quot;,\n",
       "                {&quot;attribution&quot;: &quot;Data by \\u0026copy; \\u003ca target=\\&quot;_blank\\&quot; href=\\&quot;http://openstreetmap.org\\&quot;\\u003eOpenStreetMap\\u003c/a\\u003e, under \\u003ca target=\\&quot;_blank\\&quot; href=\\&quot;http://www.openstreetmap.org/copyright\\&quot;\\u003eODbL\\u003c/a\\u003e.&quot;, &quot;detectRetina&quot;: false, &quot;maxNativeZoom&quot;: 18, &quot;maxZoom&quot;: 18, &quot;minZoom&quot;: 0, &quot;noWrap&quot;: false, &quot;opacity&quot;: 1, &quot;subdomains&quot;: &quot;abc&quot;, &quot;tms&quot;: false}\n",
       "            ).addTo(map_41a8b1c64ee2855d66a961b1552ac2dc);\n",
       "        \n",
       "    \n",
       "            var marker_65ae6789400442c0ead45addb71f74e6 = L.marker(\n",
       "                [37.4223878, -122.0841877],\n",
       "                {}\n",
       "            ).addTo(map_41a8b1c64ee2855d66a961b1552ac2dc);\n",
       "        \n",
       "    \n",
       "        var popup_5bf25214407fa537994ede245c135223 = L.popup({&quot;maxWidth&quot;: &quot;100%&quot;});\n",
       "\n",
       "        \n",
       "            \n",
       "                var html_412105e7786d77c8ce787c7cd613f2c6 = $(`&lt;div id=&quot;html_412105e7786d77c8ce787c7cd613f2c6&quot; style=&quot;width: 100.0%; height: 100.0%;&quot;&gt;1600 Amphitheatre Parkway, Mountain View, CA&lt;/div&gt;`)[0];\n",
       "                popup_5bf25214407fa537994ede245c135223.setContent(html_412105e7786d77c8ce787c7cd613f2c6);\n",
       "            \n",
       "        \n",
       "\n",
       "        marker_65ae6789400442c0ead45addb71f74e6.bindPopup(popup_5bf25214407fa537994ede245c135223)\n",
       "        ;\n",
       "\n",
       "        \n",
       "    \n",
       "&lt;/script&gt;\n",
       "&lt;/html&gt;\" width=\"800\" height=\"600\"style=\"border:none !important;\" \"allowfullscreen\" \"webkitallowfullscreen\" \"mozallowfullscreen\"></iframe>"
      ],
      "text/plain": [
       "<branca.element.Figure at 0x7fc94b895fc0>"
      ]
     },
     "execution_count": 6,
     "metadata": {},
     "output_type": "execute_result"
    }
   ],
   "source": [
    "loc = geocode_result[0]['geometry']['location']\n",
    "map = folium.Map(location=[loc['lat'],loc['lng']], zoom_start=14)\n",
    "folium.Marker(location=[loc['lat'],loc['lng']], popup=address).add_to(map)\n",
    "fig = Figure(width=800, height=600)\n",
    "fig.add_child(map)"
   ]
  }
 ],
 "metadata": {
  "kernelspec": {
   "display_name": ".venv",
   "language": "python",
   "name": "python3"
  },
  "language_info": {
   "codemirror_mode": {
    "name": "ipython",
    "version": 3
   },
   "file_extension": ".py",
   "mimetype": "text/x-python",
   "name": "python",
   "nbconvert_exporter": "python",
   "pygments_lexer": "ipython3",
   "version": "3.10.1"
  },
  "orig_nbformat": 4
 },
 "nbformat": 4,
 "nbformat_minor": 2
}

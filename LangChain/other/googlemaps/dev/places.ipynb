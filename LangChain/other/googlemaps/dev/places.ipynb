{
 "cells": [
  {
   "cell_type": "code",
   "execution_count": 1,
   "metadata": {},
   "outputs": [],
   "source": [
    "from dotenv import find_dotenv,load_dotenv; _=load_dotenv(find_dotenv())"
   ]
  },
  {
   "cell_type": "code",
   "execution_count": 2,
   "metadata": {},
   "outputs": [],
   "source": [
    "import json, os, datetime, requests\n",
    "from tzlocal import get_localzone\n",
    "from langchain import LLMMathChain, SerpAPIWrapper\n",
    "from langchain.agents import AgentType, initialize_agent\n",
    "from langchain.chat_models import ChatOpenAI\n",
    "from langchain.tools import BaseTool, StructuredTool, Tool, tool\n",
    "from pydantic import BaseModel, Field\n",
    "from typing import Union, Any, Optional, Type\n",
    "from enum import Enum\n",
    "import googlemaps; gmaps = googlemaps.Client(key=os.environ['GOOGLE_MAPS_API_KEY'])"
   ]
  },
  {
   "cell_type": "code",
   "execution_count": 3,
   "metadata": {},
   "outputs": [],
   "source": [
    "# gmaps.reverse_geocode(\n",
    "#     latlng={\"latitude\": \"35.1796\",\"longitude\": \"136.9166\"},\n",
    "#     language='ja'\n",
    "# )"
   ]
  },
  {
   "cell_type": "code",
   "execution_count": 4,
   "metadata": {},
   "outputs": [
    {
     "name": "stdout",
     "output_type": "stream",
     "text": [
      "2023-08-30 11:41 +0900\n"
     ]
    }
   ],
   "source": [
    "def get_now():\n",
    "    now = datetime.datetime.now().replace(tzinfo=get_localzone())\n",
    "    return now.strftime('%Y-%m-%d %H:%M %z')\n",
    "\n",
    "get_now_tool_description = \"\"\"\\\n",
    "You can use to get current datetime with no input. You can use also to use get current date.\n",
    "\"\"\"\n",
    "\n",
    "print(get_now())\n",
    "\n",
    "get_current_datetime_tool = StructuredTool.from_function(\n",
    "    func = get_now,\n",
    "    # name='CurrentLocationGetter',\n",
    "    description=get_now_tool_description,\n",
    ")"
   ]
  },
  {
   "cell_type": "code",
   "execution_count": 5,
   "metadata": {},
   "outputs": [
    {
     "name": "stdout",
     "output_type": "stream",
     "text": [
      "{\n",
      "  \"latitude\": \"35.4643\",\n",
      "  \"longitude\": \"139.6262\"\n",
      "}\n"
     ]
    }
   ],
   "source": [
    "def get_current_location():\n",
    "    geo_request_url = 'https://get.geojs.io/v1/ip/geo.json'\n",
    "    data = requests.get(geo_request_url).json()\n",
    "    return {\n",
    "        'latitude': data['latitude'],\n",
    "        'longitude': data['longitude'],\n",
    "    }\n",
    "print(json.dumps(get_current_location(),indent=2,ensure_ascii=False))\n",
    "\n",
    "get_current_location_tool_description = \"\"\"\\\n",
    "You can get current location with no input.\n",
    "\"\"\"\n",
    "\n",
    "get_current_location_tool = StructuredTool.from_function(\n",
    "    func = get_current_location,\n",
    "    # name='CurrentLocationGetter',\n",
    "    description=get_current_location_tool_description,\n",
    ")"
   ]
  },
  {
   "cell_type": "code",
   "execution_count": 6,
   "metadata": {},
   "outputs": [],
   "source": [
    "def simplified_place_dict(res):\n",
    "    r = res[0]\n",
    "    return {\n",
    "        'address': r['formatted_address'],\n",
    "        'location': r['geometry']['location'],\n",
    "        'types': r['types']\n",
    "    }\n",
    "\n",
    "def find_place_with_text_func(query: str):\n",
    "    places_result = gmaps.find_place(query,input_type='textquery')\n",
    "    geocode_results = [\n",
    "        gmaps.geocode(place_id=r['place_id'])\n",
    "        for r in places_result['candidates']\n",
    "    ]\n",
    "    # print(json.dumps(geocode_results,indent=2,ensure_ascii=False))\n",
    "    return [simplified_place_dict(r) for r in geocode_results]\n",
    "# print(find_place_with_text_func(query='ガスト港東通店'))\n",
    "find_place_tool_description = \"\"\"\\\n",
    "A Find Place request takes a text input, and returns a place.\n",
    "The text input can be any kind of Places data, for example,\n",
    "a name, address, or phone number.\n",
    "\"\"\"\n",
    "\n",
    "find_place_tool = Tool.from_function(\n",
    "    func = find_place_with_text_func,\n",
    "    name='PlaceSearch',\n",
    "    description=find_place_tool_description,\n",
    ")"
   ]
  },
  {
   "cell_type": "code",
   "execution_count": 7,
   "metadata": {},
   "outputs": [],
   "source": [
    "# import datetime,pytz\n",
    "# print(datetime.datetime.strptime('2023/8/30 09:00','%Y/%m/%d %H:%M').astimezone(tz=datetime.timezone.utc).timestamp())\n",
    "# print(datetime.datetime.strptime('2023/8/30 09:00','%Y/%m/%d %H:%M').astimezone(pytz.timezone('Asia/Tokyo')).timestamp())"
   ]
  },
  {
   "cell_type": "code",
   "execution_count": 8,
   "metadata": {},
   "outputs": [],
   "source": [
    "# import datetime\n",
    "\n",
    "# # 日本の時刻を設定（例：2023年8月30日 15:00 JST）\n",
    "# japan_time = datetime.datetime(2023, 8, 30, 15, 0, tzinfo=datetime.timezone(datetime.timedelta(hours=9)))\n",
    "\n",
    "# # 日本標準時の場合\n",
    "# utc_time_standard = japan_time - datetime.timedelta(hours=9)\n",
    "# utc_timestamp_standard = utc_time_standard.timestamp()\n",
    "\n",
    "# print(\"UTCタイムスタンプ（日本標準時）:\", utc_timestamp_standard)"
   ]
  },
  {
   "cell_type": "code",
   "execution_count": 9,
   "metadata": {},
   "outputs": [
    {
     "name": "stdout",
     "output_type": "stream",
     "text": [
      "2023-08-31 00:00:00+00:00\n"
     ]
    }
   ],
   "source": [
    "timestamp = 1693440000\n",
    "dt_object = datetime.datetime.fromtimestamp(timestamp)#,tz=datetime.timezone.utc)\n",
    "dt_object = dt_object.astimezone(tz=datetime.timezone.utc)\n",
    "\n",
    "print(dt_object)"
   ]
  },
  {
   "cell_type": "code",
   "execution_count": 10,
   "metadata": {},
   "outputs": [
    {
     "name": "stdout",
     "output_type": "stream",
     "text": [
      "Asia/Tokyo\n"
     ]
    }
   ],
   "source": [
    "from tzlocal import get_localzone\n",
    "tz = get_localzone()\n",
    " \n",
    "print(tz)"
   ]
  },
  {
   "cell_type": "code",
   "execution_count": 11,
   "metadata": {},
   "outputs": [
    {
     "name": "stdout",
     "output_type": "stream",
     "text": [
      "1693382400\n",
      "[{'arrival_time': '9:28\\u202fAM', 'departure_time': '9:01\\u202fAM', 'distance': '5.9 km', 'duration': '27 mins', 'steps': [{'distance': '0.4 km', 'duration': '6 mins', 'travel_mode': 'WALKING', 'instruction': 'Walk to Tower Hill', 'transit_details': None}, {'distance': '4.8 km', 'duration': '12 mins', 'travel_mode': 'TRANSIT', 'instruction': 'Subway towards Ealing Broadway', 'transit_details': {'arrival_stop': {'location': {'lat': 51.499325, 'lng': -0.134587}, 'name': \"St. James' Park\"}, 'departure_stop': {'location': {'lat': 51.509964, 'lng': -0.07672799999999999}, 'name': 'Tower Hill'}}}, {'distance': '0.7 km', 'duration': '9 mins', 'travel_mode': 'WALKING', 'instruction': 'Walk to London SW1A 1AA, UK', 'transit_details': None}]}]\n"
     ]
    }
   ],
   "source": [
    "class Mode(Enum):\n",
    "    DRIVING = \"driving\"\n",
    "    WALKING = \"walking\"\n",
    "    BYCYCLING = \"bicycling\"\n",
    "    TRANSIT = \"transit\"\n",
    "\n",
    "class DirectionsInput(BaseModel):\n",
    "    origin: Union[str,dict] = Field(\n",
    "        description='The address in string or latitude/longitude in dict from which you wish to calculate directions.'\n",
    "    )\n",
    "    destination: Union[str,dict] = Field(\n",
    "        description='The address in string or latitude/longitude in dict from which you wish to calculate directions.'\n",
    "    )\n",
    "    mode: Mode = Field(\n",
    "        description='Specifies the mode of transport to use when calculating directions.'\n",
    "    )\n",
    "    departure_time: Optional[str] = Field(\n",
    "        description=\"Specifies the desired time of departure. Note: you can't specify both departure_time and arrival_time. The format must be \\\"%Y/%m/%d %H:%M %z\\\".\"\n",
    "    )\n",
    "    arrival_time: Optional[str] = Field(\n",
    "        description=\"Specifies the desired time of arrival for transit directions. Note: you can't specify both departure_time and arrival_time. The format must be \\\"%Y/%m/%d %H:%M %z\\\".\"\n",
    "    )\n",
    "\n",
    "def simplified_directions_dict(res):\n",
    "    r = res['legs'][0]\n",
    "    return {\n",
    "        'arrival_time': r['arrival_time']['text'] if 'arrival_time' in r.keys() else None,\n",
    "        'departure_time': r['departure_time']['text'] if 'departure_time' in r.keys() else None,\n",
    "        'distance': r['distance']['text'] if 'distance' in r.keys() else None,\n",
    "        'duration': r['duration']['text'] if 'duration' in r.keys() else None,\n",
    "        'steps': [\n",
    "            {\n",
    "                'distance': s['distance']['text'],\n",
    "                'duration': s['duration']['text'],\n",
    "                'travel_mode': s['travel_mode'],\n",
    "                \"instruction\": s['html_instructions'],\n",
    "                'transit_details': {\n",
    "                    'arrival_stop': s['transit_details']['arrival_stop'],\n",
    "                    'departure_stop': s['transit_details']['departure_stop'],\n",
    "\n",
    "                } if 'transit_details' in s.keys() else None\n",
    "            }\n",
    "            for s in r['steps']\n",
    "        ]\n",
    "    }\n",
    "\n",
    "# def get_direction_func(params: DirectionsInput):\n",
    "#     places_result = gmaps.directions_result = gmaps.directions(\n",
    "#         origin=params.origin,\n",
    "#         destination=params.destination,\n",
    "#         mode=params.mode.value,\n",
    "#     )\n",
    "#     # print(json.dumps(geocode_results,indent=2,ensure_ascii=False))\n",
    "#     return [simplified_directions_dict(r) for r in places_result]\n",
    "\n",
    "directions_tool_description = \"\"\"\\\n",
    "Get directions between an origin point and a destination point.\n",
    "\"\"\"\n",
    "\n",
    "# get_direction_tool = Tool.from_function(\n",
    "#     func = get_direction_func,\n",
    "#     name='Directions',\n",
    "#     description=directions_tool_description,\n",
    "# )\n",
    "\n",
    "class DirectionsTool(BaseTool):\n",
    "    name = \"Directions\"\n",
    "    description = directions_tool_description\n",
    "    args_schema: Type[DirectionsInput] = DirectionsInput\n",
    "\n",
    "    def _run(self, origin, destination, mode, departure_time=None, arrival_time=None):\n",
    "        print(self.datetime_to_timestamp(departure_time))\n",
    "        directions_result = gmaps.directions(\n",
    "            origin=origin,\n",
    "            destination=destination,\n",
    "            mode=mode.value,\n",
    "            departure_time=self.datetime_to_timestamp(departure_time),\n",
    "            arrival_time=self.datetime_to_timestamp(arrival_time)\n",
    "        )\n",
    "        # print(json.dumps(geocode_results,indent=2,ensure_ascii=False))\n",
    "        return [simplified_directions_dict(r) for r in directions_result]\n",
    "\n",
    "    async def _arun(self, origin, destination, mode):\n",
    "        return self._run(origin, destination, mode)\n",
    "\n",
    "    def datetime_to_timestamp(self,datetime_str):\n",
    "        if datetime_str is None:\n",
    "            return None\n",
    "        dt = self.create_datetime(datetime_str) # datetime.datetime.strptime(datetime_str,'%Y-%m-%d %H:%M %z')\n",
    "        # dt = dt.astimezone(get_localzone())\n",
    "        return int(dt.timestamp())\n",
    "    \n",
    "    @staticmethod\n",
    "    def create_datetime(input_string):\n",
    "        formats = [\"%Y/%m/%d %H:%M %z\", \"%Y-%m-%d %H:%M %z\"]\n",
    "        for fmt in formats:\n",
    "            try:\n",
    "                dt = datetime.datetime.strptime(input_string, fmt)\n",
    "                return dt\n",
    "            except ValueError:\n",
    "                pass\n",
    "        raise ValueError(\"Input string does not match any supported format\")\n",
    "\n",
    "get_direction_tool = DirectionsTool()\n",
    "\n",
    "print(get_direction_tool._run(\n",
    "    origin='Tower of London',\n",
    "    destination='Backingum Palace',\n",
    "    # origin={'latitude': '35.1796', 'longitude': '136.9166'},\n",
    "    # destination={'latitude': '35.091708', 'longitude': '136.916568'},\n",
    "    mode=Mode.TRANSIT,\n",
    "    departure_time='2023-8-30 09:00 +0100'\n",
    "))"
   ]
  },
  {
   "cell_type": "code",
   "execution_count": 12,
   "metadata": {},
   "outputs": [],
   "source": [
    "llm = ChatOpenAI(temperature=0)"
   ]
  },
  {
   "cell_type": "code",
   "execution_count": 13,
   "metadata": {},
   "outputs": [],
   "source": [
    "from langchain.prompts import MessagesPlaceholder\n",
    "from langchain.memory import ConversationBufferMemory\n",
    "agent_kwargs = {\n",
    "    \"extra_prompt_messages\": [MessagesPlaceholder(variable_name=\"memory\")],\n",
    "}\n",
    "memory = ConversationBufferMemory(memory_key=\"memory\", return_messages=True)"
   ]
  },
  {
   "cell_type": "code",
   "execution_count": 14,
   "metadata": {},
   "outputs": [],
   "source": [
    "tools = [\n",
    "    get_current_datetime_tool,\n",
    "    get_current_location_tool,\n",
    "    find_place_tool,\n",
    "    get_direction_tool\n",
    "]\n",
    "agent = initialize_agent(\n",
    "    tools, llm, agent=AgentType.OPENAI_FUNCTIONS,\n",
    "    memory=memory, agent_kwargs=agent_kwargs,\n",
    "    verbose=True\n",
    ")"
   ]
  },
  {
   "cell_type": "code",
   "execution_count": 15,
   "metadata": {},
   "outputs": [
    {
     "name": "stdout",
     "output_type": "stream",
     "text": [
      "\n",
      "\n",
      "\u001b[1m> Entering new AgentExecutor chain...\u001b[0m\n",
      "\u001b[32;1m\u001b[1;3m\n",
      "Invoking: `PlaceSearch` with `Tower of London`\n",
      "\n",
      "\n",
      "\u001b[0m\u001b[38;5;200m\u001b[1;3m[{'address': '4-chōme-23-9 Meieki, Nakamura Ward, Nagoya, Aichi 450-0002, Japan', 'location': {'lat': 35.168371, 'lng': 136.889019}, 'types': ['bar', 'establishment', 'food', 'point_of_interest', 'restaurant']}, {'address': 'London EC3N 4AB, UK', 'location': {'lat': 51.50811239999999, 'lng': -0.0759493}, 'types': ['establishment', 'landmark', 'point_of_interest', 'tourist_attraction']}]\u001b[0m\u001b[32;1m\u001b[1;3mTower of Londonは、イギリスのロンドンにあります。具体的な住所はLondon EC3N 4ABです。\u001b[0m\n",
      "\n",
      "\u001b[1m> Finished chain.\u001b[0m\n"
     ]
    },
    {
     "data": {
      "text/plain": [
       "'Tower of Londonは、イギリスのロンドンにあります。具体的な住所はLondon EC3N 4ABです。'"
      ]
     },
     "execution_count": 15,
     "metadata": {},
     "output_type": "execute_result"
    }
   ],
   "source": [
    "input_text = 'Tower of Londonはどこにありますか？'\n",
    "agent.run(input_text)"
   ]
  },
  {
   "cell_type": "code",
   "execution_count": 16,
   "metadata": {},
   "outputs": [
    {
     "name": "stdout",
     "output_type": "stream",
     "text": [
      "\n",
      "\n",
      "\u001b[1m> Entering new AgentExecutor chain...\u001b[0m\n",
      "\u001b[32;1m\u001b[1;3m\n",
      "Invoking: `PlaceSearch` with `バッキンガム宮殿`\n",
      "\n",
      "\n",
      "\u001b[0m\u001b[38;5;200m\u001b[1;3m[{'address': 'Japan, 〒155-0031 Tokyo, Setagaya City, Kitazawa, 1-chōme−45−１５−バッキンガム 宮殿Suzunari', 'location': {'lat': 35.662442, 'lng': 139.6703417}, 'types': ['bar', 'establishment', 'food', 'point_of_interest', 'restaurant']}]\u001b[0m\u001b[32;1m\u001b[1;3m\n",
      "Invoking: `Directions` with `{'origin': 'バッキンガム宮殿', 'destination': 'Tower of London', 'mode': 'transit'}`\n",
      "\n",
      "\n",
      "\u001b[0mNone\n",
      "\u001b[36;1m\u001b[1;3m[{'arrival_time': '4:34\\u202fAM', 'departure_time': '3:52\\u202fAM', 'distance': '6.4 km', 'duration': '42 mins', 'steps': [{'distance': '1.3 km', 'duration': '17 mins', 'travel_mode': 'WALKING', 'instruction': 'Walk to Piccadilly Circus (Stop F)', 'transit_details': None}, {'distance': '4.8 km', 'duration': '20 mins', 'travel_mode': 'TRANSIT', 'instruction': 'Bus towards Romford', 'transit_details': {'arrival_stop': {'location': {'lat': 51.5096953, 'lng': -0.0757877}, 'name': 'Tower of London (Stop TB)'}, 'departure_stop': {'location': {'lat': 51.5099563, 'lng': -0.1366039}, 'name': 'Piccadilly Circus (Stop F)'}}}, {'distance': '0.4 km', 'duration': '5 mins', 'travel_mode': 'WALKING', 'instruction': 'Walk to London EC3N 4AB, UK', 'transit_details': None}]}]\u001b[0m\u001b[32;1m\u001b[1;3mバッキンガム宮殿からTower of Londonへの行き方は以下の通りです：\n",
      "\n",
      "1. バッキンガム宮殿からピカデリーサーカス（Stop F）まで徒歩で移動します（距離：1.3 km、所要時間：17分）。\n",
      "2. ピカデリーサーカス（Stop F）からロンフォード行きのバスに乗ります（距離：4.8 km、所要時間：20分）。バスの詳細は以下の通りです：\n",
      "   - 出発地：ピカデリーサーカス（Stop F）\n",
      "   - 到着地：Tower of London（Stop TB）\n",
      "3. Tower of London（Stop TB）から目的地のLondon EC3N 4ABまで徒歩で移動します（距離：0.4 km、所要時間：5分）。\n",
      "\n",
      "所要時間は合計で42分です。到着予定時刻は午前4時34分です。\u001b[0m\n",
      "\n",
      "\u001b[1m> Finished chain.\u001b[0m\n"
     ]
    },
    {
     "data": {
      "text/plain": [
       "'バッキンガム宮殿からTower of Londonへの行き方は以下の通りです：\\n\\n1. バッキンガム宮殿からピカデリーサーカス（Stop F）まで徒歩で移動します（距離：1.3 km、所要時間：17分）。\\n2. ピカデリーサーカス（Stop F）からロンフォード行きのバスに乗ります（距離：4.8 km、所要時間：20分）。バスの詳細は以下の通りです：\\n   - 出発地：ピカデリーサーカス（Stop F）\\n   - 到着地：Tower of London（Stop TB）\\n3. Tower of London（Stop TB）から目的地のLondon EC3N 4ABまで徒歩で移動します（距離：0.4 km、所要時間：5分）。\\n\\n所要時間は合計で42分です。到着予定時刻は午前4時34分です。'"
      ]
     },
     "execution_count": 16,
     "metadata": {},
     "output_type": "execute_result"
    }
   ],
   "source": [
    "input_text = 'バッキンガム宮殿からの行き方を教えてください。'\n",
    "# input_text = 'エスターテ南青山から愛知県名古屋市南区港東通１丁目２４まで徒歩何分ですか？'\n",
    "agent.run(input_text)"
   ]
  },
  {
   "cell_type": "code",
   "execution_count": 17,
   "metadata": {},
   "outputs": [
    {
     "name": "stdout",
     "output_type": "stream",
     "text": [
      "\n",
      "\n",
      "\u001b[1m> Entering new AgentExecutor chain...\u001b[0m\n",
      "\u001b[32;1m\u001b[1;3m\n",
      "Invoking: `Directions` with `{'origin': 'Buckingham Palace, London', 'destination': 'Tower of London, London', 'mode': 'transit', 'departure_time': '2022/12/01 09:00 +0000'}`\n",
      "\n",
      "\n",
      "\u001b[0m1669885200\n",
      "\u001b[36;1m\u001b[1;3m[]\u001b[0m\u001b[32;1m\u001b[1;3m申し訳ありませんが、現在の交通情報を取得できません。到着時刻を正確に計算するためには、実際の交通状況を考慮する必要があります。お手数ですが、出発の前日に再度お試しください。\u001b[0m\n",
      "\n",
      "\u001b[1m> Finished chain.\u001b[0m\n"
     ]
    },
    {
     "data": {
      "text/plain": [
       "'申し訳ありませんが、現在の交通情報を取得できません。到着時刻を正確に計算するためには、実際の交通状況を考慮する必要があります。お手数ですが、出発の前日に再度お試しください。'"
      ]
     },
     "execution_count": 17,
     "metadata": {},
     "output_type": "execute_result"
    }
   ],
   "source": [
    "input_text = '明日の朝9時に出発した場合の到着時刻を教えてください。'\n",
    "agent.run(input_text)"
   ]
  },
  {
   "cell_type": "code",
   "execution_count": 18,
   "metadata": {},
   "outputs": [
    {
     "name": "stdout",
     "output_type": "stream",
     "text": [
      "\n",
      "\n",
      "\u001b[1m> Entering new AgentExecutor chain...\u001b[0m\n",
      "\u001b[32;1m\u001b[1;3m\n",
      "Invoking: `get_now` with `{}`\n",
      "\n",
      "\n",
      "\u001b[0m\u001b[36;1m\u001b[1;3m2023-08-30 11:41 +0900\u001b[0m\u001b[32;1m\u001b[1;3m\n",
      "Invoking: `Directions` with `{'origin': 'Buckingham Palace, London', 'destination': 'Tower of London, London EC3N 4AB', 'mode': 'transit', 'departure_time': '2023/08/31 09:00 +0100'}`\n",
      "\n",
      "\n",
      "\u001b[0m1693468800\n",
      "\u001b[36;1m\u001b[1;3m[{'arrival_time': '9:27\\u202fAM', 'departure_time': '9:00\\u202fAM', 'distance': '5.9 km', 'duration': '27 mins', 'steps': [{'distance': '0.7 km', 'duration': '9 mins', 'travel_mode': 'WALKING', 'instruction': \"Walk to St. James' Park\", 'transit_details': None}, {'distance': '4.8 km', 'duration': '13 mins', 'travel_mode': 'TRANSIT', 'instruction': 'Subway towards Barking', 'transit_details': {'arrival_stop': {'location': {'lat': 51.510056, 'lng': -0.076782}, 'name': 'Tower Hill'}, 'departure_stop': {'location': {'lat': 51.499413, 'lng': -0.134587}, 'name': \"St. James' Park\"}}}, {'distance': '0.4 km', 'duration': '5 mins', 'travel_mode': 'WALKING', 'instruction': 'Walk to London EC3N 4AB, UK', 'transit_details': None}]}]\u001b[0m\u001b[32;1m\u001b[1;3m明日の朝9時に出発した場合、Tower of Londonへの到着予定時刻は9時27分です。所要時間は27分で、距離は5.9 kmです。以下は詳細な経路です：\n",
      "\n",
      "1. バッキンガム宮殿からSt. James' Parkまで徒歩で移動します（距離：0.7 km、所要時間：9分）。\n",
      "2. St. James' ParkからBarking行きの地下鉄に乗ります（距離：4.8 km、所要時間：13分）。地下鉄の詳細は以下の通りです：\n",
      "   - 出発地：St. James' Park\n",
      "   - 到着地：Tower Hill\n",
      "3. Tower Hillから目的地のLondon EC3N 4ABまで徒歩で移動します（距離：0.4 km、所要時間：5分）。\n",
      "\n",
      "なお、この到着予定時刻は予測であり、実際の交通状況によって変動する可能性があります。ご参考までにお考えください。\u001b[0m\n",
      "\n",
      "\u001b[1m> Finished chain.\u001b[0m\n"
     ]
    },
    {
     "data": {
      "text/plain": [
       "\"明日の朝9時に出発した場合、Tower of Londonへの到着予定時刻は9時27分です。所要時間は27分で、距離は5.9 kmです。以下は詳細な経路です：\\n\\n1. バッキンガム宮殿からSt. James' Parkまで徒歩で移動します（距離：0.7 km、所要時間：9分）。\\n2. St. James' ParkからBarking行きの地下鉄に乗ります（距離：4.8 km、所要時間：13分）。地下鉄の詳細は以下の通りです：\\n   - 出発地：St. James' Park\\n   - 到着地：Tower Hill\\n3. Tower Hillから目的地のLondon EC3N 4ABまで徒歩で移動します（距離：0.4 km、所要時間：5分）。\\n\\nなお、この到着予定時刻は予測であり、実際の交通状況によって変動する可能性があります。ご参考までにお考えください。\""
      ]
     },
     "execution_count": 18,
     "metadata": {},
     "output_type": "execute_result"
    }
   ],
   "source": [
    "input_text = 'ロンドン時間の明日9時の場合は？'\n",
    "agent.run(input_text)"
   ]
  },
  {
   "cell_type": "code",
   "execution_count": 19,
   "metadata": {},
   "outputs": [
    {
     "name": "stdout",
     "output_type": "stream",
     "text": [
      "{\n",
      "  \"chat_memory\": {\n",
      "    \"messages\": [\n",
      "      {\n",
      "        \"content\": \"Tower of Londonはどこにありますか？\",\n",
      "        \"additional_kwargs\": {},\n",
      "        \"example\": false\n",
      "      },\n",
      "      {\n",
      "        \"content\": \"Tower of Londonは、イギリスのロンドンにあります。具体的な住所はLondon EC3N 4ABです。\",\n",
      "        \"additional_kwargs\": {},\n",
      "        \"example\": false\n",
      "      },\n",
      "      {\n",
      "        \"content\": \"バッキンガム宮殿からの行き方を教えてください。\",\n",
      "        \"additional_kwargs\": {},\n",
      "        \"example\": false\n",
      "      },\n",
      "      {\n",
      "        \"content\": \"バッキンガム宮殿からTower of Londonへの行き方は以下の通りです：\\n\\n1. バッキンガム宮殿からピカデリーサーカス（Stop F）まで徒歩で移動します（距離：1.3 km、所要時間：17分）。\\n2. ピカデリーサーカス（Stop F）からロンフォード行きのバスに乗ります（距離：4.8 km、所要時間：20分）。バスの詳細は以下の通りです：\\n   - 出発地：ピカデリーサーカス（Stop F）\\n   - 到着地：Tower of London（Stop TB）\\n3. Tower of London（Stop TB）から目的地のLondon EC3N 4ABまで徒歩で移動します（距離：0.4 km、所要時間：5分）。\\n\\n所要時間は合計で42分です。到着予定時刻は午前4時34分です。\",\n",
      "        \"additional_kwargs\": {},\n",
      "        \"example\": false\n",
      "      },\n",
      "      {\n",
      "        \"content\": \"明日の朝9時に出発した場合の到着時刻を教えてください。\",\n",
      "        \"additional_kwargs\": {},\n",
      "        \"example\": false\n",
      "      },\n",
      "      {\n",
      "        \"content\": \"申し訳ありませんが、現在の交通情報を取得できません。到着時刻を正確に計算するためには、実際の交通状況を考慮する必要があります。お手数ですが、出発の前日に再度お試しください。\",\n",
      "        \"additional_kwargs\": {},\n",
      "        \"example\": false\n",
      "      },\n",
      "      {\n",
      "        \"content\": \"ロンドン時間の明日9時の場合は？\",\n",
      "        \"additional_kwargs\": {},\n",
      "        \"example\": false\n",
      "      },\n",
      "      {\n",
      "        \"content\": \"明日の朝9時に出発した場合、Tower of Londonへの到着予定時刻は9時27分です。所要時間は27分で、距離は5.9 kmです。以下は詳細な経路です：\\n\\n1. バッキンガム宮殿からSt. James' Parkまで徒歩で移動します（距離：0.7 km、所要時間：9分）。\\n2. St. James' ParkからBarking行きの地下鉄に乗ります（距離：4.8 km、所要時間：13分）。地下鉄の詳細は以下の通りです：\\n   - 出発地：St. James' Park\\n   - 到着地：Tower Hill\\n3. Tower Hillから目的地のLondon EC3N 4ABまで徒歩で移動します（距離：0.4 km、所要時間：5分）。\\n\\nなお、この到着予定時刻は予測であり、実際の交通状況によって変動する可能性があります。ご参考までにお考えください。\",\n",
      "        \"additional_kwargs\": {},\n",
      "        \"example\": false\n",
      "      }\n",
      "    ]\n",
      "  },\n",
      "  \"output_key\": null,\n",
      "  \"input_key\": null,\n",
      "  \"return_messages\": true,\n",
      "  \"human_prefix\": \"Human\",\n",
      "  \"ai_prefix\": \"AI\",\n",
      "  \"memory_key\": \"memory\"\n",
      "}\n"
     ]
    }
   ],
   "source": [
    "print(agent.memory.json(indent=2,ensure_ascii=False))"
   ]
  }
 ],
 "metadata": {
  "kernelspec": {
   "display_name": ".venv",
   "language": "python",
   "name": "python3"
  },
  "language_info": {
   "codemirror_mode": {
    "name": "ipython",
    "version": 3
   },
   "file_extension": ".py",
   "mimetype": "text/x-python",
   "name": "python",
   "nbconvert_exporter": "python",
   "pygments_lexer": "ipython3",
   "version": "3.10.5"
  },
  "orig_nbformat": 4
 },
 "nbformat": 4,
 "nbformat_minor": 2
}

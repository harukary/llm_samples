{
 "cells": [
  {
   "cell_type": "code",
   "execution_count": 2,
   "metadata": {},
   "outputs": [],
   "source": [
    "from dotenv import find_dotenv,load_dotenv; _=load_dotenv(find_dotenv())"
   ]
  },
  {
   "cell_type": "code",
   "execution_count": 3,
   "metadata": {},
   "outputs": [],
   "source": [
    "from typing import Type\n",
    "\n",
    "from langchain.agents import AgentType, initialize_agent\n",
    "from langchain.chat_models import ChatOpenAI\n",
    "from langchain.tools import BaseTool\n",
    "from pydantic import BaseModel, Field\n",
    "\n",
    "\n",
    "class RepeatTextSchema(BaseModel):\n",
    "    text: str = Field(default=\"\", description=\"the text to repeat\")\n",
    "    occurences: int = Field(\n",
    "        default=1, description=\"the number of times the text should be repeated\"\n",
    "    )\n",
    "\n",
    "\n",
    "class RepeatTextTool(BaseTool):\n",
    "    name = \"RepeatText\"\n",
    "    description = \"useful for when you need to repeat text a certain number of times\"\n",
    "    args_schema: Type[RepeatTextSchema] = RepeatTextSchema\n",
    "\n",
    "    def _run(self, text, occurences):\n",
    "        return \" \".join([text] * occurences)\n",
    "\n",
    "    async def _arun(self, text, occurences):\n",
    "        return self._run(text, occurences)\n",
    "\n",
    "\n",
    "llm = ChatOpenAI(temperature=0, streaming=True)\n",
    "tools = [RepeatTextTool()]\n",
    "\n",
    "agent = initialize_agent(\n",
    "    tools=tools,\n",
    "    agent=AgentType.STRUCTURED_CHAT_ZERO_SHOT_REACT_DESCRIPTION,\n",
    "    llm=llm,\n",
    ")"
   ]
  },
  {
   "cell_type": "code",
   "execution_count": 4,
   "metadata": {},
   "outputs": [
    {
     "name": "stdout",
     "output_type": "stream",
     "text": [
      "hello hello hello hello hello\n"
     ]
    }
   ],
   "source": [
    "print(agent.run(\"Repeat this text 5 times: hello\"))"
   ]
  }
 ],
 "metadata": {
  "kernelspec": {
   "display_name": ".venv",
   "language": "python",
   "name": "python3"
  },
  "language_info": {
   "codemirror_mode": {
    "name": "ipython",
    "version": 3
   },
   "file_extension": ".py",
   "mimetype": "text/x-python",
   "name": "python",
   "nbconvert_exporter": "python",
   "pygments_lexer": "ipython3",
   "version": "3.10.1"
  },
  "orig_nbformat": 4
 },
 "nbformat": 4,
 "nbformat_minor": 2
}

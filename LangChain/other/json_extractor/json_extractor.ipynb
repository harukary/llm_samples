{
 "cells": [
  {
   "attachments": {},
   "cell_type": "markdown",
   "metadata": {},
   "source": [
    "### 必要なパッケージをインポート"
   ]
  },
  {
   "attachments": {},
   "cell_type": "markdown",
   "metadata": {},
   "source": [
    "#### .envファイル\n",
    "```yaml\n",
    "OPENAI_API_KEY=sk-************************\n",
    "```"
   ]
  },
  {
   "cell_type": "code",
   "execution_count": 1,
   "metadata": {},
   "outputs": [],
   "source": [
    "import openai,os,requests,json,re\n",
    "from tqdm import tqdm\n",
    "from dotenv import load_dotenv, find_dotenv\n",
    "_ = load_dotenv(find_dotenv())\n",
    "openai.api_key = os.environ['OPENAI_API_KEY']\n",
    "\n",
    "from langchain.prompts import ChatPromptTemplate\n",
    "from langchain.document_loaders import UnstructuredHTMLLoader\n",
    "from langchain.text_splitter import RecursiveCharacterTextSplitter\n",
    "from langchain.chat_models import ChatOpenAI"
   ]
  },
  {
   "attachments": {},
   "cell_type": "markdown",
   "metadata": {},
   "source": [
    "### Prompts"
   ]
  },
  {
   "attachments": {},
   "cell_type": "markdown",
   "metadata": {},
   "source": [
    "LangChainのRefineに倣い、InitialプロンプトとRefineプロンプトを作成した。\\\n",
    "不要な「,」を含んで、json.loads()でパースできない場合があったため、以下を追加した。\\\n",
    "（これでもたまにパースできないJsonを返してくる。。\\\n",
    "LangChainのOutput Parserを使いたいが、リストや入れ子構造があるJsonに対する方法がわからない。\\\n",
    "Pydantic Parserだと、英語で書かないとプロンプトが文字化けする。）\n",
    "\n",
    "```\n",
    "json.loads()関数でパースできるよう、listやdictの最後の要素には「,」を含めないでください。\n",
    "```\n",
    "\n",
    "また、Refineプロンプトでは、必要な場合のみ修正するようにした。\n",
    "ドキュメントの最初に重要な情報が多く、最後に近づくにつれ関連コンテンツなど、メインコンテンツと関係ないものが多くなるという仮定を入れている。\n",
    "\n",
    "```\n",
    "[Text]をもとに、[Data]について新しい情報がある場合のみ[Data]を修正してください。\\\n",
    "[Text]が[Data]に関連した情報を提供しない場合、[Data]をそのまま出力してください。\n",
    "```"
   ]
  },
  {
   "cell_type": "code",
   "execution_count": 2,
   "metadata": {},
   "outputs": [
    {
     "name": "stdout",
     "output_type": "stream",
     "text": [
      "initial: ['output_format', 'text']\n",
      "refine: ['data', 'output_format', 'text']\n"
     ]
    }
   ],
   "source": [
    "initial_str = \"\"\"\\\n",
    "Output Format:\n",
    "```json\n",
    "{output_format}\n",
    "```\n",
    "\n",
    "Input:\n",
    "{text}\n",
    "\n",
    "Instruction:\n",
    "[Input]はあるWebページのテキストの一部です。\\\n",
    "[Output Format]に従って出力してください。\\\n",
    "json.loads()関数でパースできるよう、listやdictの最後の要素には「,」を含めないでください。\\\n",
    "[Input]から読み取れないデータは出力に含めないでください。\n",
    "\"\"\"\n",
    "\n",
    "refine_str = \"\"\"\\\n",
    "Output Format:\n",
    "```json\n",
    "{output_format}\n",
    "```\n",
    "\n",
    "Data:\n",
    "{data}\n",
    "\n",
    "Text:\n",
    "{text}\n",
    "\n",
    "## Instruction\n",
    "あなたのタスクは、最終的なデータを生成することです。\\\n",
    "現時点でのデータは[Data]です。\n",
    "[Text]をもとに、[Data]について新しい情報がある場合のみ[Data]を修正してください。\\\n",
    "[Text]が[Data]に関連した情報を提供しない場合、[Data]をそのまま出力してください。\n",
    "[Output Format]に従って出力してください。\\\n",
    "json.loads()関数でパースできるよう、listやdictの最後の要素には「,」を含めないでください。\n",
    "\"\"\"\n",
    "initial_prompt_template = ChatPromptTemplate.from_template(initial_str)\n",
    "print('initial:',initial_prompt_template.messages[0].prompt.input_variables)\n",
    "refine_prompt_template = ChatPromptTemplate.from_template(refine_str)\n",
    "print('refine:',refine_prompt_template.messages[0].prompt.input_variables)"
   ]
  },
  {
   "attachments": {},
   "cell_type": "markdown",
   "metadata": {},
   "source": [
    "### ヘルパー関数"
   ]
  },
  {
   "attachments": {},
   "cell_type": "markdown",
   "metadata": {},
   "source": [
    "メイン関数で使う関数などを定義した。\n",
    "\n",
    "`chunk_size`などは、現在はえいやで決めている。\\\n",
    "指示プロンプトと出力Jsonフォーマットのトークン数に基づき、トークン数制約ぎりぎりになるように調整することでチャンク数を抑えられるため、\\\n",
    "今後クラス化して使うときに調整機能をつけようと思う。"
   ]
  },
  {
   "cell_type": "code",
   "execution_count": 3,
   "metadata": {},
   "outputs": [],
   "source": [
    "text_splitter = RecursiveCharacterTextSplitter(\n",
    "    chunk_size = 3072,\n",
    "    chunk_overlap  = 512,\n",
    "    length_function = len,\n",
    ")\n",
    "chat = ChatOpenAI(temperature=0.)\n",
    "\n",
    "def load_doc(url):\n",
    "    response = requests.get(url)\n",
    "    with open('temp.html','w') as f:\n",
    "        f.write(response.text)\n",
    "    loader = UnstructuredHTMLLoader(\"temp.html\")\n",
    "    data = loader.load()\n",
    "    return data\n",
    "\n",
    "def extract_json(text,debug=False):\n",
    "    patterns = [\n",
    "        {\"pattern\": r'```json\\n(.*?)```', \"group\": 1},\n",
    "        {\"pattern\": r'\\{.*\\}', \"group\": 0},\n",
    "    ]\n",
    "    for p in patterns:\n",
    "        match = re.search(p[\"pattern\"], text, re.DOTALL)\n",
    "        if match:\n",
    "            json_string = match.group(p[\"group\"])\n",
    "            if debug:\n",
    "                print('json_string:',json_string,sep='\\n')\n",
    "            data_json = json.loads(json_string)\n",
    "            return data_json\n",
    "    print('Error:Could not json extracted:',text)\n",
    "    return {}"
   ]
  },
  {
   "attachments": {},
   "cell_type": "markdown",
   "metadata": {},
   "source": [
    "### メイン関数"
   ]
  },
  {
   "attachments": {},
   "cell_type": "markdown",
   "metadata": {},
   "source": [
    "まずはWebページのテキストをLangChainのドキュメントとし、チャンクに分割する。\\\n",
    "１つ目のチャンクにはInitialプロンプト、２つ目以降の各チャンクにはRefineプロンプトを適用する。\\\n",
    "最後にソースURLをデータに加えて終了。"
   ]
  },
  {
   "cell_type": "code",
   "execution_count": 4,
   "metadata": {},
   "outputs": [],
   "source": [
    "def extact_json_from_url(url,data_format,debug=False):\n",
    "    doc = load_doc(url)\n",
    "    docs = text_splitter.split_documents(doc)\n",
    "    data = {}\n",
    "    for i,doc in enumerate(docs):\n",
    "        text = doc.page_content\n",
    "        if debug:\n",
    "            print(i+1,'-'*30)\n",
    "            print(text.replace('\\n','').replace(' ','')[:100],'...')\n",
    "            print('...',text.replace('\\n','').replace(' ','')[-100:])\n",
    "        if i == 0:\n",
    "            messages = initial_prompt_template.format_messages(\n",
    "                output_format=json.dumps(data_format,indent=2,ensure_ascii=False),\n",
    "                text=text\n",
    "            )\n",
    "            response = chat(messages)\n",
    "            data = extract_json(response.content,debug=debug)\n",
    "        else:\n",
    "            messages = refine_prompt_template.format_messages(\n",
    "                output_format=json.dumps(data_format,indent=2,ensure_ascii=False),\n",
    "                text=text,\n",
    "                data=json.dumps(data,indent=2,ensure_ascii=False)\n",
    "            )\n",
    "            response = chat(messages)\n",
    "            data = extract_json(response.content,debug=debug)\n",
    "        if debug:\n",
    "            print(json.dumps(data,ensure_ascii=False))\n",
    "    data['url'] = url\n",
    "    return data"
   ]
  },
  {
   "attachments": {},
   "cell_type": "markdown",
   "metadata": {},
   "source": [
    "### Example: レシピ"
   ]
  },
  {
   "cell_type": "code",
   "execution_count": 5,
   "metadata": {},
   "outputs": [],
   "source": [
    "recipe_format = {\n",
    "    \"name\": \"レシピ名\",\n",
    "    \"description\": \"レシピの説明\",\n",
    "    \"cooking_time\": \"int: minutes\",\n",
    "    \"appliances\": [\n",
    "        \"str: 調理器具\"\n",
    "    ],\n",
    "    \"serves\": \"int: 人前\",\n",
    "    \"ingredients\": [\n",
    "        {\n",
    "            \"name\": \"str: 材料名\",\n",
    "            \"amount\": \"str: 分量表記\",\n",
    "        }\n",
    "    ],\n",
    "    \"steps\": {\n",
    "        \"str: 手順番号\":\"str: 手順の説明\"\n",
    "    }\n",
    "}"
   ]
  },
  {
   "cell_type": "code",
   "execution_count": 8,
   "metadata": {},
   "outputs": [],
   "source": [
    "doc = load_doc(\"https://www.lettuceclub.net/recipe/dish/14360/\")\n"
   ]
  },
  {
   "cell_type": "code",
   "execution_count": 10,
   "metadata": {},
   "outputs": [
    {
     "data": {
      "text/plain": [
       "'レタスクラブ\\n\\nレシピ\\n\\nカレーおから\\n\\nカレーおから\\n\\n時短でラク\\n\\n275kcal\\n\\n1.5g\\n\\n15min\\n\\n井原裕子さんのレシピ\\n\\nしっとり煮上げるのがおいしさのコツ\\n\\n豚こま切れ肉\\n\\nおから\\n\\nパプリカ\\n\\nピーマン\\n\\n玉ねぎ\\n\\nその他 豆腐料理\\n\\nFacebookでシェアする\\n\\nTwitterでシェアする\\n\\nPinterestでシェアする\\n\\nLINEでシェアする\\n\\n材料コピー\\n\\n人気のその他 豆腐料理レシピを見る →\\n\\n↓材\\u3000料\\n\\n↓作り方\\n\\n材料（２人分）\\n\\n豚こま切れ肉…100g\\n\\nおから…100g\\n\\n赤パプリカ…1/2個\\n\\nピーマン…２個\\n\\n玉ねぎ…1/2個\\n\\n煮汁\\n\\n・トマトケチャップ…大さじ２\\n\\n・カレー粉…大さじ１〜１\\u30001/2\\n\\n・酒…大さじ１\\n\\n・塩…小さじ1/3\\n\\n・水…130ml\\n\\n・サラダ油\\n\\n\\n        \\n            豚こま切れ肉…100g\\n        \\n            \\n\\n作り方\\n\\nパプリカは縦３等分に切り、横半分に切る。ピーマンは縦半分に切り、さらに縦横それぞれ半分に切る。玉ねぎは縦３等分のくし形に切り、横半分に切る。\\n\\nフライパンに油大さじ1/2を熱し、豚肉を炒め、肉の色が変わったらを１加えて炒め合わせる。全体に油がまわったら、煮汁の材料を加えて混ぜ、煮立ったらふたをして弱火で３〜４分煮る。\\n\\nふたを取っておからを加え、全体になじませるように混ぜ合わせたら中火にし、水分をとばしながら約２分炒め煮にする。煮汁が充分に煮立ったところにおからを加え、汁けを吸わせて、しっとり煮上げる。\\n\\n※カロリー・塩分は１人分での表記になります。\\n        \\n        \\n                ※電子レンジを使う場合は500Wのものを基準としています。600Wなら0.8倍、700Wなら0.7倍の時間で加熱してください。また機種によって差がありますので、様子をみながら加熱してください。\\n        \\n              ※レシピ作成・表記の基準等は、「レシピについて」をご覧ください。\\n\\n料理研究家、DELISH KITCHEN副編集長、食生活アドバイザー。アメリカ、イギリスにて過ごした後、料理研究家のアシスタントを勤め独立。季節感を大切にした素材選びと、作りやすいレシピが根強い人気。\\n\\n井原裕子さんのレシピをもっと見る\\n\\n卵・大豆製品\\n                      > 豆腐\\n                      > その他 豆腐料理\\n\\n肉 > 豚肉 > 豚こま切れ肉\\n    \\n                  豆腐･大豆加工品･こんにゃく･おから > 豆腐・豆加工品 > おから\\n    \\n                  野菜 > 野菜その他 > パプリカ\\n\\nエスニック\\n\\n井原裕子\\n\\n石川美香\\n\\nほかのレシピをもっと見る\\n\\n大根 煮物 豚肉\\n\\nオムライス 卵\\n\\nレンジ 卵\\n\\nプルコギ 豚肉\\n\\n小松菜 豆腐\\n\\nズッキーニ 豚肉\\n\\n卵 唐揚げ\\n\\nハンバーグ 卵\\n\\n食材の扱い方・ポイント\\n\\nピーマンはトウガラシの一種で、辛みのない甘味種。一般的な緑色のピーマンは若いうちに穫るも…\\n\\nピーマン・パプリカの食材事典を見る\\n\\n生で、炒めて、煮て、揚げて、焼いてと、いろいろに調理され、和・洋・中、いずれの料理でも使…\\n\\n玉ねぎの食材事典を見る\\n\\n野生のイノシシが家畜化された動物、豚。豚肉は、部位ごとに切り分けられ流通しています。主な…\\n\\n豚肉の食材事典を見る\\n\\nカレーおからを使った献立アイデア\\n\\n副菜\\n                      \\n                    \\n                    \\n            \\n                      #ダイエット\\n            \\n                      ねぎとチーズ巻き\\n                \\n                      \\n                          主な食材：\\n                    \\n                          セロリ\\n                    \\n                           / クリームチーズ\\n\\n汁もの\\n                      \\n                    \\n                    \\n            \\n                      #ダイエット\\n            \\n                      しめじとほうれん草のすまし汁\\n                \\n                      \\n                          主な食材：\\n                    \\n                          しめじ\\n                    \\n                           / ほうれん草\\n\\nこの献立の作り方を見る\\n\\nおすすめ読みもの(PR)\\n\\nその他 豆腐料理のレシピ\\n\\n豆腐とふ～んわり卵のバタポン炒め\\n\\n豆腐とアスパラガスのとろとろ卵丼\\n\\nにんじんと切り干し大根の白あえ\\n\\n豆腐とわかめのスープ\\n\\nさばと豆腐のふんわりつくね\\n\\n豆腐の水切り\\n\\n豆腐といんげんの塩チャンプルー\\n\\nくずし豆腐と鮭のしょうゆドレッシングぶっかけご飯\\n\\nその他 豆腐料理のレシピをもっと見る\\n\\n豚こま切れ肉を使ったレシピ\\n\\n簡単回鍋肉\\n\\n豚丼\\n\\nチンゲン菜入り麻婆豆腐\\n\\n豚とえびのシューマイ\\n\\n粗びきミートソーススパゲッティ\\n\\n豚こまの油淋豚（ユーリントン）\\n\\n豚こまのから揚げ\\n\\nパプリカ×豚こま切れ肉かき揚げ\\n\\n豚こま切れ肉のレシピをもっと見る\\n\\n急上昇レシピランキング\\n\\n1\\n                \\n                \\n                  \\n                \\n                \\n                  豚バラとキャベツのみそ炒め\\n    \\n                  主な食材：\\n        \\n            ピーマン / 豚バラ薄切り肉\\n\\n2\\n                \\n                \\n                  \\n                \\n                \\n                  青じそのしょうゆ漬け【by コウケンテツさん】\\n    \\n                  主な食材：\\n        \\n            青じそ / 赤とうがらし\\n\\n3\\n                \\n                \\n                  \\n                \\n                \\n                  じゃがいものレンジ蒸し\\n    \\n                  主な食材：\\n        \\n            じゃがいも\\n\\n4\\n                \\n                \\n                  \\n                \\n                \\n                  ピーマンの肉詰め焼き\\n    \\n                  主な食材：\\n        \\n            ピーマン / 玉ねぎのみじん切り\\n\\n5\\n                \\n                \\n                  \\n                \\n                \\n                  いももち\\n    \\n                  主な食材：\\n        \\n            牛乳 / じゃがいも\\n\\nすべての人気レシピランキングを見る\\n\\n旬の食材\\n\\n絹さや\\n\\nスナップえんどう\\n\\nズッキーニ\\n\\nあじ\\n\\nパイナップル\\n\\nゴーヤー\\n\\n青じそ\\n\\nじゃがいも\\n\\n食材一覧\\n\\n定番メニュー\\n\\n豚しゃぶ・冷しゃぶ\\n\\nきゅうりの酢の物\\n\\nおにぎり弁当\\n\\nサンドイッチ\\n\\nチキンソテー\\n\\n冷やっこ・温やっこ\\n\\n麻婆豆腐\\n\\nオムレツ\\n\\n料理カテゴリをもっと見る\\n\\nおすすめレシピ\\n\\nバレンタイン\\n\\nひな祭り\\n\\n行楽\\n\\nキャベツ\\n\\nとり肉\\n\\n大根\\n\\n魚介の缶詰\\n\\n麺\\n\\n卵\\n\\n保存食・作り置き\\n\\nグラタン\\n\\n注目#Keywords\\n\\nじゃがいも\\n\\nズッキーニ\\n\\nとりむね肉\\n\\nキャベツ\\n\\n玉ねぎ\\n\\nとうもろこし\\n\\nとり手羽元\\n\\n豚肩ロースかたまり肉\\n\\n豚しゃぶしゃぶ用肉\\n\\n豚ヒレ肉(かたまり)\\n\\n豚しょうが焼き用肉\\n\\n豚バラ薄切り肉\\n\\n豚ロース薄切り肉\\n\\nきゅうり\\n\\n条件を細かく指定する\\n\\nラクレシピならレタスクラブ\\n\\n今日の夕飯のおかず&献立を探すならレタスクラブで！基本の定番料理から人気料理まで、日々のへとへとから解放されるプロ監修の簡単レシピ33127品をご紹介！'"
      ]
     },
     "execution_count": 10,
     "metadata": {},
     "output_type": "execute_result"
    }
   ],
   "source": [
    "doc[0].page_content"
   ]
  },
  {
   "cell_type": "code",
   "execution_count": 6,
   "metadata": {},
   "outputs": [
    {
     "name": "stdout",
     "output_type": "stream",
     "text": [
      "{\n",
      "  \"name\": \"豚こま切れ肉のレシピをもっと見る\",\n",
      "  \"description\": \"\",\n",
      "  \"cooking_time\": 0,\n",
      "  \"appliances\": [],\n",
      "  \"serves\": 0,\n",
      "  \"ingredients\": [],\n",
      "  \"steps\": {},\n",
      "  \"url\": \"https://www.lettuceclub.net/recipe/dish/14360/\"\n",
      "}\n"
     ]
    }
   ],
   "source": [
    "url = \"https://www.lettuceclub.net/recipe/dish/14360/\"\n",
    "data = extact_json_from_url(url,recipe_format)\n",
    "print(json.dumps(data,indent=2,ensure_ascii=False))"
   ]
  },
  {
   "attachments": {},
   "cell_type": "markdown",
   "metadata": {},
   "source": [
    "### Example: イベント"
   ]
  },
  {
   "cell_type": "code",
   "execution_count": 7,
   "metadata": {},
   "outputs": [],
   "source": [
    "event_format = {\n",
    "    'title': 'str: イベント名',\n",
    "    'organizer': 'str: 主催者',\n",
    "    'date': ['str: 日付。形式はYYYY/MM/DD'],\n",
    "    'location': 'str: 開催場所',\n",
    "    'description': 'str: イベント概要。400字以内',\n",
    "    'schedule': ['str: スケジュール。形式はYYYY/MM/DD HH:MM~HH:MM（補足）'],\n",
    "}"
   ]
  },
  {
   "cell_type": "code",
   "execution_count": 8,
   "metadata": {},
   "outputs": [
    {
     "name": "stdout",
     "output_type": "stream",
     "text": [
      "{\n",
      "  \"title\": \"オアシス２１iセンター体験イベント＜有松・鳴海絞り染め＞\",\n",
      "  \"organizer\": \"オアシス２１iセンター\",\n",
      "  \"date\": [\n",
      "    \"2023/06/12\"\n",
      "  ],\n",
      "  \"location\": \"オアシス２１iセンター前（オアシス２１地下1階）\",\n",
      "  \"description\": \"名古屋の伝統産業「有松・鳴海絞り染め」の体験イベント。小さなお子様も参加可能。英語対応も可能。\",\n",
      "  \"schedule\": [\n",
      "    \"2023/06/12 00:00~00:30\"\n",
      "  ],\n",
      "  \"url\": \"https://www.nagoya-info.jp/event/detail/404/\"\n",
      "}\n"
     ]
    }
   ],
   "source": [
    "url = \"https://www.nagoya-info.jp/event/detail/404/\"\n",
    "data = extact_json_from_url(url,event_format,debug=False)\n",
    "print(json.dumps(data,indent=2,ensure_ascii=False))"
   ]
  }
 ],
 "metadata": {
  "kernelspec": {
   "display_name": ".venv",
   "language": "python",
   "name": "python3"
  },
  "language_info": {
   "codemirror_mode": {
    "name": "ipython",
    "version": 3
   },
   "file_extension": ".py",
   "mimetype": "text/x-python",
   "name": "python",
   "nbconvert_exporter": "python",
   "pygments_lexer": "ipython3",
   "version": "3.10.1"
  },
  "orig_nbformat": 4
 },
 "nbformat": 4,
 "nbformat_minor": 2
}

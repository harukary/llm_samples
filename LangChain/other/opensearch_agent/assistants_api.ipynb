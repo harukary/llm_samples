{
 "cells": [
  {
   "cell_type": "code",
   "execution_count": 3,
   "metadata": {},
   "outputs": [],
   "source": [
    "import json\n",
    "from opensearchpy import OpenSearch\n",
    "\n",
    "client = OpenSearch(hosts=['localhost:9200'])\n",
    "client.info()\n",
    "\n",
    "INDEX = 'epicurious-recipes'"
   ]
  },
  {
   "cell_type": "code",
   "execution_count": 22,
   "metadata": {},
   "outputs": [],
   "source": [
    "query_text = \\\n",
    "    \"{\\\"size\\\":0,\\\"query\\\":{\\\"range\\\":{\\\"calories\\\":{\\\"lte\\\":100}}},\\\"aggs\\\":{\\\"total_recipes\\\":{\\\"value_count\\\":{\\\"field\\\":\\\"calories\\\"}}}}\""
   ]
  },
  {
   "cell_type": "code",
   "execution_count": 23,
   "metadata": {},
   "outputs": [],
   "source": [
    "res = client.search(body=json.loads(query_text),index=INDEX)"
   ]
  },
  {
   "cell_type": "code",
   "execution_count": 24,
   "metadata": {},
   "outputs": [
    {
     "name": "stdout",
     "output_type": "stream",
     "text": [
      "{'took': 11, 'timed_out': False, '_shards': {'total': 1, 'successful': 1, 'skipped': 0, 'failed': 0}, 'hits': {'total': {'value': 1469, 'relation': 'eq'}, 'max_score': None, 'hits': []}, 'aggregations': {'total_recipes': {'value': 1469}}}\n"
     ]
    }
   ],
   "source": [
    "print(res)"
   ]
  }
 ],
 "metadata": {
  "kernelspec": {
   "display_name": ".venv",
   "language": "python",
   "name": "python3"
  },
  "language_info": {
   "codemirror_mode": {
    "name": "ipython",
    "version": 3
   },
   "file_extension": ".py",
   "mimetype": "text/x-python",
   "name": "python",
   "nbconvert_exporter": "python",
   "pygments_lexer": "ipython3",
   "version": "3.10.13"
  }
 },
 "nbformat": 4,
 "nbformat_minor": 2
}

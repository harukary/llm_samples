{
 "cells": [
  {
   "cell_type": "code",
   "execution_count": 1,
   "metadata": {},
   "outputs": [],
   "source": [
    "from opensearch_codeinterpreter import OpenSearchCodeInterpreter\n",
    "from dotenv import find_dotenv,load_dotenv\n",
    "load_dotenv(find_dotenv())\n",
    "import os"
   ]
  },
  {
   "cell_type": "code",
   "execution_count": 2,
   "metadata": {},
   "outputs": [],
   "source": [
    "osci = OpenSearchCodeInterpreter(os.environ['OS_ENDPOINT'],os.environ['OS_INDEX'])"
   ]
  },
  {
   "cell_type": "code",
   "execution_count": 4,
   "metadata": {},
   "outputs": [
    {
     "name": "stderr",
     "output_type": "stream",
     "text": [
      "Unclosed client session\n",
      "client_session: <aiohttp.client.ClientSession object at 0x7fb775721450>\n",
      "Unclosed client session\n",
      "client_session: <aiohttp.client.ClientSession object at 0x7fb76cbb8220>\n",
      "Unclosed client session\n",
      "client_session: <aiohttp.client.ClientSession object at 0x7fb7c4ec3a00>\n",
      "Unclosed client session\n",
      "client_session: <aiohttp.client.ClientSession object at 0x7fb76caef3d0>\n"
     ]
    },
    {
     "ename": "RuntimeError",
     "evalue": "Could not connect to kernel",
     "output_type": "error",
     "traceback": [
      "\u001b[0;31m---------------------------------------------------------------------------\u001b[0m",
      "\u001b[0;31mPayloadTooBig\u001b[0m                             Traceback (most recent call last)",
      "File \u001b[0;32m~/kitchen_ws/Learn_OpenAI_APIs/.venv/lib/python3.10/site-packages/websockets/legacy/protocol.py:959\u001b[0m, in \u001b[0;36mWebSocketCommonProtocol.transfer_data\u001b[0;34m(self)\u001b[0m\n\u001b[1;32m    958\u001b[0m \u001b[39mwhile\u001b[39;00m \u001b[39mTrue\u001b[39;00m:\n\u001b[0;32m--> 959\u001b[0m     message \u001b[39m=\u001b[39m \u001b[39mawait\u001b[39;00m \u001b[39mself\u001b[39m\u001b[39m.\u001b[39mread_message()\n\u001b[1;32m    961\u001b[0m     \u001b[39m# Exit the loop when receiving a close frame.\u001b[39;00m\n",
      "File \u001b[0;32m~/kitchen_ws/Learn_OpenAI_APIs/.venv/lib/python3.10/site-packages/websockets/legacy/protocol.py:1029\u001b[0m, in \u001b[0;36mWebSocketCommonProtocol.read_message\u001b[0;34m(self)\u001b[0m\n\u001b[1;32m   1021\u001b[0m \u001b[39m\u001b[39m\u001b[39m\"\"\"\u001b[39;00m\n\u001b[1;32m   1022\u001b[0m \u001b[39mRead a single message from the connection.\u001b[39;00m\n\u001b[1;32m   1023\u001b[0m \n\u001b[0;32m   (...)\u001b[0m\n\u001b[1;32m   1027\u001b[0m \n\u001b[1;32m   1028\u001b[0m \u001b[39m\"\"\"\u001b[39;00m\n\u001b[0;32m-> 1029\u001b[0m frame \u001b[39m=\u001b[39m \u001b[39mawait\u001b[39;00m \u001b[39mself\u001b[39m\u001b[39m.\u001b[39mread_data_frame(max_size\u001b[39m=\u001b[39m\u001b[39mself\u001b[39m\u001b[39m.\u001b[39mmax_size)\n\u001b[1;32m   1031\u001b[0m \u001b[39m# A close frame was received.\u001b[39;00m\n",
      "File \u001b[0;32m~/kitchen_ws/Learn_OpenAI_APIs/.venv/lib/python3.10/site-packages/websockets/legacy/protocol.py:1104\u001b[0m, in \u001b[0;36mWebSocketCommonProtocol.read_data_frame\u001b[0;34m(self, max_size)\u001b[0m\n\u001b[1;32m   1103\u001b[0m \u001b[39mwhile\u001b[39;00m \u001b[39mTrue\u001b[39;00m:\n\u001b[0;32m-> 1104\u001b[0m     frame \u001b[39m=\u001b[39m \u001b[39mawait\u001b[39;00m \u001b[39mself\u001b[39m\u001b[39m.\u001b[39mread_frame(max_size)\n\u001b[1;32m   1106\u001b[0m     \u001b[39m# 5.5. Control Frames\u001b[39;00m\n",
      "File \u001b[0;32m~/kitchen_ws/Learn_OpenAI_APIs/.venv/lib/python3.10/site-packages/websockets/legacy/protocol.py:1161\u001b[0m, in \u001b[0;36mWebSocketCommonProtocol.read_frame\u001b[0;34m(self, max_size)\u001b[0m\n\u001b[1;32m   1157\u001b[0m \u001b[39m\u001b[39m\u001b[39m\"\"\"\u001b[39;00m\n\u001b[1;32m   1158\u001b[0m \u001b[39mRead a single frame from the connection.\u001b[39;00m\n\u001b[1;32m   1159\u001b[0m \n\u001b[1;32m   1160\u001b[0m \u001b[39m\"\"\"\u001b[39;00m\n\u001b[0;32m-> 1161\u001b[0m frame \u001b[39m=\u001b[39m \u001b[39mawait\u001b[39;00m Frame\u001b[39m.\u001b[39mread(\n\u001b[1;32m   1162\u001b[0m     \u001b[39mself\u001b[39m\u001b[39m.\u001b[39mreader\u001b[39m.\u001b[39mreadexactly,\n\u001b[1;32m   1163\u001b[0m     mask\u001b[39m=\u001b[39m\u001b[39mnot\u001b[39;00m \u001b[39mself\u001b[39m\u001b[39m.\u001b[39mis_client,\n\u001b[1;32m   1164\u001b[0m     max_size\u001b[39m=\u001b[39mmax_size,\n\u001b[1;32m   1165\u001b[0m     extensions\u001b[39m=\u001b[39m\u001b[39mself\u001b[39m\u001b[39m.\u001b[39mextensions,\n\u001b[1;32m   1166\u001b[0m )\n\u001b[1;32m   1167\u001b[0m \u001b[39mif\u001b[39;00m \u001b[39mself\u001b[39m\u001b[39m.\u001b[39mdebug:\n",
      "File \u001b[0;32m~/kitchen_ws/Learn_OpenAI_APIs/.venv/lib/python3.10/site-packages/websockets/legacy/framing.py:93\u001b[0m, in \u001b[0;36mFrame.read\u001b[0;34m(cls, reader, mask, max_size, extensions)\u001b[0m\n\u001b[1;32m     92\u001b[0m \u001b[39mif\u001b[39;00m max_size \u001b[39mis\u001b[39;00m \u001b[39mnot\u001b[39;00m \u001b[39mNone\u001b[39;00m \u001b[39mand\u001b[39;00m length \u001b[39m>\u001b[39m max_size:\n\u001b[0;32m---> 93\u001b[0m     \u001b[39mraise\u001b[39;00m PayloadTooBig(\u001b[39mf\u001b[39m\u001b[39m\"\u001b[39m\u001b[39mover size limit (\u001b[39m\u001b[39m{\u001b[39;00mlength\u001b[39m}\u001b[39;00m\u001b[39m > \u001b[39m\u001b[39m{\u001b[39;00mmax_size\u001b[39m}\u001b[39;00m\u001b[39m bytes)\u001b[39m\u001b[39m\"\u001b[39m)\n\u001b[1;32m     94\u001b[0m \u001b[39mif\u001b[39;00m mask:\n",
      "\u001b[0;31mPayloadTooBig\u001b[0m: over size limit (1952807 > 1048576 bytes)",
      "\nThe above exception was the direct cause of the following exception:\n",
      "\u001b[0;31mConnectionClosedError\u001b[0m                     Traceback (most recent call last)",
      "File \u001b[0;32m~/kitchen_ws/Learn_OpenAI_APIs/.venv/lib/python3.10/site-packages/codeboxapi/box/localbox.py:313\u001b[0m, in \u001b[0;36mLocalBox.arun\u001b[0;34m(self, code, retry)\u001b[0m\n\u001b[1;32m    312\u001b[0m \u001b[39mtry\u001b[39;00m:\n\u001b[0;32m--> 313\u001b[0m     received_msg \u001b[39m=\u001b[39m json\u001b[39m.\u001b[39mloads(\u001b[39mawait\u001b[39;00m \u001b[39mself\u001b[39m\u001b[39m.\u001b[39mws\u001b[39m.\u001b[39mrecv())\n\u001b[1;32m    314\u001b[0m \u001b[39mexcept\u001b[39;00m ConnectionClosedError:\n",
      "File \u001b[0;32m~/kitchen_ws/Learn_OpenAI_APIs/.venv/lib/python3.10/site-packages/websockets/legacy/protocol.py:568\u001b[0m, in \u001b[0;36mWebSocketCommonProtocol.recv\u001b[0;34m(self)\u001b[0m\n\u001b[1;32m    565\u001b[0m         \u001b[39melse\u001b[39;00m:\n\u001b[1;32m    566\u001b[0m             \u001b[39m# Wait until the connection is closed to raise\u001b[39;00m\n\u001b[1;32m    567\u001b[0m             \u001b[39m# ConnectionClosed with the correct code and reason.\u001b[39;00m\n\u001b[0;32m--> 568\u001b[0m             \u001b[39mawait\u001b[39;00m \u001b[39mself\u001b[39m\u001b[39m.\u001b[39mensure_open()\n\u001b[1;32m    570\u001b[0m \u001b[39m# Pop a message from the queue.\u001b[39;00m\n",
      "File \u001b[0;32m~/kitchen_ws/Learn_OpenAI_APIs/.venv/lib/python3.10/site-packages/websockets/legacy/protocol.py:944\u001b[0m, in \u001b[0;36mWebSocketCommonProtocol.ensure_open\u001b[0;34m(self)\u001b[0m\n\u001b[1;32m    943\u001b[0m     \u001b[39mawait\u001b[39;00m asyncio\u001b[39m.\u001b[39mshield(\u001b[39mself\u001b[39m\u001b[39m.\u001b[39mclose_connection_task)\n\u001b[0;32m--> 944\u001b[0m     \u001b[39mraise\u001b[39;00m \u001b[39mself\u001b[39m\u001b[39m.\u001b[39mconnection_closed_exc()\n\u001b[1;32m    946\u001b[0m \u001b[39m# Control may only reach this point in buggy third-party subclasses.\u001b[39;00m\n",
      "\u001b[0;31mConnectionClosedError\u001b[0m: sent 1009 (message too big); no close frame received",
      "\nDuring handling of the above exception, another exception occurred:\n",
      "\u001b[0;31mRuntimeError\u001b[0m                              Traceback (most recent call last)",
      "Cell \u001b[0;32mIn[4], line 2\u001b[0m\n\u001b[1;32m      1\u001b[0m text \u001b[39m=\u001b[39m \u001b[39m'\u001b[39m\u001b[39mカテゴリーの種類を全てリストアップしてください。\u001b[39m\u001b[39m'\u001b[39m\n\u001b[0;32m----> 2\u001b[0m outputs \u001b[39m=\u001b[39m \u001b[39mawait\u001b[39;00m osci\u001b[39m.\u001b[39mgenerate(text)\n",
      "File \u001b[0;32m~/kitchen_ws/Learn_OpenAI_APIs/mini_project/opensearch_agent/opensearch_codeinterpreter.py:83\u001b[0m, in \u001b[0;36mOpenSearchCodeInterpreter.generate\u001b[0;34m(self, text, top_k)\u001b[0m\n\u001b[1;32m     81\u001b[0m code \u001b[39m=\u001b[39m \u001b[39mf\u001b[39m\u001b[39m'\u001b[39m\u001b[39mresult = \u001b[39m\u001b[39m{\u001b[39;00mjson\u001b[39m.\u001b[39mdumps(result)\u001b[39m.\u001b[39mreplace(\u001b[39m\"\u001b[39m\u001b[39mfalse\u001b[39m\u001b[39m\"\u001b[39m,\u001b[39m\"\u001b[39m\u001b[39mFalse\u001b[39m\u001b[39m\"\u001b[39m)\u001b[39m.\u001b[39mreplace(\u001b[39m\"\u001b[39m\u001b[39mnull\u001b[39m\u001b[39m\"\u001b[39m,\u001b[39m\"\u001b[39m\u001b[39mNone\u001b[39m\u001b[39m\"\u001b[39m)\u001b[39m}\u001b[39;00m\u001b[39m\\n\u001b[39;00m\u001b[39m\\n\u001b[39;00m\u001b[39m'\u001b[39m\u001b[39m+\u001b[39m\u001b[39mself\u001b[39m\u001b[39m.\u001b[39mresponse\u001b[39m.\u001b[39mcontent\n\u001b[1;32m     82\u001b[0m \u001b[39mawait\u001b[39;00m \u001b[39mself\u001b[39m\u001b[39m.\u001b[39mcodebox\u001b[39m.\u001b[39mastart()\n\u001b[0;32m---> 83\u001b[0m output: CodeBoxOutput \u001b[39m=\u001b[39m \u001b[39mawait\u001b[39;00m \u001b[39mself\u001b[39m\u001b[39m.\u001b[39mcodebox\u001b[39m.\u001b[39marun(code)\n\u001b[1;32m     84\u001b[0m \u001b[39mself\u001b[39m\u001b[39m.\u001b[39moutput_files \u001b[39m=\u001b[39m []\n\u001b[1;32m     85\u001b[0m \u001b[39mprint\u001b[39m(output\u001b[39m.\u001b[39mcontent)\n",
      "File \u001b[0;32m~/kitchen_ws/Learn_OpenAI_APIs/.venv/lib/python3.10/site-packages/codeboxapi/box/localbox.py:316\u001b[0m, in \u001b[0;36mLocalBox.arun\u001b[0;34m(self, code, retry)\u001b[0m\n\u001b[1;32m    314\u001b[0m \u001b[39mexcept\u001b[39;00m ConnectionClosedError:\n\u001b[1;32m    315\u001b[0m     \u001b[39mawait\u001b[39;00m \u001b[39mself\u001b[39m\u001b[39m.\u001b[39mastart()\n\u001b[0;32m--> 316\u001b[0m     \u001b[39mreturn\u001b[39;00m \u001b[39mawait\u001b[39;00m \u001b[39mself\u001b[39m\u001b[39m.\u001b[39marun(code, retry\u001b[39m-\u001b[39m\u001b[39m1\u001b[39m)\n\u001b[1;32m    318\u001b[0m \u001b[39mif\u001b[39;00m (\n\u001b[1;32m    319\u001b[0m     received_msg[\u001b[39m\"\u001b[39m\u001b[39mheader\u001b[39m\u001b[39m\"\u001b[39m][\u001b[39m\"\u001b[39m\u001b[39mmsg_type\u001b[39m\u001b[39m\"\u001b[39m] \u001b[39m==\u001b[39m \u001b[39m\"\u001b[39m\u001b[39mstream\u001b[39m\u001b[39m\"\u001b[39m\n\u001b[1;32m    320\u001b[0m     \u001b[39mand\u001b[39;00m received_msg[\u001b[39m\"\u001b[39m\u001b[39mparent_header\u001b[39m\u001b[39m\"\u001b[39m][\u001b[39m\"\u001b[39m\u001b[39mmsg_id\u001b[39m\u001b[39m\"\u001b[39m] \u001b[39m==\u001b[39m msg_id\n\u001b[1;32m    321\u001b[0m ):\n\u001b[1;32m    322\u001b[0m     msg \u001b[39m=\u001b[39m received_msg[\u001b[39m\"\u001b[39m\u001b[39mcontent\u001b[39m\u001b[39m\"\u001b[39m][\u001b[39m\"\u001b[39m\u001b[39mtext\u001b[39m\u001b[39m\"\u001b[39m]\u001b[39m.\u001b[39mstrip()\n",
      "File \u001b[0;32m~/kitchen_ws/Learn_OpenAI_APIs/.venv/lib/python3.10/site-packages/codeboxapi/box/localbox.py:316\u001b[0m, in \u001b[0;36mLocalBox.arun\u001b[0;34m(self, code, retry)\u001b[0m\n\u001b[1;32m    314\u001b[0m \u001b[39mexcept\u001b[39;00m ConnectionClosedError:\n\u001b[1;32m    315\u001b[0m     \u001b[39mawait\u001b[39;00m \u001b[39mself\u001b[39m\u001b[39m.\u001b[39mastart()\n\u001b[0;32m--> 316\u001b[0m     \u001b[39mreturn\u001b[39;00m \u001b[39mawait\u001b[39;00m \u001b[39mself\u001b[39m\u001b[39m.\u001b[39marun(code, retry\u001b[39m-\u001b[39m\u001b[39m1\u001b[39m)\n\u001b[1;32m    318\u001b[0m \u001b[39mif\u001b[39;00m (\n\u001b[1;32m    319\u001b[0m     received_msg[\u001b[39m\"\u001b[39m\u001b[39mheader\u001b[39m\u001b[39m\"\u001b[39m][\u001b[39m\"\u001b[39m\u001b[39mmsg_type\u001b[39m\u001b[39m\"\u001b[39m] \u001b[39m==\u001b[39m \u001b[39m\"\u001b[39m\u001b[39mstream\u001b[39m\u001b[39m\"\u001b[39m\n\u001b[1;32m    320\u001b[0m     \u001b[39mand\u001b[39;00m received_msg[\u001b[39m\"\u001b[39m\u001b[39mparent_header\u001b[39m\u001b[39m\"\u001b[39m][\u001b[39m\"\u001b[39m\u001b[39mmsg_id\u001b[39m\u001b[39m\"\u001b[39m] \u001b[39m==\u001b[39m msg_id\n\u001b[1;32m    321\u001b[0m ):\n\u001b[1;32m    322\u001b[0m     msg \u001b[39m=\u001b[39m received_msg[\u001b[39m\"\u001b[39m\u001b[39mcontent\u001b[39m\u001b[39m\"\u001b[39m][\u001b[39m\"\u001b[39m\u001b[39mtext\u001b[39m\u001b[39m\"\u001b[39m]\u001b[39m.\u001b[39mstrip()\n",
      "File \u001b[0;32m~/kitchen_ws/Learn_OpenAI_APIs/.venv/lib/python3.10/site-packages/codeboxapi/box/localbox.py:316\u001b[0m, in \u001b[0;36mLocalBox.arun\u001b[0;34m(self, code, retry)\u001b[0m\n\u001b[1;32m    314\u001b[0m \u001b[39mexcept\u001b[39;00m ConnectionClosedError:\n\u001b[1;32m    315\u001b[0m     \u001b[39mawait\u001b[39;00m \u001b[39mself\u001b[39m\u001b[39m.\u001b[39mastart()\n\u001b[0;32m--> 316\u001b[0m     \u001b[39mreturn\u001b[39;00m \u001b[39mawait\u001b[39;00m \u001b[39mself\u001b[39m\u001b[39m.\u001b[39marun(code, retry\u001b[39m-\u001b[39m\u001b[39m1\u001b[39m)\n\u001b[1;32m    318\u001b[0m \u001b[39mif\u001b[39;00m (\n\u001b[1;32m    319\u001b[0m     received_msg[\u001b[39m\"\u001b[39m\u001b[39mheader\u001b[39m\u001b[39m\"\u001b[39m][\u001b[39m\"\u001b[39m\u001b[39mmsg_type\u001b[39m\u001b[39m\"\u001b[39m] \u001b[39m==\u001b[39m \u001b[39m\"\u001b[39m\u001b[39mstream\u001b[39m\u001b[39m\"\u001b[39m\n\u001b[1;32m    320\u001b[0m     \u001b[39mand\u001b[39;00m received_msg[\u001b[39m\"\u001b[39m\u001b[39mparent_header\u001b[39m\u001b[39m\"\u001b[39m][\u001b[39m\"\u001b[39m\u001b[39mmsg_id\u001b[39m\u001b[39m\"\u001b[39m] \u001b[39m==\u001b[39m msg_id\n\u001b[1;32m    321\u001b[0m ):\n\u001b[1;32m    322\u001b[0m     msg \u001b[39m=\u001b[39m received_msg[\u001b[39m\"\u001b[39m\u001b[39mcontent\u001b[39m\u001b[39m\"\u001b[39m][\u001b[39m\"\u001b[39m\u001b[39mtext\u001b[39m\u001b[39m\"\u001b[39m]\u001b[39m.\u001b[39mstrip()\n",
      "File \u001b[0;32m~/kitchen_ws/Learn_OpenAI_APIs/.venv/lib/python3.10/site-packages/codeboxapi/box/localbox.py:277\u001b[0m, in \u001b[0;36mLocalBox.arun\u001b[0;34m(self, code, retry)\u001b[0m\n\u001b[1;32m    274\u001b[0m \u001b[39masync\u001b[39;00m \u001b[39mdef\u001b[39;00m \u001b[39marun\u001b[39m(\u001b[39mself\u001b[39m, code: \u001b[39mstr\u001b[39m, retry\u001b[39m=\u001b[39m\u001b[39m3\u001b[39m) \u001b[39m-\u001b[39m\u001b[39m>\u001b[39m CodeBoxOutput:\n\u001b[1;32m    275\u001b[0m     \u001b[39m# run code in jupyter kernel\u001b[39;00m\n\u001b[1;32m    276\u001b[0m     \u001b[39mif\u001b[39;00m retry \u001b[39m<\u001b[39m\u001b[39m=\u001b[39m \u001b[39m0\u001b[39m: \n\u001b[0;32m--> 277\u001b[0m         \u001b[39mraise\u001b[39;00m \u001b[39mRuntimeError\u001b[39;00m(\u001b[39m\"\u001b[39m\u001b[39mCould not connect to kernel\u001b[39m\u001b[39m\"\u001b[39m)\n\u001b[1;32m    278\u001b[0m     \u001b[39mif\u001b[39;00m \u001b[39mnot\u001b[39;00m \u001b[39mself\u001b[39m\u001b[39m.\u001b[39mws: \n\u001b[1;32m    279\u001b[0m         \u001b[39mawait\u001b[39;00m \u001b[39mself\u001b[39m\u001b[39m.\u001b[39mastart()\n",
      "\u001b[0;31mRuntimeError\u001b[0m: Could not connect to kernel"
     ]
    }
   ],
   "source": [
    "text = 'カテゴリーの種類を全てリストアップしてください。'\n",
    "outputs = await osci.generate(text)"
   ]
  },
  {
   "cell_type": "code",
   "execution_count": 4,
   "metadata": {},
   "outputs": [
    {
     "name": "stdout",
     "output_type": "stream",
     "text": [
      "{'size': 1000, 'query': {'match_all': {}}, 'aggs': {'category_types': {'terms': {'field': 'categories.keyword', 'size': 1000}}}}\n"
     ]
    }
   ],
   "source": [
    "print(osci.query)"
   ]
  },
  {
   "cell_type": "code",
   "execution_count": null,
   "metadata": {},
   "outputs": [
    {
     "ename": "AttributeError",
     "evalue": "'OpenSearchCodeInterpreter' object has no attribute 'prompt'",
     "output_type": "error",
     "traceback": [
      "\u001b[0;31m---------------------------------------------------------------------------\u001b[0m",
      "\u001b[0;31mAttributeError\u001b[0m                            Traceback (most recent call last)",
      "Cell \u001b[0;32mIn[10], line 1\u001b[0m\n\u001b[0;32m----> 1\u001b[0m osci\u001b[39m.\u001b[39;49mprompt\n",
      "\u001b[0;31mAttributeError\u001b[0m: 'OpenSearchCodeInterpreter' object has no attribute 'prompt'"
     ]
    }
   ],
   "source": [
    "osci.prompt"
   ]
  }
 ],
 "metadata": {
  "kernelspec": {
   "display_name": ".venv",
   "language": "python",
   "name": "python3"
  },
  "language_info": {
   "codemirror_mode": {
    "name": "ipython",
    "version": 3
   },
   "file_extension": ".py",
   "mimetype": "text/x-python",
   "name": "python",
   "nbconvert_exporter": "python",
   "pygments_lexer": "ipython3",
   "version": "3.10.5"
  },
  "orig_nbformat": 4
 },
 "nbformat": 4,
 "nbformat_minor": 2
}

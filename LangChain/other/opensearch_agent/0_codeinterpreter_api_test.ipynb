{
 "cells": [
  {
   "cell_type": "code",
   "execution_count": 27,
   "metadata": {},
   "outputs": [],
   "source": [
    "# !pip install codeinterpreterapi\n",
    "# !pip install --upgrade pip"
   ]
  },
  {
   "cell_type": "code",
   "execution_count": 28,
   "metadata": {},
   "outputs": [],
   "source": [
    "# !pip install -U \"langchain<0.0.233\""
   ]
  },
  {
   "cell_type": "code",
   "execution_count": 29,
   "metadata": {},
   "outputs": [
    {
     "data": {
      "text/plain": [
       "True"
      ]
     },
     "execution_count": 29,
     "metadata": {},
     "output_type": "execute_result"
    }
   ],
   "source": [
    "from dotenv import find_dotenv,load_dotenv\n",
    "load_dotenv(find_dotenv())"
   ]
  },
  {
   "cell_type": "code",
   "execution_count": 30,
   "metadata": {},
   "outputs": [],
   "source": [
    "top_k = 10000\n",
    "user_input = \\\n",
    "    '2010年以降のレシピのうち、カロリーが高い順に100個のレシピのカロリーの散布図を書いてください。'"
   ]
  },
  {
   "cell_type": "code",
   "execution_count": 64,
   "metadata": {},
   "outputs": [
    {
     "name": "stderr",
     "output_type": "stream",
     "text": [
      "Unclosed client session\n",
      "client_session: <aiohttp.client.ClientSession object at 0x7fea4c2f21d0>\n",
      "Unclosed connector\n",
      "connections: ['[(<aiohttp.client_proto.ResponseHandler object at 0x7fea4c2bf0a0>, 1291141.521073457)]']\n",
      "connector: <aiohttp.connector.TCPConnector object at 0x7fea4c2f2b30>\n"
     ]
    },
    {
     "name": "stdout",
     "output_type": "stream",
     "text": [
      "INFO: Using a LocalBox which is not isolated.\n",
      "      This is only for testing and development.\n",
      "      Make sure to put an API-Key in production.\n",
      "\n"
     ]
    },
    {
     "data": {
      "text/plain": [
       "Status(started)"
      ]
     },
     "execution_count": 64,
     "metadata": {},
     "output_type": "execute_result"
    }
   ],
   "source": [
    "from codeboxapi import CodeBox\n",
    "codebox = CodeBox()\n",
    "await codebox.astart()"
   ]
  },
  {
   "cell_type": "code",
   "execution_count": 32,
   "metadata": {},
   "outputs": [
    {
     "name": "stdout",
     "output_type": "stream",
     "text": [
      "test\n",
      "\n"
     ]
    }
   ],
   "source": [
    "from codeboxapi.schema import CodeBoxOutput  # type: ignore\n",
    "code = 'print(\"test\")'\n",
    "output: CodeBoxOutput = await codebox.arun(code)\n",
    "print(output.content)"
   ]
  },
  {
   "cell_type": "code",
   "execution_count": 33,
   "metadata": {},
   "outputs": [],
   "source": [
    "# !pip install opensearch-py"
   ]
  },
  {
   "cell_type": "code",
   "execution_count": 34,
   "metadata": {},
   "outputs": [],
   "source": [
    "import os,openai,json\n",
    "from dotenv import find_dotenv,load_dotenv\n",
    "load_dotenv(find_dotenv())\n",
    "\n",
    "openai.api_key = os.environ['OPENAI_API_KEY']\n",
    "from langchain.chat_models import ChatOpenAI\n",
    "from langchain.prompts.chat import HumanMessage\n",
    "\n",
    "from opensearchpy import OpenSearch"
   ]
  },
  {
   "cell_type": "code",
   "execution_count": 35,
   "metadata": {},
   "outputs": [],
   "source": [
    "SERVICE_URI = 'localhost:9200'\n",
    "INDEX_NAME = 'epicurious-recipes'\n",
    "os_client = OpenSearch(hosts=SERVICE_URI, ssl_enable=True)"
   ]
  },
  {
   "cell_type": "code",
   "execution_count": 36,
   "metadata": {},
   "outputs": [
    {
     "name": "stdout",
     "output_type": "stream",
     "text": [
      "{\n",
      "  \"properties\": {\n",
      "    \"calories\": {\n",
      "      \"type\": \"float\"\n",
      "    },\n",
      "    \"categories\": {\n",
      "      \"type\": \"text\",\n",
      "      \"fields\": {\n",
      "        \"keyword\": {\n",
      "          \"type\": \"keyword\",\n",
      "          \"ignore_above\": 256\n",
      "        }\n",
      "      }\n",
      "    },\n",
      "    \"date\": {\n",
      "      \"type\": \"date\"\n",
      "    },\n",
      "    \"desc\": {\n",
      "      \"type\": \"text\",\n",
      "      \"fields\": {\n",
      "        \"keyword\": {\n",
      "          \"type\": \"keyword\",\n",
      "          \"ignore_above\": 256\n",
      "        }\n",
      "      }\n",
      "    },\n",
      "    \"directions\": {\n",
      "      \"type\": \"text\",\n",
      "      \"fields\": {\n",
      "        \"keyword\": {\n",
      "          \"type\": \"keyword\",\n",
      "          \"ignore_above\": 256\n",
      "        }\n",
      "      }\n",
      "    },\n",
      "    \"fat\": {\n",
      "      \"type\": \"float\"\n",
      "    },\n",
      "    \"ingredients\": {\n",
      "      \"type\": \"text\",\n",
      "      \"fields\": {\n",
      "        \"keyword\": {\n",
      "          \"type\": \"keyword\",\n",
      "          \"ignore_above\": 256\n",
      "        }\n",
      "      }\n",
      "    },\n",
      "    \"protein\": {\n",
      "      \"type\": \"float\"\n",
      "    },\n",
      "    \"rating\": {\n",
      "      \"type\": \"float\"\n",
      "    },\n",
      "    \"sodium\": {\n",
      "      \"type\": \"float\"\n",
      "    },\n",
      "    \"title\": {\n",
      "      \"type\": \"text\",\n",
      "      \"fields\": {\n",
      "        \"keyword\": {\n",
      "          \"type\": \"keyword\",\n",
      "          \"ignore_above\": 256\n",
      "        }\n",
      "      }\n",
      "    }\n",
      "  }\n",
      "}\n"
     ]
    }
   ],
   "source": [
    "mapping_data = os_client.indices.get_mapping(INDEX_NAME)\n",
    "mappings = mapping_data[INDEX_NAME]['mappings']\n",
    "print(json.dumps(mappings,indent=2))"
   ]
  },
  {
   "cell_type": "code",
   "execution_count": 37,
   "metadata": {},
   "outputs": [],
   "source": [
    "DSL_TEMPLATE = \"\"\"\\\n",
    "Given an input question, create a syntactically correct Elasticsearch query to run. \\\n",
    "Unless the user specifies in their question a specific number of examples they wish to obtain, \\\n",
    "always limit your query to at most {top_k} results. \\\n",
    "You can order the results by a relevant column to return the most interesting examples in the database.\n",
    "\n",
    "Unless told to do not query for all the columns from a specific index, \\\n",
    "only ask for a the few relevant columns given the question.\n",
    "\n",
    "Pay attention to use only the column names that you can see in the mapping description. \\\n",
    "Be careful to not query for columns that do not exist. Also, pay attention to which column is in which index. \\\n",
    "Return the query as valid json.\n",
    "\n",
    "Use the following format:\n",
    "\n",
    "Question: Question here\n",
    "ESQuery: Elasticsearch Query formatted as json\n",
    "\n",
    "Mapping: {mapping}\n",
    "\n",
    "Question: {input}\n",
    "ESQuery:\n",
    "\"\"\""
   ]
  },
  {
   "cell_type": "code",
   "execution_count": 38,
   "metadata": {},
   "outputs": [],
   "source": [
    "def get_os_dsl(query,k):\n",
    "    prompt = DSL_TEMPLATE.format(\n",
    "        top_k=k,\n",
    "        mapping=json.dumps(mappings,indent=2),\n",
    "        input=query\n",
    "    )\n",
    "    chat = ChatOpenAI()\n",
    "    messages = [HumanMessage(content=prompt)]\n",
    "    response = chat(messages)\n",
    "    # print(response.content)\n",
    "    return response.content"
   ]
  },
  {
   "cell_type": "code",
   "execution_count": 39,
   "metadata": {},
   "outputs": [],
   "source": [
    "query = get_os_dsl(user_input,top_k)\n",
    "# print(query)"
   ]
  },
  {
   "cell_type": "code",
   "execution_count": 40,
   "metadata": {},
   "outputs": [
    {
     "name": "stdout",
     "output_type": "stream",
     "text": [
      "{\n",
      "  \"size\": 100,\n",
      "  \"query\": {\n",
      "    \"range\": {\n",
      "      \"date\": {\n",
      "        \"gte\": \"2010-01-01\"\n",
      "      }\n",
      "    }\n",
      "  },\n",
      "  \"sort\": [\n",
      "    {\n",
      "      \"calories\": {\n",
      "        \"order\": \"desc\"\n",
      "      }\n",
      "    }\n",
      "  ],\n",
      "  \"_source\": [\n",
      "    \"calories\"\n",
      "  ]\n",
      "}\n"
     ]
    }
   ],
   "source": [
    "print(query)"
   ]
  },
  {
   "cell_type": "code",
   "execution_count": 41,
   "metadata": {},
   "outputs": [],
   "source": [
    "result = os_client.search(index=INDEX_NAME,body=json.loads(query))\n",
    "# print(json.dumps(res,indent=2))"
   ]
  },
  {
   "cell_type": "code",
   "execution_count": 72,
   "metadata": {},
   "outputs": [],
   "source": [
    "template = '''\\\n",
    "## Input\n",
    "{user_input}\n",
    "\n",
    "## Query\n",
    "{query}\n",
    "\n",
    "## Instruction\n",
    "[Input]に対して、OpenSearchで[Query]を入力し検索を行い、検索結果をresultに入力しました。\n",
    "resultを用いて[Input]に対する回答を得るためのPythonコードを書いてください。\n",
    "resultは入力済みの状態から開始してください。\n",
    "\n",
    "'''"
   ]
  },
  {
   "cell_type": "code",
   "execution_count": 73,
   "metadata": {},
   "outputs": [],
   "source": [
    "prompt = template.format(\n",
    "    user_input=user_input,query=query\n",
    ")"
   ]
  },
  {
   "cell_type": "code",
   "execution_count": 74,
   "metadata": {},
   "outputs": [
    {
     "name": "stdout",
     "output_type": "stream",
     "text": [
      "## Input\n",
      "2010年以降のレシピのうち、カロリーが高い順に100個のレシピのカロリーの散布図を書いてください。\n",
      "\n",
      "## Query\n",
      "{\n",
      "  \"size\": 100,\n",
      "  \"query\": {\n",
      "    \"range\": {\n",
      "      \"date\": {\n",
      "        \"gte\": \"2010-01-01\"\n",
      "      }\n",
      "    }\n",
      "  },\n",
      "  \"sort\": [\n",
      "    {\n",
      "      \"calories\": {\n",
      "        \"order\": \"desc\"\n",
      "      }\n",
      "    }\n",
      "  ],\n",
      "  \"_source\": [\n",
      "    \"calories\"\n",
      "  ]\n",
      "}\n",
      "\n",
      "## Instruction\n",
      "[Input]に対して、OpenSearchで[Query]を入力し検索を行い、検索結果をresultに入力しました。\n",
      "resultを用いて[Input]に対する回答を得るためのPythonコードを書いてください。\n",
      "resultは入力済みの状態から開始してください。\n",
      "\n",
      "\n"
     ]
    }
   ],
   "source": [
    "print(prompt)"
   ]
  },
  {
   "cell_type": "code",
   "execution_count": 75,
   "metadata": {},
   "outputs": [],
   "source": [
    "from langchain.chat_models import ChatOpenAI\n",
    "from langchain.prompts.chat import HumanMessage\n",
    "chat = ChatOpenAI(temperature=0.)\n",
    "messages = [HumanMessage(content=prompt)]\n",
    "response = chat(messages)"
   ]
  },
  {
   "cell_type": "code",
   "execution_count": 76,
   "metadata": {},
   "outputs": [
    {
     "name": "stdout",
     "output_type": "stream",
     "text": [
      "import matplotlib.pyplot as plt\n",
      "\n",
      "# カロリーのリストを作成\n",
      "calories = [hit[\"_source\"][\"calories\"] for hit in result[\"hits\"][\"hits\"]]\n",
      "\n",
      "# カロリーの散布図を作成\n",
      "plt.scatter(range(1, len(calories)+1), calories)\n",
      "plt.xlabel(\"Recipe\")\n",
      "plt.ylabel(\"Calories\")\n",
      "plt.title(\"Calories of Recipes (High to Low)\")\n",
      "plt.show()\n"
     ]
    }
   ],
   "source": [
    "print(response.content)"
   ]
  },
  {
   "cell_type": "code",
   "execution_count": 77,
   "metadata": {},
   "outputs": [],
   "source": [
    "code = f'result = {json.dumps(result).replace(\"false\",\"False\").replace(\"null\",\"None\")}\\n\\n'+response.content"
   ]
  },
  {
   "cell_type": "code",
   "execution_count": 78,
   "metadata": {},
   "outputs": [
    {
     "name": "stdout",
     "output_type": "stream",
     "text": [
      "result = {\"took\": 49, \"timed_out\": False, \"_shards\": {\"total\": 1, \"successful\": 1, \"skipped\": 0, \"failed\": 0}, \"hits\": {\"total\": {\"value\": 3948, \"relation\": \"eq\"}, \"max_score\": None, \"hits\": [{\"_index\": \"epicurious-recipes\", \"_id\": \"jJeRh4kBirRErZ0HS2YE\", \"_score\": None, \"_source\": {\"calories\": 12213.0}, \"sort\": [12213.0]}, {\"_index\": \"epicurious-recipes\", \"_id\": \"XZeRh4kBirRErZ0HTnXs\", \"_score\": \n",
      "\n",
      "s-recipes\", \"_id\": \"Q5eRh4kBirRErZ0HUoe9\", \"_score\": None, \"_source\": {\"calories\": 1591.0}, \"sort\": [1591.0]}]}}\n",
      "\n",
      "import matplotlib.pyplot as plt\n",
      "\n",
      "# カロリーのリストを作成\n",
      "calories = [hit[\"_source\"][\"calories\"] for hit in result[\"hits\"][\"hits\"]]\n",
      "\n",
      "# カロリーの散布図を作成\n",
      "plt.scatter(range(1, len(calories)+1), calories)\n",
      "plt.xlabel(\"Recipe\")\n",
      "plt.ylabel(\"Calories\")\n",
      "plt.title(\"Calories of Recipes (High to Low)\")\n",
      "plt.show()\n"
     ]
    }
   ],
   "source": [
    "print(code[:400])\n",
    "print()\n",
    "print(code[-400:])"
   ]
  },
  {
   "cell_type": "code",
   "execution_count": 79,
   "metadata": {},
   "outputs": [],
   "source": [
    "import uuid, base64, re\n",
    "from io import BytesIO"
   ]
  },
  {
   "cell_type": "code",
   "execution_count": 80,
   "metadata": {},
   "outputs": [],
   "source": [
    "import asyncio\n",
    "from pydantic import BaseModel\n",
    "class File(BaseModel):\n",
    "    name: str\n",
    "    content: bytes\n",
    "\n",
    "    @classmethod\n",
    "    def from_path(cls, path: str):\n",
    "        with open(path, \"rb\") as f:\n",
    "            path = path.split(\"/\")[-1]\n",
    "            return cls(name=path, content=f.read())\n",
    "\n",
    "    @classmethod\n",
    "    async def afrom_path(cls, path: str):\n",
    "        return await asyncio.to_thread(cls.from_path, path)\n",
    "\n",
    "    @classmethod\n",
    "    def from_url(cls, url: str):\n",
    "        import requests  # type: ignore\n",
    "\n",
    "        r = requests.get(url)\n",
    "        return cls(name=url.split(\"/\")[-1], content=r.content)\n",
    "\n",
    "    @classmethod\n",
    "    async def afrom_url(cls, url: str):\n",
    "        import aiohttp\n",
    "\n",
    "        async with aiohttp.ClientSession() as session:\n",
    "            async with session.get(url) as r:\n",
    "                return cls(name=url.split(\"/\")[-1], content=await r.read())\n",
    "\n",
    "    def save(self, path: str):\n",
    "        with open(path, \"wb\") as f:\n",
    "            f.write(self.content)\n",
    "\n",
    "    async def asave(self, path: str):\n",
    "        await asyncio.to_thread(self.save, path)\n",
    "\n",
    "    def show_image(self):\n",
    "        try:\n",
    "            from PIL import Image  # type: ignore\n",
    "        except ImportError:\n",
    "            print(\n",
    "                \"Please install it with `pip install codeinterpreterapi[image_support]` to display images.\"\n",
    "            )\n",
    "            exit(1)\n",
    "\n",
    "        from io import BytesIO\n",
    "\n",
    "        img_io = BytesIO(self.content)\n",
    "        img = Image.open(img_io)\n",
    "\n",
    "        # Convert image to RGB if it's not\n",
    "        if img.mode not in ('RGB', 'L'):  # L is for greyscale images\n",
    "            img = img.convert('RGB')\n",
    "\n",
    "        # Display the image\n",
    "        try:\n",
    "            # Try to get the IPython shell if available.\n",
    "            shell = get_ipython().__class__.__name__  # type: ignore\n",
    "\n",
    "            # If the shell is ZMQInteractiveShell, it means we're in a Jupyter notebook or similar.\n",
    "            if shell == 'ZMQInteractiveShell':\n",
    "                from IPython.display import display\n",
    "                display(img)\n",
    "            else:\n",
    "                # We're not in a Jupyter notebook.\n",
    "                img.show()\n",
    "        except NameError:\n",
    "            # We're probably not in an IPython environment, use PIL's show.\n",
    "            img.show()\n",
    "\n",
    "    def __str__(self):\n",
    "        return self.name\n",
    "\n",
    "    def __repr__(self):\n",
    "        return f\"File(name={self.name})\""
   ]
  },
  {
   "cell_type": "code",
   "execution_count": 81,
   "metadata": {},
   "outputs": [],
   "source": [
    "output: CodeBoxOutput = await codebox.arun(code)\n",
    "output_files = []\n",
    "if output.type == \"image/png\":\n",
    "    filename = f\"image-{uuid.uuid4()}.png\"\n",
    "    file_buffer = BytesIO(base64.b64decode(output.content))\n",
    "    file_buffer.name = filename\n",
    "    output_files.append(File(name=filename, content=file_buffer.read()))\n",
    "# print(output.content)"
   ]
  },
  {
   "cell_type": "code",
   "execution_count": 82,
   "metadata": {},
   "outputs": [
    {
     "data": {
      "image/png": "[encoded data removed]",
      "text/plain": [
       "<PIL.Image.Image image mode=RGB size=589x455>"
      ]
     },
     "metadata": {},
     "output_type": "display_data"
    }
   ],
   "source": [
    "for f in output_files:\n",
    "    f.show_image()"
   ]
  },
  {
   "cell_type": "code",
   "execution_count": 87,
   "metadata": {},
   "outputs": [
    {
     "name": "stdout",
     "output_type": "stream",
     "text": [
      "INFO: Using a LocalBox which is not isolated.\n",
      "      This is only for testing and development.\n",
      "      Make sure to put an API-Key in production.\n",
      "\n",
      "AI:  Here is the plot of a sine wave:\n",
      "\n",
      "The x-axis represents the values of x ranging from 0 to 2π, and the y-axis represents the corresponding values of sin(x). The plot shows the periodic nature of the sine function, with peaks and valleys occurring at regular intervals.\n"
     ]
    },
    {
     "data": {
      "image/png": "[encoded data removed]",
      "text/plain": [
       "<PIL.Image.Image image mode=RGB size=587x455>"
      ]
     },
     "metadata": {},
     "output_type": "display_data"
    }
   ],
   "source": [
    "from codeinterpreterapi import CodeInterpreterSession\n",
    "import langchain; langchain.debug=False\n",
    "import os\n",
    "async with CodeInterpreterSession(openai_api_key=os.environ['OPENAI_API_KEY'],model=\"gpt-3.5-turbo\") as session:\n",
    "    response = await session.generate_response(\n",
    "        \"Plot a sin wave and show it to me.\"\n",
    "    )\n",
    "    print(\"AI: \", response.content)\n",
    "    for file in response.files:\n",
    "        file.show_image()"
   ]
  },
  {
   "cell_type": "code",
   "execution_count": 86,
   "metadata": {},
   "outputs": [
    {
     "name": "stdout",
     "output_type": "stream",
     "text": [
      "INFO: Using a LocalBox which is not isolated.\n",
      "      This is only for testing and development.\n",
      "      Make sure to put an API-Key in production.\n",
      "\n",
      "AI:  Here is the plot of Tesla stock price for the year-to-date period in 2023. The y-axis represents the stock price in USD, and the x-axis represents the date.\n"
     ]
    },
    {
     "data": {
      "image/png": "[encoded data removed]",
      "text/plain": [
       "<PIL.Image.Image image mode=RGB size=850x547>"
      ]
     },
     "metadata": {},
     "output_type": "display_data"
    }
   ],
   "source": [
    "from codeinterpreterapi import CodeInterpreterSession\n",
    "import langchain; langchain.debug=False\n",
    "import openai; openai.api_key = os.environ['OPENAI_API_KEY']\n",
    "session = CodeInterpreterSession(openai_api_key=os.environ['OPENAI_API_KEY'], model=\"gpt-3.5-turbo-0613\")\n",
    "await session.astart()\n",
    "output = await session.generate_response(\n",
    "    \"Plot the Tesla stock for 2023 YTD\",\n",
    "    detailed_error = True\n",
    ")\n",
    "\n",
    "print(\"AI: \", output.content)\n",
    "for file in output.files:\n",
    "    file.show_image()\n",
    "\n",
    "await session.astop()"
   ]
  },
  {
   "cell_type": "code",
   "execution_count": 88,
   "metadata": {},
   "outputs": [
    {
     "data": {
      "text/plain": [
       "Status(stopped)"
      ]
     },
     "execution_count": 88,
     "metadata": {},
     "output_type": "execute_result"
    }
   ],
   "source": [
    "await codebox.astop()"
   ]
  }
 ],
 "metadata": {
  "kernelspec": {
   "display_name": ".venv",
   "language": "python",
   "name": "python3"
  },
  "language_info": {
   "codemirror_mode": {
    "name": "ipython",
    "version": 3
   },
   "file_extension": ".py",
   "mimetype": "text/x-python",
   "name": "python",
   "nbconvert_exporter": "python",
   "pygments_lexer": "ipython3",
   "version": "3.10.5"
  },
  "orig_nbformat": 4
 },
 "nbformat": 4,
 "nbformat_minor": 2
}

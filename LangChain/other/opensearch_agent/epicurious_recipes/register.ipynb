{
 "cells": [
  {
   "cell_type": "code",
   "execution_count": 2,
   "metadata": {},
   "outputs": [],
   "source": [
    "# %pip install opensearch-py"
   ]
  },
  {
   "cell_type": "code",
   "execution_count": 12,
   "metadata": {},
   "outputs": [],
   "source": [
    "import json\n",
    "from opensearchpy import helpers, OpenSearch\n",
    "\n",
    "\n",
    "SERVICE_URI = 'http://localhost:9200'\n",
    "INDEX_NAME = 'epicurious-recipes'\n",
    "\n",
    "os_client = OpenSearch(hosts=SERVICE_URI, ssl_enable=True)\n",
    "\n",
    "def load_data():\n",
    "    with open('full_format_recipes.json', 'r') as f:\n",
    "        data = json.load(f)\n",
    "        for i,recipe in enumerate(data):\n",
    "            with open(f\"recipes/{str(i).zfill(10)}.json\", \"w\") as f:\n",
    "                f.write(json.dumps(recipe,indent=2))\n",
    "            yield {'_index': INDEX_NAME, '_source': recipe}"
   ]
  },
  {
   "cell_type": "code",
   "execution_count": 13,
   "metadata": {},
   "outputs": [
    {
     "data": {
      "text/plain": [
       "(20130, [])"
      ]
     },
     "execution_count": 13,
     "metadata": {},
     "output_type": "execute_result"
    }
   ],
   "source": [
    "helpers.bulk(os_client, load_data())"
   ]
  },
  {
   "cell_type": "code",
   "execution_count": 8,
   "metadata": {},
   "outputs": [],
   "source": [
    "import pprint\n",
    "\n",
    "INDEX_NAME = 'epicurious-recipes'\n",
    "mapping_data = os_client.indices.get_mapping(INDEX_NAME)\n",
    "\n",
    "# Find index doc_type\n",
    "doc_type = list(mapping_data[INDEX_NAME][\"mappings\"].keys())[0]\n",
    "\n",
    "schema = mapping_data[INDEX_NAME][\"mappings\"][doc_type]\n",
    "fields =  list(schema.keys())\n",
    "# pprint(fields)\n",
    "# pprint(schema)"
   ]
  },
  {
   "cell_type": "code",
   "execution_count": 10,
   "metadata": {},
   "outputs": [
    {
     "name": "stdout",
     "output_type": "stream",
     "text": [
      "{'calories': {'type': 'float'}, 'categories': {'type': 'text', 'fields': {'keyword': {'type': 'keyword', 'ignore_above': 256}}}, 'date': {'type': 'date'}, 'desc': {'type': 'text', 'fields': {'keyword': {'type': 'keyword', 'ignore_above': 256}}}, 'directions': {'type': 'text', 'fields': {'keyword': {'type': 'keyword', 'ignore_above': 256}}}, 'fat': {'type': 'float'}, 'ingredients': {'type': 'text', 'fields': {'keyword': {'type': 'keyword', 'ignore_above': 256}}}, 'protein': {'type': 'float'}, 'rating': {'type': 'float'}, 'sodium': {'type': 'float'}, 'title': {'type': 'text', 'fields': {'keyword': {'type': 'keyword', 'ignore_above': 256}}}}\n",
      "['calories', 'categories', 'date', 'desc', 'directions', 'fat', 'ingredients', 'protein', 'rating', 'sodium', 'title']\n"
     ]
    }
   ],
   "source": [
    "print(schema)\n",
    "print(fields)"
   ]
  },
  {
   "cell_type": "code",
   "execution_count": 11,
   "metadata": {},
   "outputs": [],
   "source": [
    "import json\n",
    "with open('mapping.json', 'w') as f:\n",
    "    f.write(json.dumps(schema, indent=2))"
   ]
  }
 ],
 "metadata": {
  "kernelspec": {
   "display_name": ".venv",
   "language": "python",
   "name": "python3"
  },
  "language_info": {
   "codemirror_mode": {
    "name": "ipython",
    "version": 3
   },
   "file_extension": ".py",
   "mimetype": "text/x-python",
   "name": "python",
   "nbconvert_exporter": "python",
   "pygments_lexer": "ipython3",
   "version": "3.10.13"
  }
 },
 "nbformat": 4,
 "nbformat_minor": 2
}

{
 "cells": [
  {
   "attachments": {},
   "cell_type": "markdown",
   "metadata": {},
   "source": [
    "## Import"
   ]
  },
  {
   "cell_type": "code",
   "execution_count": 1,
   "metadata": {},
   "outputs": [],
   "source": [
    "import openai,os,json\n",
    "from dotenv import load_dotenv, find_dotenv\n",
    "_ = load_dotenv(find_dotenv())\n",
    "openai.api_key = os.environ['OPENAI_API_KEY']"
   ]
  },
  {
   "attachments": {},
   "cell_type": "markdown",
   "metadata": {},
   "source": [
    "## Example from OpenAI Document"
   ]
  },
  {
   "cell_type": "code",
   "execution_count": 2,
   "metadata": {},
   "outputs": [
    {
     "name": "stdout",
     "output_type": "stream",
     "text": [
      "message>>>\n",
      " {\n",
      "  \"role\": \"assistant\",\n",
      "  \"content\": null,\n",
      "  \"function_call\": {\n",
      "    \"name\": \"get_current_weather\",\n",
      "    \"arguments\": \"{\\n  \\\"location\\\": \\\"Boston\\\"\\n}\"\n",
      "  }\n",
      "} \n",
      "\n",
      "\n",
      "response>>>\n",
      " ボストンの現在の天気は晴れで、風も強いです。気温は72度です。 \n",
      "\n",
      "\n"
     ]
    }
   ],
   "source": [
    "def get_current_weather(location, unit=\"fahrenheit\"):\n",
    "    weather_info = {\n",
    "        \"location\": location,\n",
    "        \"temperature\": \"72\",\n",
    "        \"unit\": unit,\n",
    "        \"forecast\": [\"sunny\", \"windy\"],\n",
    "    }\n",
    "    return json.dumps(weather_info)\n",
    "\n",
    "def run_conversation(input):\n",
    "    response = openai.ChatCompletion.create(\n",
    "        model=\"gpt-3.5-turbo-0613\",\n",
    "        messages=[{\"role\": \"user\", \"content\": input}],\n",
    "        functions=[\n",
    "            {\n",
    "                \"name\": \"get_current_weather\",\n",
    "                \"description\": \"指定した場所の現在の天気を取得\",\n",
    "                \"parameters\": {\n",
    "                    \"type\": \"object\",\n",
    "                    \"properties\": {\n",
    "                        \"location\": {\n",
    "                            \"type\": \"string\",\n",
    "                            \"description\": \"都市と州\",\n",
    "                        },\n",
    "                        \"unit\": {\"type\": \"string\", \"enum\": [\"celsius\", \"fahrenheit\"]},\n",
    "                    },\n",
    "                    \"required\": [\"location\"],\n",
    "                },\n",
    "            }\n",
    "        ],\n",
    "        function_call=\"auto\",\n",
    "    )\n",
    "    message = response[\"choices\"][0][\"message\"]\n",
    "    print(\"message>>>\\n\", message, \"\\n\\n\")\n",
    "\n",
    "    if message.get(\"function_call\"):\n",
    "        function_name = message[\"function_call\"][\"name\"]\n",
    "\n",
    "        function_response = get_current_weather(\n",
    "            location=message.get(\"location\"),\n",
    "            unit=message.get(\"unit\"),\n",
    "        )\n",
    "\n",
    "        second_response = openai.ChatCompletion.create(\n",
    "            model=\"gpt-3.5-turbo-0613\",\n",
    "            messages=[\n",
    "                {\"role\": \"user\", \"content\": input},\n",
    "                message,\n",
    "                {\n",
    "                    \"role\": \"function\",\n",
    "                    \"name\": function_name,\n",
    "                    \"content\": function_response,\n",
    "                },\n",
    "            ],\n",
    "        )\n",
    "        return second_response\n",
    "\n",
    "print(\"response>>>\\n\", run_conversation(\"ボストンの天気はどうですか？\")[\"choices\"][0][\"message\"][\"content\"], \"\\n\\n\")"
   ]
  },
  {
   "attachments": {},
   "cell_type": "markdown",
   "metadata": {},
   "source": [
    "## More Complex Example"
   ]
  },
  {
   "cell_type": "code",
   "execution_count": 3,
   "metadata": {},
   "outputs": [],
   "source": [
    "recipe_text = \"\"\"\\\n",
    "シンプルなトマトパスタのレシピです。\n",
    "材料: パスタ（お好みの種類）: 100g、トマト缶: 60g、にんにく: 1かけ、オリーブオイル: 大さじ1、塩: 適量、こしょう: 適量、パルメザンチーズ（お好みで）: 適量\n",
    "鍋にお湯を沸かし、パスタを袋の表示通りに茹でます。\n",
    "別のフライパンにオリーブオイルを熱し、みじん切りにしたにんにくを加えて弱火で炒めます。\n",
    "トマト缶を加え、塩とこしょうで味を調えます。\n",
    "トマトソースを弱火で加熱し、少しとろみがつくまで煮込みます。\n",
    "茹で上がったパスタをソースに加え、全体がよく絡まるように混ぜます。\n",
    "お皿に盛り付け、お好みでパルメザンチーズをかけて完成です。\\\n",
    "\"\"\""
   ]
  },
  {
   "cell_type": "code",
   "execution_count": 4,
   "metadata": {},
   "outputs": [],
   "source": [
    "recipe_format = {\n",
    "    'name': 'string: レシピ名。',\n",
    "    'appliances': ['string: 使用機器'],\n",
    "    'ingredients': [\n",
    "        {'name': 'string: 材料名','amount': 'string: 分量'}\n",
    "    ],\n",
    "    'instructions': ['string: 手順']\n",
    "}"
   ]
  },
  {
   "cell_type": "code",
   "execution_count": 5,
   "metadata": {},
   "outputs": [
    {
     "name": "stdout",
     "output_type": "stream",
     "text": [
      "{\n",
      "  \"name\": \"シンプルなトマトパスタ\",\n",
      "  \"ingredients\": [\n",
      "    {\n",
      "      \"name\": \"パスタ\",\n",
      "      \"amount\": \"100g\"\n",
      "    },\n",
      "    {\n",
      "      \"name\": \"トマト缶\",\n",
      "      \"amount\": \"60g\"\n",
      "    },\n",
      "    {\n",
      "      \"name\": \"にんにく\",\n",
      "      \"amount\": \"1かけ\"\n",
      "    },\n",
      "    {\n",
      "      \"name\": \"オリーブオイル\",\n",
      "      \"amount\": \"大さじ1\"\n",
      "    },\n",
      "    {\n",
      "      \"name\": \"塩\",\n",
      "      \"amount\": \"適量\"\n",
      "    },\n",
      "    {\n",
      "      \"name\": \"こしょう\",\n",
      "      \"amount\": \"適量\"\n",
      "    },\n",
      "    {\n",
      "      \"name\": \"パルメザンチーズ（お好みで）\",\n",
      "      \"amount\": \"適量\"\n",
      "    }\n",
      "  ],\n",
      "  \"instructions\": [\n",
      "    \"鍋にお湯を沸かし、パスタを袋の表示通りに茹でます。\",\n",
      "    \"別のフライパンにオリーブオイルを熱し、みじん切りにしたにんにくを加えて弱火で炒めます。\",\n",
      "    \"トマト缶を加え、塩とこしょうで味を調えます。\",\n",
      "    \"トマトソースを弱火で加熱し、少しとろみがつくまで煮込みます。\",\n",
      "    \"茹で上がったパスタをソースに加え、全体がよく絡まるように混ぜます。\",\n",
      "    \"お皿に盛り付け、お好みでパルメザンチーズをかけて完成です。\"\n",
      "  ]\n",
      "}\n"
     ]
    }
   ],
   "source": [
    "response = openai.ChatCompletion.create(\n",
    "    model=\"gpt-3.5-turbo-0613\",\n",
    "    messages=[{\"role\": \"user\", \"content\": recipe_text}],\n",
    "    functions=[\n",
    "        {\n",
    "            \"name\": \"get_recipe\",\n",
    "            \"description\": \"イベント情報をJson形式で返す\",\n",
    "            \"parameters\": {\n",
    "                \"type\": \"object\",\n",
    "                \"properties\": {\n",
    "                    \"name\": {\n",
    "                        \"type\": \"string\", \"description\": \"レシピ名\"\n",
    "                    },\n",
    "                    \"appliances\": {\n",
    "                        \"type\": \"array\", \"description\": \"使用機器のリスト\",\n",
    "                        \"items\": {\n",
    "                            \"type\": \"string\", \"description\": \"使用機器\"\n",
    "                        }\n",
    "                    },\n",
    "                    \"ingredients\": {\n",
    "                        \"type\": \"object\", \"description\": \"材料のリスト\",\n",
    "                        \"properties\": {\n",
    "                            \"name\": {\n",
    "                                \"type\": \"string\", \"description\": \"材料名\"\n",
    "                            },\n",
    "                            \"amount\": {\n",
    "                                \"type\": \"string\", \"description\": \"材料の分量。例：200g, 大さじ1, 2個, etc\",\n",
    "                            }\n",
    "                        }\n",
    "                    },\n",
    "                    \"instructions\": {\n",
    "                        \"type\": \"array\", \"description\": \"調理手順のリスト\",\n",
    "                        \"items\": {\n",
    "                            \"type\": \"string\", \"description\": \"調理手順\"\n",
    "                        }\n",
    "                    },\n",
    "                },\n",
    "                # \"required\": [\"name\",\"appliances\",\"ingredients\",\"instructions\"],\n",
    "            },\n",
    "        }\n",
    "    ],\n",
    "    function_call={\"name\": \"get_recipe\"},\n",
    ")\n",
    "message = response[\"choices\"][0][\"message\"]\n",
    "print(json.dumps(json.loads(message['function_call']['arguments']),indent=2,ensure_ascii=False))"
   ]
  }
 ],
 "metadata": {
  "kernelspec": {
   "display_name": ".venv",
   "language": "python",
   "name": "python3"
  },
  "language_info": {
   "codemirror_mode": {
    "name": "ipython",
    "version": 3
   },
   "file_extension": ".py",
   "mimetype": "text/x-python",
   "name": "python",
   "nbconvert_exporter": "python",
   "pygments_lexer": "ipython3",
   "version": "3.10.5"
  },
  "orig_nbformat": 4
 },
 "nbformat": 4,
 "nbformat_minor": 2
}

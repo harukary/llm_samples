{
 "cells": [
  {
   "cell_type": "code",
   "execution_count": 4,
   "metadata": {},
   "outputs": [],
   "source": [
    "# %pip install soundfile sounddevice"
   ]
  },
  {
   "cell_type": "code",
   "execution_count": 5,
   "metadata": {},
   "outputs": [],
   "source": [
    "from dotenv import load_dotenv, find_dotenv; load_dotenv(find_dotenv())\n",
    "from pathlib import Path\n",
    "from openai import OpenAI\n",
    "import io\n",
    "import soundfile as sf\n",
    "import sounddevice as sd\n",
    "client = OpenAI()\n",
    "\n",
    "speech_file_path = \"output/speech.mp3\"\n",
    "response = client.audio.speech.create(\n",
    "  model=\"tts-1\",\n",
    "  voice=\"alloy\",\n",
    "  response_format=\"opus\",\n",
    "  input=\"Today is a wonderful day to build something people love!\"\n",
    ")\n",
    "\n",
    "# response.stream_to_file(speech_file_path)\n",
    "buffer = io.BytesIO()\n",
    "for chunk in response.iter_bytes(chunk_size=4096):\n",
    "  buffer.write(chunk)\n",
    "buffer.seek(0)\n",
    "\n",
    "with sf.SoundFile(buffer, 'r') as sound_file:\n",
    "  data = sound_file.read(dtype='int16')\n",
    "  sd.play(data, sound_file.samplerate)\n",
    "  sd.wait()"
   ]
  },
  {
   "cell_type": "code",
   "execution_count": 4,
   "metadata": {},
   "outputs": [],
   "source": [
    "from dotenv import load_dotenv, find_dotenv; load_dotenv(find_dotenv())\n",
    "from pathlib import Path\n",
    "from openai import OpenAI\n",
    "client = OpenAI()\n",
    "\n",
    "speech_file_path = \"output/speech1.mp3\"\n",
    "response = client.audio.speech.create(\n",
    "  model=\"tts-1\",\n",
    "  voice=\"nova\",\n",
    "  input=\"こんにちは！旬の大根を使って「鶏むねのみぞれ煮」はいかがですか？\"\n",
    ")\n",
    "\n",
    "response.stream_to_file(speech_file_path)"
   ]
  }
 ],
 "metadata": {
  "kernelspec": {
   "display_name": ".venv",
   "language": "python",
   "name": "python3"
  },
  "language_info": {
   "codemirror_mode": {
    "name": "ipython",
    "version": 3
   },
   "file_extension": ".py",
   "mimetype": "text/x-python",
   "name": "python",
   "nbconvert_exporter": "python",
   "pygments_lexer": "ipython3",
   "version": "3.10.5"
  }
 },
 "nbformat": 4,
 "nbformat_minor": 2
}
